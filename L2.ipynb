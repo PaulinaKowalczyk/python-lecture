{
 "cells": [
  {
   "cell_type": "markdown",
   "metadata": {},
   "source": [
    "# Język Python - Wykład 2."
   ]
  },
  {
   "cell_type": "markdown",
   "metadata": {},
   "source": [
    "## PEP 8 - Zasady formatowania kodu"
   ]
  },
  {
   "cell_type": "markdown",
   "metadata": {},
   "source": [
    "* http://www.python.org/dev/peps/pep-0008/\n",
    "* 4 spacje na jedno wcięcie kodu\n",
    "* Nie używać znaków tabulacji (``\\t``)\n",
    "* Nigdy nie mieszać znaków tabulacji ze spacjami do robienia wcięć jednym kodzie\n",
    "* Jedna pusta linia pomiędzy kodem funkcji i metod\n",
    "* Dwie puste linie pomiędzy kodem klas\n",
    "* Znak spacji po znaku ``,`` w słownikach, zbiorach, listach, tuplach, argumentach oraz po znaku ``:`` w słownikach (nie przed!)\n",
    "\n",
    "    Dobrze:\n",
    "        [1, 2, 3, 4]\n",
    "        {'black': 5, 'orange': 10}\n",
    "        f(1, 4)\n",
    "    \n",
    "    Źle:\n",
    "        [1,2,3,4]\n",
    "        [ 1,2,3,4 ]\n",
    "        { 'black' : 5, 'orange' : 10 }\n",
    "        f(1,4)\n",
    "        f( 1 , 4 )\n",
    "    \n",
    "* Znaki spacji przed i po wyrażeniach przypisania i porównania (z wyjątkiem listy argumentów)\n",
    "\n",
    "    Dobrze:\n",
    "        a = 5\n",
    "        b = [1, 2, 3, 4]\n",
    "        f(a=5, b=10)\n",
    "    \n",
    "    Źle:\n",
    "        a=5\n",
    "        a= 5\n",
    "        a =5\n",
    "        f(a = 5, b = 10)\n",
    "        f(a= 5, b= 10)\n",
    "\n",
    "* Bez spacji na brzegach nawiasowania i listy argumentów\n",
    "\n",
    "    Dobrze:\n",
    "        (a + 3) * (5 - b)\n",
    "        \n",
    "    Źle:\n",
    "        (a+3)*(5-b)\n",
    "        ( a + 3 ) * ( 5 - b )\n",
    "        \n",
    "\n",
    "* Bez spacji na brzegach docstringów jednoliniowych (więcej o zasadach pisania docstringów w PEP 257 http://www.python.org/dev/peps/pep-0257/)\n",
    "\n",
    "    Dobrze:\n",
    "        def make_squares(key, value=0):\n",
    "            \"\"\"Return a dictionary and a list...\"\"\"\n",
    "            d = {key: value}\n",
    "            l = [key, value]\n",
    "            return d, l\n",
    "    Źle:\n",
    "        def make_squares(key, value=0):\n",
    "            \"\"\"\n",
    "                Return a dictionary and a list...\n",
    "            \"\"\"\n",
    "            d = {key: value}\n",
    "            l = [key, value]\n",
    "            return d, l\n",
    "            "
   ]
  },
  {
   "cell_type": "markdown",
   "metadata": {},
   "source": [
    "## Listy - zaawansowane użycie"
   ]
  },
  {
   "cell_type": "markdown",
   "metadata": {},
   "source": [
    "### Przedłużanie listy"
   ]
  },
  {
   "cell_type": "code",
   "execution_count": null,
   "metadata": {
    "collapsed": false
   },
   "outputs": [],
   "source": [
    "extend_list = [1, 2, 3]\n",
    "extend_list.extend([4, 5, 6])\n",
    "extend_list"
   ]
  },
  {
   "cell_type": "markdown",
   "metadata": {},
   "source": [
    "### Usuwanie z listy"
   ]
  },
  {
   "cell_type": "code",
   "execution_count": null,
   "metadata": {
    "collapsed": false
   },
   "outputs": [],
   "source": [
    "del extend_list[2]\n",
    "extend_list"
   ]
  },
  {
   "cell_type": "code",
   "execution_count": null,
   "metadata": {
    "collapsed": false
   },
   "outputs": [],
   "source": [
    "del extend_list[1:3]\n",
    "extend_list"
   ]
  },
  {
   "cell_type": "code",
   "execution_count": null,
   "metadata": {
    "collapsed": false
   },
   "outputs": [],
   "source": [
    "del extend_list\n",
    "print(extend_list)"
   ]
  },
  {
   "cell_type": "markdown",
   "metadata": {},
   "source": [
    "### Lista jako stos"
   ]
  },
  {
   "cell_type": "code",
   "execution_count": null,
   "metadata": {
    "collapsed": false
   },
   "outputs": [],
   "source": [
    "stack = [3, 4, 5, 6, 7]\n",
    "stack.pop()"
   ]
  },
  {
   "cell_type": "code",
   "execution_count": null,
   "metadata": {
    "collapsed": false
   },
   "outputs": [],
   "source": [
    "stack.pop()"
   ]
  },
  {
   "cell_type": "code",
   "execution_count": null,
   "metadata": {
    "collapsed": false
   },
   "outputs": [],
   "source": [
    "stack"
   ]
  },
  {
   "cell_type": "code",
   "execution_count": null,
   "metadata": {
    "collapsed": false
   },
   "outputs": [],
   "source": [
    "stack.append(10)"
   ]
  },
  {
   "cell_type": "code",
   "execution_count": null,
   "metadata": {
    "collapsed": false
   },
   "outputs": [],
   "source": [
    "stack"
   ]
  },
  {
   "cell_type": "markdown",
   "metadata": {},
   "source": [
    "### Lista jako kolejka"
   ]
  },
  {
   "cell_type": "markdown",
   "metadata": {},
   "source": [
    "Listę można używać jak kolejkę, ale operacje na początku listy są nieefektywne:"
   ]
  },
  {
   "cell_type": "code",
   "execution_count": null,
   "metadata": {
    "collapsed": false
   },
   "outputs": [],
   "source": [
    "queue = [3, 4, 5, 6, 7]\n",
    "queue.pop(0)"
   ]
  },
  {
   "cell_type": "code",
   "execution_count": null,
   "metadata": {
    "collapsed": false
   },
   "outputs": [],
   "source": [
    "queue.append(10)\n",
    "queue"
   ]
  },
  {
   "cell_type": "markdown",
   "metadata": {},
   "source": [
    "Zamiast tego lepiej użyć specjalnie do tego przeznaczoną strukture deque z modułu standardowego collections:"
   ]
  },
  {
   "cell_type": "code",
   "execution_count": null,
   "metadata": {
    "collapsed": false
   },
   "outputs": [],
   "source": [
    "from collections import deque\n",
    "queue = deque([\"Eric\", \"John\", \"Michael\"])\n",
    "queue.append(\"Terry\")           # Terry arrives\n",
    "queue.append(\"Graham\")          # Graham arrives\n",
    "queue.popleft()                 # The first to arrive now leaves"
   ]
  },
  {
   "cell_type": "code",
   "execution_count": null,
   "metadata": {
    "collapsed": false
   },
   "outputs": [],
   "source": [
    "queue.popleft()                 # The second to arrive now leaves"
   ]
  },
  {
   "cell_type": "code",
   "execution_count": null,
   "metadata": {
    "collapsed": false
   },
   "outputs": [],
   "source": [
    "queue                           # Remaining queue in order of arrival"
   ]
  },
  {
   "cell_type": "markdown",
   "metadata": {},
   "source": [
    "### List comprehension"
   ]
  },
  {
   "cell_type": "markdown",
   "metadata": {},
   "source": [
    "Rozwijanie listy jest idiomem zastępujacym wyrażenia pętli for budującej listę:"
   ]
  },
  {
   "cell_type": "code",
   "execution_count": null,
   "metadata": {
    "collapsed": false
   },
   "outputs": [],
   "source": [
    "squares = []\n",
    "for x in range(10):\n",
    "    squares.append(x**2)\n",
    "\n",
    "squares"
   ]
  },
  {
   "cell_type": "markdown",
   "metadata": {},
   "source": [
    "To samo można zapisać prościej:"
   ]
  },
  {
   "cell_type": "code",
   "execution_count": null,
   "metadata": {
    "collapsed": false
   },
   "outputs": [],
   "source": [
    "[x**2 for x in range(10)]"
   ]
  },
  {
   "cell_type": "markdown",
   "metadata": {},
   "source": [
    "Można też tworzyć pętle zagnieżdzone i używać konstrukcji warunkowych:"
   ]
  },
  {
   "cell_type": "code",
   "execution_count": null,
   "metadata": {
    "collapsed": false
   },
   "outputs": [],
   "source": [
    "[(x, y) for x in [1, 2, 3] for y in [3, 1, 4] if x != y]"
   ]
  },
  {
   "cell_type": "markdown",
   "metadata": {},
   "source": [
    "### Sortowanie"
   ]
  },
  {
   "cell_type": "markdown",
   "metadata": {},
   "source": [
    "Sortowanie przez tworzenie nowej listy:"
   ]
  },
  {
   "cell_type": "code",
   "execution_count": null,
   "metadata": {
    "collapsed": false
   },
   "outputs": [],
   "source": [
    "sorted([5, 2, 3, 1, 4])"
   ]
  },
  {
   "cell_type": "markdown",
   "metadata": {},
   "source": [
    "Sortowanie w miejscu:"
   ]
  },
  {
   "cell_type": "code",
   "execution_count": null,
   "metadata": {
    "collapsed": false
   },
   "outputs": [],
   "source": [
    "a = [5, 2, 3, 1, 4]\n",
    "a.sort(reverse=True)\n",
    "a"
   ]
  },
  {
   "cell_type": "markdown",
   "metadata": {},
   "source": [
    "Sortowaniem z użyciem klucza:"
   ]
  },
  {
   "cell_type": "code",
   "execution_count": null,
   "metadata": {
    "collapsed": false
   },
   "outputs": [],
   "source": [
    "fruits = [('apple', 3), ('orange', 1), ('banana', 2)]\n",
    "sorted(fruits, key=lambda fruit: fruit[0])"
   ]
  },
  {
   "cell_type": "code",
   "execution_count": null,
   "metadata": {
    "collapsed": false
   },
   "outputs": [],
   "source": [
    "sorted(fruits, key=lambda fruit: fruit[1])"
   ]
  },
  {
   "cell_type": "markdown",
   "metadata": {},
   "source": [
    "Kluczem może być nawet callable, który go wygeneruje:"
   ]
  },
  {
   "cell_type": "code",
   "execution_count": null,
   "metadata": {
    "collapsed": false
   },
   "outputs": [],
   "source": [
    "chars = ['Z', 'z', 'C', 'c', 'A', 'a']\n",
    "sorted(chars)"
   ]
  },
  {
   "cell_type": "code",
   "execution_count": null,
   "metadata": {
    "collapsed": false
   },
   "outputs": [],
   "source": [
    "sorted(chars, key=str.lower)"
   ]
  },
  {
   "cell_type": "markdown",
   "metadata": {},
   "source": [
    "Python implementuje stabilne sortowanie:"
   ]
  },
  {
   "cell_type": "code",
   "execution_count": null,
   "metadata": {
    "collapsed": false
   },
   "outputs": [],
   "source": [
    "from operator import itemgetter\n",
    "sorted([('red', 1), ('blue', 1), ('red', 2), ('blue', 2)], key=itemgetter(1))"
   ]
  },
  {
   "cell_type": "markdown",
   "metadata": {},
   "source": [
    "## Lambda wyrażenia"
   ]
  },
  {
   "cell_type": "markdown",
   "metadata": {},
   "source": [
    "* Funkcja nienazwana utworzona w miejscu (anonimowa)\n",
    "* Można ją przypisać do zmiennej \n",
    "* Najczęściej używamy jej przy programowaniu funkcyjnym (wstrzykujemy logikę kodu do do funkcji jako argument, np. patrz sortowanie)\n",
    "* Ciało funkcji lambda składa się z pojedynczego wyrażenia, którego ewaluacja zwracana jest jako wynik funkcji"
   ]
  },
  {
   "cell_type": "code",
   "execution_count": null,
   "metadata": {
    "collapsed": false
   },
   "outputs": [],
   "source": [
    "lambda x: x + 1"
   ]
  },
  {
   "cell_type": "code",
   "execution_count": null,
   "metadata": {
    "collapsed": false
   },
   "outputs": [],
   "source": [
    "operator_dodaj = lambda x, y: x + y\n",
    "operator_dodaj(1, 2)"
   ]
  },
  {
   "cell_type": "markdown",
   "metadata": {},
   "source": [
    "## Programowanie funkcyjne"
   ]
  },
  {
   "cell_type": "markdown",
   "metadata": {},
   "source": [
    "* filter - filtrowanie kolekcji\n",
    "* map - zmiana formatu kolekcji\n",
    "* reduce - redukowanie kolekcji (wyliczanie wartości z jej elementów), w Python3 w module functools"
   ]
  },
  {
   "cell_type": "markdown",
   "metadata": {},
   "source": [
    "Policzyć, ile owoców wspólnie ma Merry i Tom:"
   ]
  },
  {
   "cell_type": "code",
   "execution_count": null,
   "metadata": {
    "collapsed": false
   },
   "outputs": [],
   "source": [
    "fruits = {\n",
    "    'Merry': [\n",
    "        ('apple', 5),\n",
    "        ('orange', 3),\n",
    "    ],\n",
    "    'John': [\n",
    "        ('berries', 1),\n",
    "        ('orange', 10),\n",
    "    ],\n",
    "    'Tom' : [\n",
    "        ('peaches', 2),\n",
    "    ],\n",
    "}\n",
    "fruits.items()"
   ]
  },
  {
   "cell_type": "markdown",
   "metadata": {},
   "source": [
    "Filtrujemy \"bazę\" z owoców Johna:"
   ]
  },
  {
   "cell_type": "code",
   "execution_count": null,
   "metadata": {
    "collapsed": false
   },
   "outputs": [],
   "source": [
    "filter(lambda x: x[0] in ['Merry', 'Tom'], fruits.items())"
   ]
  },
  {
   "cell_type": "markdown",
   "metadata": {},
   "source": [
    "Usuwamy imiona, nie są nam już potrzebne:"
   ]
  },
  {
   "cell_type": "code",
   "execution_count": null,
   "metadata": {
    "collapsed": false
   },
   "outputs": [],
   "source": [
    "map(lambda y: y[1], \n",
    "        filter(lambda x: x[0] in ['Merry', 'Tom'], fruits.items())\n",
    ")"
   ]
  },
  {
   "cell_type": "markdown",
   "metadata": {},
   "source": [
    "Sklejamy listę list w jedną listę:"
   ]
  },
  {
   "cell_type": "code",
   "execution_count": null,
   "metadata": {
    "collapsed": false
   },
   "outputs": [],
   "source": [
    "from itertools import chain\n",
    "list(chain(\n",
    "    *map(lambda y: y[1], \n",
    "        filter(lambda x: x[0] in ['Merry', 'Tom'], fruits.items())\n",
    "    )\n",
    "))"
   ]
  },
  {
   "cell_type": "markdown",
   "metadata": {},
   "source": [
    "Mapujemy listę tupli na listę liczb"
   ]
  },
  {
   "cell_type": "code",
   "execution_count": null,
   "metadata": {
    "collapsed": false
   },
   "outputs": [],
   "source": [
    "map(lambda f: f[1], \n",
    "    chain(\n",
    "        *map(lambda y: y[1], \n",
    "            filter(lambda x: x[0] in ['Merry', 'Tom'], fruits.items())\n",
    "        )\n",
    "    )\n",
    ")"
   ]
  },
  {
   "cell_type": "markdown",
   "metadata": {},
   "source": [
    "Finalnie redukujemy listę do sumy elementów:"
   ]
  },
  {
   "cell_type": "code",
   "execution_count": null,
   "metadata": {
    "collapsed": false
   },
   "outputs": [],
   "source": [
    "sum( \n",
    "    map(lambda f: f[1], \n",
    "        chain(\n",
    "            *map(lambda y: y[1], \n",
    "                filter(lambda x: x[0] in ['Merry', 'Tom'], fruits.items())\n",
    "            )\n",
    "        )\n",
    "    )\n",
    ")"
   ]
  },
  {
   "cell_type": "markdown",
   "metadata": {},
   "source": [
    "Możemy także użyć gotowego operatora dodawania z modułu operator:"
   ]
  },
  {
   "cell_type": "code",
   "execution_count": null,
   "metadata": {
    "collapsed": false
   },
   "outputs": [],
   "source": [
    "import operator\n",
    "import functools\n",
    "functools.reduce(operator.add, \n",
    "    map(lambda f: f[1], \n",
    "        chain(\n",
    "            *map(lambda y: y[1], \n",
    "                filter(lambda x: x[0] in ['Merry', 'Tom'], fruits.items())\n",
    "            )\n",
    "        )\n",
    "    )\n",
    ")"
   ]
  },
  {
   "cell_type": "markdown",
   "metadata": {},
   "source": [
    "## Słowniki (dict) - zaawansowane użycie"
   ]
  },
  {
   "cell_type": "markdown",
   "metadata": {},
   "source": [
    "### Aktualizacja słownika innym słownikiem:"
   ]
  },
  {
   "cell_type": "code",
   "execution_count": null,
   "metadata": {
    "collapsed": false
   },
   "outputs": [],
   "source": [
    "def some_function(**kwargs):\n",
    "    defaults = {\n",
    "        'apple': 1,\n",
    "        'orange': 2,\n",
    "        'peach': 3,\n",
    "    }\n",
    "    defaults.update(kwargs)\n",
    "    print(defaults)\n",
    "    print('banana' in defaults)\n",
    "\n",
    "some_function()\n",
    "some_function(apple=10)\n",
    "some_function(banana=4)"
   ]
  },
  {
   "cell_type": "markdown",
   "metadata": {},
   "source": [
    "## Napisy w Pythonie"
   ]
  },
  {
   "cell_type": "markdown",
   "metadata": {},
   "source": [
    "* W Pythonie 3.x napisy (typ str) przechowywane są w Unicode.\n",
    "* TODO: co jest nie tak w Pythonie3 z UNICODE\n"
   ]
  },
  {
   "cell_type": "code",
   "execution_count": null,
   "metadata": {
    "collapsed": false
   },
   "outputs": [],
   "source": [
    "some_string = 'zwykły'\n",
    "type(some_string)"
   ]
  },
  {
   "cell_type": "markdown",
   "metadata": {},
   "source": [
    "## Formatowanie stringów"
   ]
  },
  {
   "cell_type": "markdown",
   "metadata": {},
   "source": [
    "Proste formatowanie z użyciem typów:"
   ]
  },
  {
   "cell_type": "code",
   "execution_count": null,
   "metadata": {
    "collapsed": false
   },
   "outputs": [],
   "source": [
    "'Hi %s, you have %d apples' % ('Marry', 5)"
   ]
  },
  {
   "cell_type": "markdown",
   "metadata": {},
   "source": [
    "Formatowanie z użyciem namespace:"
   ]
  },
  {
   "cell_type": "code",
   "execution_count": null,
   "metadata": {
    "collapsed": false
   },
   "outputs": [],
   "source": [
    "'Hi %(name)s, you have %(fruit_count)d apples' % {'name': 'Marry', 'fruit_count': 5}"
   ]
  },
  {
   "cell_type": "code",
   "execution_count": null,
   "metadata": {
    "collapsed": false
   },
   "outputs": [],
   "source": [
    "name = 'Marry'\n",
    "fruit_count = 5\n",
    "'Hi %(name)s, you have %(fruit_count)d apples' % locals()"
   ]
  },
  {
   "cell_type": "code",
   "execution_count": null,
   "metadata": {
    "collapsed": false
   },
   "outputs": [],
   "source": [
    "locals()"
   ]
  },
  {
   "cell_type": "markdown",
   "metadata": {},
   "source": [
    "Metoda ``format()`` napisu:"
   ]
  },
  {
   "cell_type": "code",
   "execution_count": null,
   "metadata": {
    "collapsed": false
   },
   "outputs": [],
   "source": [
    "'Hi {0}, you have {1} apples'.format('Marry', 5)"
   ]
  },
  {
   "cell_type": "code",
   "execution_count": null,
   "metadata": {
    "collapsed": false
   },
   "outputs": [],
   "source": [
    "'Hi {name}, you have {fruit_count} apples'.format(name='Marry', fruit_count=5)"
   ]
  },
  {
   "cell_type": "markdown",
   "metadata": {},
   "source": [
    "## Generatory i iteratory"
   ]
  },
  {
   "cell_type": "markdown",
   "metadata": {},
   "source": [
    "* Generatorów i iteratorów używamy, aby oszczędzić pamięci (a także czasu potrzebnego na jej alokację). \n",
    "* Zysk wydajności powstaje przez ominięcie potrzeby tworzenia tymczasowych struktur pośrednich w pamięci, gdy zamiast tego możemy przeiterować kolejno po elementach i finalnie zapisać tylko te które są potrzebne.\n",
    "* Iteratorem jest dowolny obiekt (kolekcja) dostarczający następującego interfejsu:\n",
    "    * ``__iter__()`` - zwraca obiekt iteratora (jeśli wywołane na kolekcji)\n",
    "    * ``next()`` - zwraca kolejny element iteratora lub rzuca wyjątek StopIteration \n",
    "* Interfejsu iteratorow nie używamy najczęściej sami w kodzie, obiekty iteratorów pojawiają się w kontekstach iteracji i są automatycznie używane\n",
    "* Generatorem jest funkcja która zwraca iterator. Każda funkcja posiadająca wyrażenie yield jest generatorem"
   ]
  },
  {
   "cell_type": "markdown",
   "metadata": {},
   "source": [
    "TODO"
   ]
  },
  {
   "cell_type": "markdown",
   "metadata": {},
   "source": [
    "range jako iterator"
   ]
  },
  {
   "cell_type": "code",
   "execution_count": null,
   "metadata": {
    "collapsed": false
   },
   "outputs": [],
   "source": [
    "it = range(10)\n"
   ]
  },
  {
   "cell_type": "markdown",
   "metadata": {},
   "source": [
    "### Generator expression"
   ]
  },
  {
   "cell_type": "markdown",
   "metadata": {},
   "source": [
    "Generator można także wyrazić za pomocą konstrukcji `` wyrażenie for zmienne in sekwencja``:"
   ]
  },
  {
   "cell_type": "code",
   "execution_count": null,
   "metadata": {
    "collapsed": false
   },
   "outputs": [],
   "source": [
    "sum(i*i for i in range(10))"
   ]
  },
  {
   "cell_type": "markdown",
   "metadata": {},
   "source": [
    "### List comprehension (jeszcze raz)"
   ]
  },
  {
   "cell_type": "markdown",
   "metadata": {},
   "source": [
    "Technicznie więc ujmując **list comprehension = lista + wyrażenie generatora**:"
   ]
  },
  {
   "cell_type": "code",
   "execution_count": null,
   "metadata": {
    "collapsed": false
   },
   "outputs": [],
   "source": [
    "[i*i for i in range(10)]"
   ]
  },
  {
   "cell_type": "markdown",
   "metadata": {},
   "source": [
    "### Moduł itertools"
   ]
  },
  {
   "cell_type": "markdown",
   "metadata": {},
   "source": [
    "Szczególnie warty uwagi jest moduł itertools, który dostarcza bardzo wiele ciekawych narzędzi pracujących na iteratorach pomocnych do zaawansowanego programowania funkcyjnego. Wybrane ciekawe funkcje:"
   ]
  },
  {
   "cell_type": "code",
   "execution_count": null,
   "metadata": {
    "collapsed": false
   },
   "outputs": [],
   "source": [
    "from itertools import * # normalnie tak nie importujemy \n",
    "list(chain([1, 2, 3], [4, 5, 6]))"
   ]
  },
  {
   "cell_type": "code",
   "execution_count": null,
   "metadata": {
    "collapsed": false
   },
   "outputs": [],
   "source": [
    "list(combinations('ABCD', 2))"
   ]
  },
  {
   "cell_type": "code",
   "execution_count": null,
   "metadata": {
    "collapsed": false
   },
   "outputs": [],
   "source": [
    "list(permutations('ABCD', 2))"
   ]
  },
  {
   "cell_type": "code",
   "execution_count": null,
   "metadata": {
    "collapsed": false
   },
   "outputs": [],
   "source": [
    "list(combinations_with_replacement('ABCD', 2))"
   ]
  },
  {
   "cell_type": "code",
   "execution_count": null,
   "metadata": {
    "collapsed": false
   },
   "outputs": [],
   "source": [
    "list(groupby('AAAABBBCCDAABBB'))"
   ]
  },
  {
   "cell_type": "code",
   "execution_count": null,
   "metadata": {
    "collapsed": false
   },
   "outputs": [],
   "source": [
    "for g in groupby('AAAABBBCCDAABBB'):\n",
    "    print(g[0], list(g[1]))"
   ]
  },
  {
   "cell_type": "code",
   "execution_count": null,
   "metadata": {
    "collapsed": false
   },
   "outputs": [],
   "source": [
    "list(islice(cycle('ABCD'), 0, 10))"
   ]
  },
  {
   "cell_type": "code",
   "execution_count": null,
   "metadata": {
    "collapsed": false
   },
   "outputs": [],
   "source": [
    "list(zip([1, 2, 3], 'ABC'))"
   ]
  },
  {
   "cell_type": "code",
   "execution_count": null,
   "metadata": {
    "collapsed": false
   },
   "outputs": [],
   "source": [
    "list(product('ABC', 'XY'))"
   ]
  },
  {
   "cell_type": "code",
   "execution_count": null,
   "metadata": {
    "collapsed": false
   },
   "outputs": [],
   "source": [
    "iterator = permutations('ABC', 2)\n",
    "print(iterator)\n",
    "print(list(iterator))\n",
    "print(list(iterator))"
   ]
  },
  {
   "cell_type": "code",
   "execution_count": null,
   "metadata": {
    "collapsed": false
   },
   "outputs": [],
   "source": [
    "iterator = permutations('ABC', 2)\n",
    "iterator1, iterator2 = tee(iterator, 2)\n",
    "print(iterator1, iterator2)\n",
    "print(list(iterator1))\n",
    "print(list(iterator2))\n",
    "print(list(iterator))\n"
   ]
  },
  {
   "cell_type": "code",
   "execution_count": null,
   "metadata": {
    "collapsed": true
   },
   "outputs": [],
   "source": []
  }
 ],
 "metadata": {
  "kernelspec": {
   "display_name": "Python 3",
   "language": "python",
   "name": "python3"
  },
  "language_info": {
   "codemirror_mode": {
    "name": "ipython",
    "version": 3
   },
   "file_extension": ".py",
   "mimetype": "text/x-python",
   "name": "python",
   "nbconvert_exporter": "python",
   "pygments_lexer": "ipython3",
   "version": "3.4.3"
  }
 },
 "nbformat": 4,
 "nbformat_minor": 0
}
