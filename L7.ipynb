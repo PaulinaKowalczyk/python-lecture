{
 "cells": [
  {
   "cell_type": "markdown",
   "metadata": {},
   "source": [
    "# Język Python - Wykład 7"
   ]
  },
  {
   "cell_type": "markdown",
   "metadata": {},
   "source": [
    "Python3: \"A general goal is to reduce feature duplication by removing old ways of doing things\" (PEP 3100)"
   ]
  },
  {
   "cell_type": "markdown",
   "metadata": {},
   "source": [
    "Różnice Python 2.x i 3.x"
   ]
  },
  {
   "cell_type": "markdown",
   "metadata": {},
   "source": [
    " - print vs print()\n",
    " - UTF i kodowanie\n",
    " - zip vs zip_longest\n",
    " - metaclasses\n",
    " - nowe i stare klasy\n",
    " - slowa kluczowe, True i False\n",
    " - biblioteki"
   ]
  },
  {
   "cell_type": "code",
   "execution_count": null,
   "metadata": {
    "collapsed": true
   },
   "outputs": [],
   "source": [
    "s = \"ala ma kota\""
   ]
  },
  {
   "cell_type": "code",
   "execution_count": null,
   "metadata": {
    "collapsed": false
   },
   "outputs": [],
   "source": [
    "s[0]"
   ]
  },
  {
   "cell_type": "code",
   "execution_count": null,
   "metadata": {
    "collapsed": false
   },
   "outputs": [],
   "source": [
    "s[0] = 'b'"
   ]
  },
  {
   "cell_type": "markdown",
   "metadata": {},
   "source": [
    "Python 3.x\n",
    "  - Unicode domyślnie (w tym ASCII)\n",
    "  - osobny typ dla danych binarnych\n",
    "  \n",
    "Python 2.x\n",
    "  - ASCII domyślnie\n",
    "  - dane binarnie domyślnie\n",
    "  - osobny typ dla Unicode (spoza ASCII)"
   ]
  },
  {
   "cell_type": "markdown",
   "metadata": {},
   "source": [
    "Mark Lutz - Learning Python (4th edition)"
   ]
  },
  {
   "cell_type": "code",
   "execution_count": null,
   "metadata": {
    "collapsed": false
   },
   "outputs": [],
   "source": [
    "print(\"żółw\")"
   ]
  },
  {
   "cell_type": "code",
   "execution_count": null,
   "metadata": {
    "collapsed": false
   },
   "outputs": [],
   "source": [
    "# o typach danych\n",
    "\n",
    "help(str)  # from 2.x str\n",
    "help(bytes)  # from 2.x unicode\n",
    "help(bytearray)"
   ]
  },
  {
   "cell_type": "code",
   "execution_count": null,
   "metadata": {
    "collapsed": false
   },
   "outputs": [],
   "source": [
    "import sys\n",
    "print(sys.getdefaultencoding())"
   ]
  },
  {
   "cell_type": "code",
   "execution_count": null,
   "metadata": {
    "collapsed": false
   },
   "outputs": [],
   "source": [
    "ord('a')"
   ]
  },
  {
   "cell_type": "code",
   "execution_count": null,
   "metadata": {
    "collapsed": false
   },
   "outputs": [],
   "source": [
    "hex(97)"
   ]
  },
  {
   "cell_type": "code",
   "execution_count": null,
   "metadata": {
    "collapsed": false
   },
   "outputs": [],
   "source": [
    "chr(97)"
   ]
  },
  {
   "cell_type": "code",
   "execution_count": null,
   "metadata": {
    "collapsed": false
   },
   "outputs": [],
   "source": [
    "chr(0xC4)"
   ]
  },
  {
   "cell_type": "code",
   "execution_count": null,
   "metadata": {
    "collapsed": false
   },
   "outputs": [],
   "source": [
    "import codecs\n",
    "import tempfile\n",
    "import os.path\n",
    "\n",
    "filename = os.path.join( tempfile.gettempdir() , \"L6\" )\n",
    "with codecs.open(filename, mode='w', encoding='iso-8859-2') as f:\n",
    "    f.write(u'żółw')\n",
    "    \n",
    "with codecs.open(filename, encoding='iso-8859-2') as f:\n",
    "    string = f.readline()\n",
    "    print(string, repr(string))"
   ]
  },
  {
   "cell_type": "markdown",
   "metadata": {},
   "source": [
    "## print"
   ]
  },
  {
   "cell_type": "markdown",
   "metadata": {},
   "source": [
    "Arguments (PEP 3105 -- Make print a function):\n",
    "  - print is the only application-level functionality that has a statement (syntax!) dedicated to it. Syntax should cover only necessary items. \n",
    "  - print() can be easily replaced by more sophisticated functions, while print doesn't (>> syntax!)\n",
    "  - in print - not easy to change separator from space to other character"
   ]
  },
  {
   "cell_type": "code",
   "execution_count": null,
   "metadata": {
    "collapsed": false
   },
   "outputs": [],
   "source": [
    "#%%python3\n",
    "print('Hello world', 'here I come', sep=\"\")"
   ]
  },
  {
   "cell_type": "code",
   "execution_count": null,
   "metadata": {
    "collapsed": false
   },
   "outputs": [],
   "source": [
    "#%%python2\n",
    "print 'Hello world','here I come'"
   ]
  },
  {
   "cell_type": "code",
   "execution_count": null,
   "metadata": {
    "collapsed": false
   },
   "outputs": [],
   "source": [
    "#%%python3\n",
    "def printnew(*args, **kwargs):\n",
    "    __builtins__.print('AGH')\n",
    "    return __builtins__.print(*args, **kwargs)\n",
    "print = printnew\n",
    "print('Hello world')\n",
    "print = __builtins__.print"
   ]
  },
  {
   "cell_type": "code",
   "execution_count": null,
   "metadata": {
    "collapsed": false
   },
   "outputs": [],
   "source": [
    "#%%python2\n",
    "def printnew(*args, **kwargs):\n",
    "    __builtins__.print('AGH')\n",
    "    return __builtins__.print(*args, **kwargs)\n",
    "print = printnew\n",
    "print('Hello world')\n",
    "print = __builtins__.print"
   ]
  },
  {
   "cell_type": "markdown",
   "metadata": {},
   "source": [
    "### Chevron print"
   ]
  },
  {
   "cell_type": "markdown",
   "metadata": {},
   "source": [
    "Chevron (pl. szewron) - naszywka na rękawie lub naramienniku munduru, w kształcie prostej lub odwróconej litery \"V\"\n",
    "https://pl.wikipedia.org/wiki/Szewron_(naszywka) https://en.wikipedia.org/wiki/Chevron_(insignia)"
   ]
  },
  {
   "cell_type": "code",
   "execution_count": null,
   "metadata": {
    "collapsed": false
   },
   "outputs": [],
   "source": [
    "#%%python3\n",
    "import sys\n",
    "print('Error!', file=sys.stderr)\n",
    "print('Not an error', file=sys.stdout)\n",
    "print('Error!', file=sys.stderr)"
   ]
  },
  {
   "cell_type": "code",
   "execution_count": null,
   "metadata": {
    "collapsed": false
   },
   "outputs": [],
   "source": [
    "%%python2\n",
    "print >> sys.stderr, 'Error!'\n",
    "print >> sys.stdout, 'Not an error'\n",
    "print >> sys.stderr, 'Error!'"
   ]
  },
  {
   "cell_type": "markdown",
   "metadata": {
    "collapsed": true
   },
   "source": [
    "## map, filter, reduce"
   ]
  },
  {
   "cell_type": "markdown",
   "metadata": {},
   "source": [
    "### Views And Iterators Instead Of Lists"
   ]
  },
  {
   "cell_type": "code",
   "execution_count": null,
   "metadata": {
    "collapsed": false
   },
   "outputs": [],
   "source": [
    "##python2\n",
    "isPrime=lambda x: all(x % i != 0 for i in range(int(x**0.5)+1)[2:])\n",
    "import numpy as np\n",
    "np.array(filter(isPrime,[10,20,30,13,7]))"
   ]
  },
  {
   "cell_type": "code",
   "execution_count": null,
   "metadata": {
    "collapsed": false
   },
   "outputs": [],
   "source": [
    "##python3\n",
    "isPrime=lambda x: all(x % i != 0 for i in range(int(x**0.5)+1)[2:])\n",
    "import numpy as np\n",
    "np.array(list(filter(isPrime,[10,20,30,13,7])))"
   ]
  },
  {
   "cell_type": "markdown",
   "metadata": {},
   "source": [
    "### map"
   ]
  },
  {
   "cell_type": "code",
   "execution_count": null,
   "metadata": {
    "collapsed": false
   },
   "outputs": [],
   "source": [
    "##python2\n",
    "def p(*args):\n",
    "   print [str(x) for x in args]\n",
    "list(map( p, [1,1,1,1],[1] ))"
   ]
  },
  {
   "cell_type": "code",
   "execution_count": null,
   "metadata": {
    "collapsed": false
   },
   "outputs": [],
   "source": [
    "##python3\n",
    "def p(*args):\n",
    "   print([str(x) for x in args])\n",
    "list(map( p, [1,1,1,1],[1] ))"
   ]
  },
  {
   "cell_type": "code",
   "execution_count": null,
   "metadata": {
    "collapsed": false
   },
   "outputs": [],
   "source": [
    "##python2\n",
    "def transposed(matrix):\n",
    "    \"\"\"Return transposed matrix (list of lists).\n",
    "\n",
    "    This function can handle non-square matrices.\n",
    "    In this case it fills shorter list with None.\n",
    "\n",
    "    >>> transposed( [[1,2,3], [3,4]] )\n",
    "    [[1, 3], [2, 4], [3, None]]\n",
    "    \"\"\"\n",
    "    return map(lambda *row: list(row), *matrix)"
   ]
  },
  {
   "cell_type": "code",
   "execution_count": null,
   "metadata": {
    "collapsed": true
   },
   "outputs": [],
   "source": [
    "##python3\n",
    "def transposed(matrix):\n",
    "    \"\"\"Return transposed matrix (list of lists).\n",
    "\n",
    "    This function can handle non-square matrices.\n",
    "    In this case it fills shorter list with None.\n",
    "\n",
    "    >>> transposed( [[1,2,3], [3,4]] )\n",
    "    [[1, 3], [2, 4], [3, None]]\n",
    "    \"\"\"\n",
    "    return list(map(list, zip_longest(*matrix)))"
   ]
  },
  {
   "cell_type": "markdown",
   "metadata": {},
   "source": [
    "### reduce"
   ]
  },
  {
   "cell_type": "markdown",
   "metadata": {},
   "source": [
    "Python 3000 FAQ\n",
    "http://www.artima.com/weblogs/viewpost.jsp?thread=211200\n",
    "\n",
    "Q. If you're killing reduce(), why are you keeping map() and filter()?\n",
    "\n",
    "A. I'm not killing reduce() because I hate functional programming; I'm killing it because almost all code using reduce() is less readable than the same thing written out using a for loop and an accumulator variable. On the other hand, map() and filter() are often useful and when used with a pre-existing function (e.g. a built-in) they are clearer than a list comprehension or generator expression. (Don't use these with a lambda though; then a list comprehension is clearer and faster.)"
   ]
  },
  {
   "cell_type": "code",
   "execution_count": null,
   "metadata": {
    "collapsed": false
   },
   "outputs": [],
   "source": [
    "#python2\n",
    "def mul(x,y): return x/2.0+1/x\n",
    "reduce(mul, range(1, 11))"
   ]
  },
  {
   "cell_type": "code",
   "execution_count": null,
   "metadata": {
    "collapsed": false
   },
   "outputs": [],
   "source": [
    "#python3\n",
    "import functools\n",
    "def mul(x,y): return x/2.0+1/x\n",
    "functools.reduce(mul, range(1, 11))"
   ]
  },
  {
   "cell_type": "code",
   "execution_count": null,
   "metadata": {
    "collapsed": false
   },
   "outputs": [],
   "source": [
    "result = 1\n",
    "for x in range(1,11):\n",
    "    result = mul(result, x)\n",
    "result"
   ]
  },
  {
   "cell_type": "markdown",
   "metadata": {},
   "source": [
    "### range"
   ]
  },
  {
   "cell_type": "code",
   "execution_count": null,
   "metadata": {
    "collapsed": false
   },
   "outputs": [],
   "source": [
    "##python2\n",
    "range(10)\n",
    "xrange(10)"
   ]
  },
  {
   "cell_type": "code",
   "execution_count": null,
   "metadata": {
    "collapsed": false
   },
   "outputs": [],
   "source": [
    "##python3\n",
    "range(10)\n",
    "xrange(10)"
   ]
  },
  {
   "cell_type": "markdown",
   "metadata": {},
   "source": [
    "### zip"
   ]
  },
  {
   "cell_type": "code",
   "execution_count": null,
   "metadata": {
    "collapsed": false
   },
   "outputs": [],
   "source": [
    "##python2\n",
    "A = [1,2,3,4]\n",
    "B = ['a','b','c']\n",
    "zip(A,B)"
   ]
  },
  {
   "cell_type": "code",
   "execution_count": null,
   "metadata": {
    "collapsed": false
   },
   "outputs": [],
   "source": [
    "##python3\n",
    "A = [1,2,3]\n",
    "B = ['a','b','c']\n",
    "zip(A,B)"
   ]
  },
  {
   "cell_type": "markdown",
   "metadata": {},
   "source": [
    "## map, filter, reduce"
   ]
  },
  {
   "cell_type": "code",
   "execution_count": null,
   "metadata": {
    "collapsed": false
   },
   "outputs": [],
   "source": [
    "#python2\n",
    "1 < 'a'\n",
    "sorted([3,1,2,'b','a','c'])"
   ]
  },
  {
   "cell_type": "code",
   "execution_count": null,
   "metadata": {
    "collapsed": false
   },
   "outputs": [],
   "source": [
    "#python3\n",
    "1 < 'a'\n",
    "sorted([3,1,2,'b','a','c'])"
   ]
  },
  {
   "cell_type": "markdown",
   "metadata": {},
   "source": [
    "## integers\n",
    "long renamed to int"
   ]
  },
  {
   "cell_type": "code",
   "execution_count": null,
   "metadata": {
    "collapsed": false
   },
   "outputs": [],
   "source": [
    "##python2\n",
    "int(\"100\")\n",
    "long(\"100\")"
   ]
  },
  {
   "cell_type": "code",
   "execution_count": null,
   "metadata": {
    "collapsed": false
   },
   "outputs": [],
   "source": [
    "##python3\n",
    "int(\"100\")\n",
    "long(\"100\")"
   ]
  },
  {
   "cell_type": "markdown",
   "metadata": {},
   "source": [
    "https://www.python.org/dev/peps/pep-0238/\n",
    "The current division (/) operator has an ambiguous meaning for\n",
    "    numerical arguments: it returns the floor of the mathematical\n",
    "    result of division if the arguments are ints or longs, but it\n",
    "    returns a reasonable approximation of the division result if the\n",
    "    arguments are floats or complex.  This makes expressions expecting\n",
    "    float or complex results error-prone when integers are not\n",
    "    expected but possible as inputs.\n",
    "    \n",
    "    The problem is unique to dynamically typed languages: in a\n",
    "    statically typed language like C, the inputs, typically function\n",
    "    arguments, would be declared as double or float, and when a call\n",
    "    passes an integer argument, it is converted to double or float at\n",
    "    the time of the call.\n",
    "    \n",
    "    The correct work-around is subtle: casting an argument to float()\n",
    "    is wrong if it could be a complex number; adding 0.0 to an\n",
    "    argument doesn't preserve the sign of the argument if it was minus\n",
    "    zero.  The only solution without either downside is multiplying an\n",
    "    argument (typically the first) by 1.0.  This leaves the value and\n",
    "    sign unchanged for float and complex, and turns int and long into\n",
    "    a float with the corresponding value."
   ]
  },
  {
   "cell_type": "code",
   "execution_count": null,
   "metadata": {
    "collapsed": false
   },
   "outputs": [],
   "source": [
    "#python2\n",
    "1/2"
   ]
  },
  {
   "cell_type": "code",
   "execution_count": null,
   "metadata": {
    "collapsed": false
   },
   "outputs": [],
   "source": [
    "#python3\n",
    "1/2, 1//2"
   ]
  },
  {
   "cell_type": "code",
   "execution_count": null,
   "metadata": {
    "collapsed": false
   },
   "outputs": [],
   "source": [
    "import math\n",
    "math.atan2(0.0,-0.0)"
   ]
  },
  {
   "cell_type": "code",
   "execution_count": null,
   "metadata": {
    "collapsed": false
   },
   "outputs": [],
   "source": [
    "math.atan2(-0.0,-0.0)"
   ]
  },
  {
   "cell_type": "code",
   "execution_count": null,
   "metadata": {
    "collapsed": false
   },
   "outputs": [],
   "source": [
    "0.0 == -0.0"
   ]
  },
  {
   "cell_type": "markdown",
   "metadata": {},
   "source": [
    "## Wyjatki\n",
    "\n",
    "One of Python's guiding maxims is \"there should be one -- and preferably only one -- obvious way to do it\" [1] . Python 2.x's raise statement violates this principle, permitting multiple ways of expressing the same thought"
   ]
  },
  {
   "cell_type": "code",
   "execution_count": null,
   "metadata": {
    "collapsed": false
   },
   "outputs": [],
   "source": [
    "##python2\n",
    "class MyEx(Exception):\n",
    "    x = 0\n",
    "    y = 0\n",
    "    \n",
    "einst = MyEx()\n",
    "einst.x = 1\n",
    "einst.y = 1"
   ]
  },
  {
   "cell_type": "code",
   "execution_count": null,
   "metadata": {
    "collapsed": false
   },
   "outputs": [],
   "source": [
    "#python2\n",
    "#raise_stmt: 'raise' [test [',' test [',' test]]]\n",
    "try:\n",
    "    raise einst\n",
    "#    raise MyEx, einst\n",
    "except MyEx, e:\n",
    "    print e.x, e.y"
   ]
  },
  {
   "cell_type": "code",
   "execution_count": null,
   "metadata": {
    "collapsed": false
   },
   "outputs": [],
   "source": [
    "#python3\n",
    "#raise_stmt: 'raise' [test]\n",
    "try:\n",
    "    raise einst\n",
    "except MyEx as e:\n",
    "    print(e.x, e.y)"
   ]
  },
  {
   "cell_type": "code",
   "execution_count": null,
   "metadata": {
    "collapsed": false
   },
   "outputs": [],
   "source": [
    "#python2\n",
    "try:\n",
    "    1/0\n",
    "except Exception:\n",
    "    raise TypeError"
   ]
  },
  {
   "cell_type": "code",
   "execution_count": null,
   "metadata": {
    "collapsed": false
   },
   "outputs": [],
   "source": [
    "class FooException(Exception):\n",
    "    pass\n",
    "\n",
    "class BarException(Exception):\n",
    "    pass\n",
    "\n",
    "class foo(object):\n",
    "    def d(self):\n",
    "       self.e()\n",
    "\n",
    "    def e(self):\n",
    "       self.f()\n",
    "\n",
    "    def f(self):\n",
    "       raise FooException('Problem')\n",
    "\n",
    "class bar(object):\n",
    "    def a(self):\n",
    "       self.c()\n",
    "\n",
    "    def b(self):\n",
    "       self.c()\n",
    "\n",
    "    def c(self):\n",
    "        try:\n",
    "            f = foo()\n",
    "            f.d()\n",
    "        except FooException as e:\n",
    "            raise BarException(e)\n",
    "\n",
    "bar().a()"
   ]
  },
  {
   "cell_type": "markdown",
   "metadata": {},
   "source": [
    "## List comprehension"
   ]
  },
  {
   "cell_type": "code",
   "execution_count": null,
   "metadata": {
    "collapsed": false
   },
   "outputs": [],
   "source": [
    "x = 'before'\n",
    "a = [x for x in [1, 2, 3]]\n",
    "print(x)"
   ]
  },
  {
   "cell_type": "markdown",
   "metadata": {},
   "source": [
    "## Rozpakowywanie krotek\n",
    "PEP 3113 -- Removal of Tuple Parameter Unpacking\n",
    "Unfortunately this feature of Python's rich function signature abilities, while handy in some situations, causes more issues than they are worth. "
   ]
  },
  {
   "cell_type": "code",
   "execution_count": null,
   "metadata": {
    "collapsed": false
   },
   "outputs": [],
   "source": [
    "def middle( (a,b), (c,d) ):\n",
    "    return 0.5*(a+c),0.5*(b+d)\n",
    "middle( (1,0), (13,-4))"
   ]
  },
  {
   "cell_type": "code",
   "execution_count": null,
   "metadata": {
    "collapsed": false
   },
   "outputs": [],
   "source": [
    "def middle( p1, p2 ):\n",
    "    a,b = p1\n",
    "    c,d = p2\n",
    "    return 0.5*(a+c),0.5*(b+d)\n",
    "middle( (1,0), (13,-4))"
   ]
  },
  {
   "cell_type": "code",
   "execution_count": null,
   "metadata": {
    "collapsed": true
   },
   "outputs": [],
   "source": []
  }
 ],
 "metadata": {
  "kernelspec": {
   "display_name": "Python 3",
   "language": "python",
   "name": "python3"
  },
  "language_info": {
   "codemirror_mode": {
    "name": "ipython",
    "version": 3
   },
   "file_extension": ".py",
   "mimetype": "text/x-python",
   "name": "python",
   "nbconvert_exporter": "python",
   "pygments_lexer": "ipython3",
   "version": "3.4.3"
  }
 },
 "nbformat": 4,
 "nbformat_minor": 0
}
