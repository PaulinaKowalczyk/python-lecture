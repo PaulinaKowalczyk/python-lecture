{
 "cells": [
  {
   "cell_type": "markdown",
   "metadata": {},
   "source": [
    "# Język Python - Wykład 4."
   ]
  },
  {
   "cell_type": "markdown",
   "metadata": {},
   "source": [
    "## Context Manager "
   ]
  },
  {
   "cell_type": "markdown",
   "metadata": {},
   "source": [
    "    with expression [as (targets)]:\n",
    "        code block with context of \"targets\"\n",
    "\n",
    "* Możliwość utworzenia dynamicznego (w runtime) kontekstu dla wykonania sekcji kodu\n",
    "* Typowy przykład: czytanie z pliku, czytanie następuje w kontekście otwarcia i zamknięcia pliku\n",
    "* Obiekt context managera musi implementować protokół: ``__enter__()`` i ``__exit__()``\n",
    "* [PEP 343](http://www.python.org/dev/peps/pep-0343/)"
   ]
  },
  {
   "cell_type": "code",
   "execution_count": null,
   "metadata": {
    "collapsed": false
   },
   "outputs": [],
   "source": [
    "with open('L4.ipynb') as notebook:\n",
    "    print notebook.read(50)"
   ]
  },
  {
   "cell_type": "code",
   "execution_count": null,
   "metadata": {
    "collapsed": false
   },
   "outputs": [],
   "source": [
    "notebook"
   ]
  },
  {
   "cell_type": "code",
   "execution_count": null,
   "metadata": {
    "collapsed": false
   },
   "outputs": [],
   "source": [
    "class MyContextManager(object):\n",
    "    \n",
    "    def __enter__(self):\n",
    "        print \"Context prepared\"\n",
    "    \n",
    "    def __exit__(self, exc_type, exc_value, traceback):\n",
    "        print \"Context closed \", exc_type, exc_value, traceback\n",
    "\n",
    "        \n",
    "with MyContextManager():\n",
    "    print \"Hello\""
   ]
  },
  {
   "cell_type": "code",
   "execution_count": null,
   "metadata": {
    "collapsed": false
   },
   "outputs": [],
   "source": [
    "class MyContextManager(object):\n",
    "    \n",
    "    def __enter__(self):\n",
    "        print \"Context prepared\"\n",
    "    \n",
    "    def __exit__(self, exc_type, exc_value, traceback):\n",
    "        print \"Context closed \", exc_type, exc_value, traceback\n",
    "\n",
    "        \n",
    "with MyContextManager():\n",
    "    raise Exception()"
   ]
  },
  {
   "cell_type": "code",
   "execution_count": null,
   "metadata": {
    "collapsed": false
   },
   "outputs": [],
   "source": [
    "class MyContextManager(object):\n",
    "    \n",
    "    def __init__(self, custom=\"Context\"):\n",
    "        self.custom = custom\n",
    "        \n",
    "    def __enter__(self):\n",
    "        print \"%s prepared\" % self.custom\n",
    "    \n",
    "    def __exit__(self, exc_type, exc_value, traceback):\n",
    "        print \"%s closed \" % self.custom, exc_type, exc_value, traceback\n",
    "\n",
    "        \n",
    "with MyContextManager('Dog'):\n",
    "    print \"Hau\""
   ]
  },
  {
   "cell_type": "markdown",
   "metadata": {},
   "source": [
    "### Context manager z użyciem dekoratora"
   ]
  },
  {
   "cell_type": "code",
   "execution_count": null,
   "metadata": {
    "collapsed": false
   },
   "outputs": [],
   "source": [
    "from contextlib import contextmanager\n",
    "\n",
    "@contextmanager\n",
    "def tag(name):\n",
    "    print \"<%s>\" % name,\n",
    "    yield\n",
    "    print \"</%s>\" % name,\n",
    "\n",
    "with tag(\"h1\"):\n",
    "    print \"foo\",\n",
    "\n",
    "print\n",
    "\n",
    "with tag(\"div\"):\n",
    "    print \"foo\",\n",
    "\n"
   ]
  },
  {
   "cell_type": "markdown",
   "metadata": {},
   "source": [
    "## Metody specjalne (cd..)"
   ]
  },
  {
   "cell_type": "markdown",
   "metadata": {},
   "source": [
    "### ``__repr__``"
   ]
  },
  {
   "cell_type": "code",
   "execution_count": null,
   "metadata": {
    "collapsed": false
   },
   "outputs": [],
   "source": [
    "class T:\n",
    "    pass\n",
    "\n",
    "[T(), T(), T()]"
   ]
  },
  {
   "cell_type": "code",
   "execution_count": null,
   "metadata": {
    "collapsed": false
   },
   "outputs": [],
   "source": [
    "class T:\n",
    "    def __repr__(self):\n",
    "        return 'T class'\n",
    "\n",
    "print [T(), T(), T()]\n",
    "print repr(T())"
   ]
  },
  {
   "cell_type": "markdown",
   "metadata": {},
   "source": [
    "### ``__str__`` i ``__unicode__``"
   ]
  },
  {
   "cell_type": "code",
   "execution_count": null,
   "metadata": {
    "collapsed": false
   },
   "outputs": [],
   "source": [
    "class Car:\n",
    "    def __init__(self, vendor, model, ccm):\n",
    "        self.vendor = vendor\n",
    "        self.model = model\n",
    "        self.ccm = ccm\n",
    "        \n",
    "    def __str__(self):\n",
    "        return '%s %s (%.1f L)' % (self.vendor, self.model, self.ccm / 1000.0)\n",
    "\n",
    "print Car('Porsche', '911', 3600)"
   ]
  },
  {
   "cell_type": "code",
   "execution_count": null,
   "metadata": {
    "collapsed": false
   },
   "outputs": [],
   "source": [
    "class Car:\n",
    "    def __init__(self, vendor, model, ccm):\n",
    "        self.vendor = vendor\n",
    "        self.model = model\n",
    "        self.ccm = ccm\n",
    "        \n",
    "    def __str__(self):\n",
    "        return '%s %s (%.1f L)' % (self.vendor, self.model, self.ccm / 1000.0)\n",
    "    \n",
    "    def __unicode__(self):\n",
    "        return u'Unicode ' + unicode(str(self))\n",
    "\n",
    "print unicode(Car('Porsche', '911', 3600))"
   ]
  },
  {
   "cell_type": "markdown",
   "metadata": {},
   "source": [
    "### ``__hash__``"
   ]
  },
  {
   "cell_type": "code",
   "execution_count": null,
   "metadata": {
    "collapsed": false
   },
   "outputs": [],
   "source": [
    "class T:\n",
    "    def __hash__(self):\n",
    "        return hash(\"fake hash\")\n",
    "\n",
    "{T(): 1}\n",
    "        "
   ]
  },
  {
   "cell_type": "code",
   "execution_count": null,
   "metadata": {
    "collapsed": false
   },
   "outputs": [],
   "source": [
    "hash(\"fake hash\")"
   ]
  },
  {
   "cell_type": "markdown",
   "metadata": {},
   "source": [
    "### ``__nonzero__``"
   ]
  },
  {
   "cell_type": "code",
   "execution_count": null,
   "metadata": {
    "collapsed": false
   },
   "outputs": [],
   "source": [
    "class T:\n",
    "    def __nonzero__(self):\n",
    "        print id(self)\n",
    "        if id(self) / 10 % 2 :\n",
    "            return True\n",
    "        else:\n",
    "            return False\n",
    "print bool(T())        "
   ]
  },
  {
   "cell_type": "markdown",
   "metadata": {},
   "source": [
    "### Emulacja typu kontenera (cd..)"
   ]
  },
  {
   "cell_type": "code",
   "execution_count": null,
   "metadata": {
    "collapsed": false
   },
   "outputs": [],
   "source": [
    "class T():\n",
    "   \n",
    "    c = [1, 2, 3]\n",
    "\n",
    "    def __len__(self):\n",
    "        return len(self.c)\n",
    "    \n",
    "    def __contains__(self, x):\n",
    "        return x in self.c\n",
    "    \n",
    "    def __iter__(self):\n",
    "        for x in self.c:\n",
    "            yield x\n",
    "    \n",
    "t = T()\n",
    "print len(t)\n",
    "print 2 in t"
   ]
  },
  {
   "cell_type": "code",
   "execution_count": null,
   "metadata": {
    "collapsed": false
   },
   "outputs": [],
   "source": [
    "iter(t)"
   ]
  },
  {
   "cell_type": "code",
   "execution_count": null,
   "metadata": {
    "collapsed": false
   },
   "outputs": [],
   "source": [
    "list(iter(t))"
   ]
  },
  {
   "cell_type": "markdown",
   "metadata": {},
   "source": [
    "## New-style class vs classic classes"
   ]
  },
  {
   "cell_type": "code",
   "execution_count": null,
   "metadata": {
    "collapsed": false
   },
   "outputs": [],
   "source": [
    "class T:\n",
    "    pass\n",
    "print type(T)\n",
    "print type(T())"
   ]
  },
  {
   "cell_type": "code",
   "execution_count": null,
   "metadata": {
    "collapsed": false
   },
   "outputs": [],
   "source": [
    "class T(object):\n",
    "    pass\n",
    "print type(T)\n",
    "print(T())"
   ]
  },
  {
   "cell_type": "markdown",
   "metadata": {},
   "source": [
    "* obiekty \"starych\" klas pythona są realizowane przy użyciu jednego wbudowanego typu \"instance\"\n",
    "* obiekty nowych klas, są ni mniej ni więcej definiowanym przez użytkownika nowym typem\n",
    "* stare klasy występują tylko w Pythonie 2.x jako kompatybilność wsteczna. Python 3 nie posiada ich"
   ]
  },
  {
   "cell_type": "code",
   "execution_count": null,
   "metadata": {
    "collapsed": false
   },
   "outputs": [],
   "source": [
    "class MyClass(): # old-style\n",
    "\n",
    "    def __init__(self, param): \n",
    "        print 'init', param \n",
    "\n",
    "    def __new__(cls, param):\n",
    "        print cls.__name__, param\n",
    "        return object.__new__(cls) \n",
    "\n",
    "MyClass(1)"
   ]
  },
  {
   "cell_type": "code",
   "execution_count": null,
   "metadata": {
    "collapsed": false
   },
   "outputs": [],
   "source": [
    "class MyClass(object): # new-style\n",
    "\n",
    "    def __init__(self, param): \n",
    "        print 'init', param \n",
    "\n",
    "    def __new__(cls, param):\n",
    "        print cls.__name__, param\n",
    "        return object.__new__(cls) \n",
    "\n",
    "MyClass(1)"
   ]
  },
  {
   "cell_type": "markdown",
   "metadata": {},
   "source": [
    "## Dziedziczenie, mixiny i MRO"
   ]
  },
  {
   "cell_type": "code",
   "execution_count": null,
   "metadata": {
    "collapsed": false
   },
   "outputs": [],
   "source": [
    "class Car(object):\n",
    "    \n",
    "    _TOP_SPEED = None\n",
    "    \n",
    "    @property\n",
    "    def TOP_SPEED(self):\n",
    "        if self._TOP_SPEED is not None:\n",
    "            return self._TOP_SPEED\n",
    "        else:\n",
    "            raise NotImplementedError('Provide a top speed for a car')\n",
    "            \n",
    "    def accelerate(self):\n",
    "        print '%s accelerated to %d' % (self.__class__.__name__, self.TOP_SPEED)\n",
    "        \n",
    "    _color = 'black'\n",
    "    def color(self):\n",
    "        print \"All cars should be %s\" % self._color\n",
    "    \n",
    "    def drive(self):\n",
    "        self.horn()\n",
    "        self.accelerate()\n",
    "    \n",
    "Car().accelerate()"
   ]
  },
  {
   "cell_type": "code",
   "execution_count": null,
   "metadata": {
    "collapsed": false
   },
   "outputs": [],
   "source": [
    "class Fiat(Car):\n",
    "    _TOP_SPEED = 150\n",
    "\n",
    "class AlfaRomeo(Car):\n",
    "    _TOP_SPEED = 250\n",
    "    \n",
    "    def accelerate(self, *args, **kwargs):\n",
    "        print 'WROOOOOM ',\n",
    "        super(self.__class__, self).accelerate(*args, **kwargs)\n",
    "    \n",
    "Fiat().accelerate()\n",
    "Fiat().color()\n",
    "AlfaRomeo().accelerate()"
   ]
  },
  {
   "cell_type": "code",
   "execution_count": null,
   "metadata": {
    "collapsed": false
   },
   "outputs": [],
   "source": [
    "class MyCar(object):\n",
    "    _color = 'red'\n",
    "    def color(self):\n",
    "        print \"My %s is %s!!!\" % (self.__class__.__name__, self._color)\n",
    "        \n",
    "class MyFiatWithAlfaRomeoEngine(MyCar, AlfaRomeo, Fiat):\n",
    "    pass\n",
    "\n",
    "MyFiatWithAlfaRomeoEngine().accelerate()\n",
    "MyFiatWithAlfaRomeoEngine().color()\n"
   ]
  },
  {
   "cell_type": "code",
   "execution_count": null,
   "metadata": {
    "collapsed": false
   },
   "outputs": [],
   "source": [
    "MyFiatWithAlfaRomeoEngine.__mro__"
   ]
  },
  {
   "cell_type": "markdown",
   "metadata": {},
   "source": [
    "### Mixin"
   ]
  },
  {
   "cell_type": "code",
   "execution_count": null,
   "metadata": {
    "collapsed": false
   },
   "outputs": [],
   "source": [
    "class HornMixin(object):\n",
    "    def horn(self):\n",
    "        print \"Beeeep! Beeeep!\"\n",
    "        \n",
    "class Fiat(HornMixin, Car):\n",
    "    _TOP_SPEED = 150\n",
    "\n",
    "class AlfaRomeo(HornMixin, Car):\n",
    "    _TOP_SPEED = 250\n",
    "    \n",
    "Fiat().drive()\n",
    "AlfaRomeo().drive()        "
   ]
  },
  {
   "cell_type": "code",
   "execution_count": null,
   "metadata": {
    "collapsed": false
   },
   "outputs": [],
   "source": [
    "class OnlyRedCarsCanSpeedingMixin(object):\n",
    "    \n",
    "    @property\n",
    "    def TOP_SPEED(self):\n",
    "        if self._color is 'red':\n",
    "            return self._TOP_SPEED\n",
    "        else:\n",
    "            return 50\n",
    "\n",
    "class MyAlfa(OnlyRedCarsCanSpeedingMixin, MyCar, AlfaRomeo):\n",
    "    pass\n",
    "\n",
    "class Fiat(OnlyRedCarsCanSpeedingMixin, Fiat):\n",
    "    pass\n",
    "\n",
    "MyAlfa().accelerate()\n",
    "Fiat().accelerate()"
   ]
  },
  {
   "cell_type": "code",
   "execution_count": null,
   "metadata": {
    "collapsed": false
   },
   "outputs": [],
   "source": [
    "class Car(object):\n",
    "    \n",
    "    TOP_SPEED = 100\n",
    "           \n",
    "    def accelerate(self):\n",
    "        print '%s accelerated to %d' % (\n",
    "            self.__class__.__name__, self.TOP_SPEED)\n",
    "    \n",
    "    def horn(self):\n",
    "        raise NotImplementedError('Implement how to horn!!!')\n",
    "    \n",
    "    def drive(self):\n",
    "        self.horn()\n",
    "        self.accelerate()\n",
    "        \n",
    "Car().drive()        "
   ]
  },
  {
   "cell_type": "markdown",
   "metadata": {},
   "source": [
    "### MRO"
   ]
  },
  {
   "cell_type": "raw",
   "metadata": {},
   "source": [
    "     -----------\n",
    "    |           |\n",
    "    |    O      |\n",
    "    |  /   \\    |\n",
    "     - X    Y  /\n",
    "       |  / | /\n",
    "       | /  |/\n",
    "       A    B\n",
    "       \\   /\n",
    "         C"
   ]
  },
  {
   "cell_type": "code",
   "execution_count": null,
   "metadata": {
    "collapsed": false
   },
   "outputs": [],
   "source": [
    "O = object\n",
    "class X(O): pass\n",
    "class Y(O): pass\n",
    "class A(X,Y): pass\n",
    "class B(Y,X): pass\n",
    "class C(A,B): pass\n",
    "C.__mro__"
   ]
  },
  {
   "cell_type": "raw",
   "metadata": {},
   "source": [
    "                          6\n",
    "                         ---\n",
    "Level 3                 | O |                  (more general)\n",
    "                      /  ---  \\\n",
    "                     /    |    \\                      |\n",
    "                    /     |     \\                     |\n",
    "                   /      |      \\                    |\n",
    "                  ---    ---    ---                   |\n",
    "Level 2        3 | D | 4| E |  | F | 5                |\n",
    "                  ---    ---    ---                   |\n",
    "                   \\  \\ _ /       |                   |\n",
    "                    \\    / \\ _    |                   |\n",
    "                     \\  /      \\  |                   |\n",
    "                      ---      ---                    |\n",
    "Level 1            1 | B |    | C | 2                 |\n",
    "                      ---      ---                    |\n",
    "                        \\      /                      |\n",
    "                         \\    /                      \\ /\n",
    "                           ---\n",
    "Level 0                 0 | A |                (more specialized)\n",
    "                           ---"
   ]
  },
  {
   "cell_type": "code",
   "execution_count": null,
   "metadata": {
    "collapsed": false
   },
   "outputs": [],
   "source": [
    "O = object\n",
    "class F(O): pass\n",
    "class E(O): pass\n",
    "class D(O): pass\n",
    "class C(D,F): pass\n",
    "class B(D,E): pass\n",
    "class A(B,C): pass\n",
    "print A.__mro__ "
   ]
  },
  {
   "cell_type": "code",
   "execution_count": null,
   "metadata": {
    "collapsed": false
   },
   "outputs": [],
   "source": []
  },
  {
   "cell_type": "markdown",
   "metadata": {},
   "source": [
    "## flightweight pattern = ``__new__()`` + weakref"
   ]
  },
  {
   "cell_type": "markdown",
   "metadata": {},
   "source": [
    "* Fabryka singletonów\n",
    "* Stosujemy wtedy kiedy mamy **wiele obiektów** danego typu ale **niewiele różnych wartości** tych obiektów\n",
    "* Stan obiektu (jego wartość) powinna być możliwa do wyabstrahowania\n",
    "* Współdzielenie obiektów w celu zaoszczędzenia zasobów\n",
    "* Obiekty tworzymy za pomocą fabryki, nowy jeśli nie ma, stary jeśli możemy reużytkować\n",
    "* Nieprawidłowa implementacja może prowadzić do wycieków pamieci"
   ]
  },
  {
   "cell_type": "code",
   "execution_count": null,
   "metadata": {
    "collapsed": false
   },
   "outputs": [],
   "source": [
    "values = ('2', '3', '4', '5', '6', '7', '8', '9', '10', 'J', 'Q', 'K', 'A')\n",
    "suits = ('h', 'c', 'd', 's')\n",
    " \n",
    "class Card:\n",
    "    def __init__(self, value, suit):\n",
    "        self.value, self.suit = value, suit\n",
    "\n",
    "    def __repr__(self):\n",
    "        return \"<Card: %s%s>\" % (self.value, self.suit)\n",
    "\n",
    "    def __eq__(self, card):\n",
    "        return self.value == card.value and self.suit == card.suit\n",
    "\n",
    "    def __ne__(self, card):\n",
    "       return not self.__eq__(card)"
   ]
  },
  {
   "cell_type": "code",
   "execution_count": null,
   "metadata": {
    "collapsed": false
   },
   "outputs": [],
   "source": [
    "c1 = Card('J', 'h')\n",
    "c1"
   ]
  },
  {
   "cell_type": "code",
   "execution_count": null,
   "metadata": {
    "collapsed": false
   },
   "outputs": [],
   "source": [
    "c2 = Card('J', 'h')"
   ]
  },
  {
   "cell_type": "code",
   "execution_count": null,
   "metadata": {
    "collapsed": false
   },
   "outputs": [],
   "source": [
    "c1 == c2"
   ]
  },
  {
   "cell_type": "code",
   "execution_count": null,
   "metadata": {
    "collapsed": false
   },
   "outputs": [],
   "source": [
    "id(c1), id(c2)"
   ]
  },
  {
   "cell_type": "code",
   "execution_count": null,
   "metadata": {
    "collapsed": false
   },
   "outputs": [],
   "source": [
    "id(c1) == id(c2)"
   ]
  },
  {
   "cell_type": "code",
   "execution_count": null,
   "metadata": {
    "collapsed": false
   },
   "outputs": [],
   "source": [
    "import weakref\n",
    "\n",
    "class FlightweightCard(object):\n",
    "    _CardPool = weakref.WeakValueDictionary()\n",
    "\n",
    "    def __new__(cls, value, suit):\n",
    "        obj = FlightweightCard._CardPool.get(value + suit, None)\n",
    "        if not obj:\n",
    "            obj = object.__new__(cls)\n",
    "            FlightweightCard._CardPool[value + suit] = obj\n",
    "            obj.value, obj.suit = value, suit\n",
    "\n",
    "        return obj"
   ]
  },
  {
   "cell_type": "code",
   "execution_count": null,
   "metadata": {
    "collapsed": false
   },
   "outputs": [],
   "source": [
    "c3 = FlightweightCard('J', 'h')\n",
    "c4 = FlightweightCard('J', 'h')"
   ]
  },
  {
   "cell_type": "code",
   "execution_count": null,
   "metadata": {
    "collapsed": false
   },
   "outputs": [],
   "source": [
    "c3 == c4"
   ]
  },
  {
   "cell_type": "code",
   "execution_count": null,
   "metadata": {
    "collapsed": false
   },
   "outputs": [],
   "source": [
    "id(c3) == id(c4)"
   ]
  },
  {
   "cell_type": "markdown",
   "metadata": {},
   "source": [
    "## Wyjątki są też klasami!"
   ]
  },
  {
   "cell_type": "code",
   "execution_count": null,
   "metadata": {
    "collapsed": false
   },
   "outputs": [],
   "source": [
    "5 + '5'"
   ]
  },
  {
   "cell_type": "code",
   "execution_count": null,
   "metadata": {
    "collapsed": false
   },
   "outputs": [],
   "source": [
    "try:\n",
    "    5 + '5'\n",
    "except TypeError:\n",
    "    print 'no-no'"
   ]
  },
  {
   "cell_type": "code",
   "execution_count": null,
   "metadata": {
    "collapsed": false
   },
   "outputs": [],
   "source": [
    "try:\n",
    "    5 + '5'\n",
    "except TypeError, e:\n",
    "    print type(e), e"
   ]
  },
  {
   "cell_type": "code",
   "execution_count": null,
   "metadata": {
    "collapsed": false
   },
   "outputs": [],
   "source": [
    "try:\n",
    "    5 + '5'\n",
    "except (TypeError, KeyError), e:\n",
    "    print type(e), e"
   ]
  },
  {
   "cell_type": "code",
   "execution_count": null,
   "metadata": {
    "collapsed": false
   },
   "outputs": [],
   "source": [
    "try:\n",
    "    dict()[3]\n",
    "except TypeError, e:\n",
    "    print type(e), e\n",
    "except KeyError, e:\n",
    "    print \"it's only key error\""
   ]
  },
  {
   "cell_type": "code",
   "execution_count": null,
   "metadata": {
    "collapsed": false
   },
   "outputs": [],
   "source": [
    "class WrongAnswerError(Exception):\n",
    "    pass\n",
    "\n",
    "try:\n",
    "    raise WrongAnswerError('wrong wrong wrong!')\n",
    "except WrongAnswerError:\n",
    "    print 'good good good'\n",
    "finally:\n",
    "    print 'bye!'"
   ]
  },
  {
   "cell_type": "code",
   "execution_count": null,
   "metadata": {
    "collapsed": false
   },
   "outputs": [],
   "source": [
    "class A(object):\n",
    "    pass\n",
    "\n",
    "raise A"
   ]
  },
  {
   "cell_type": "code",
   "execution_count": null,
   "metadata": {
    "collapsed": false
   },
   "outputs": [],
   "source": [
    "import sys, traceback\n",
    "\n",
    "def lumberjack():\n",
    "    bright_side_of_death()\n",
    "\n",
    "def bright_side_of_death():\n",
    "    return tuple()[0]\n",
    "\n",
    "try:\n",
    "    lumberjack()\n",
    "except IndexError:\n",
    "    exc_type, exc_value, exc_traceback = sys.exc_info()\n",
    "    print \"*** print_tb:\"\n",
    "    traceback.print_tb(exc_traceback, limit=1, file=sys.stdout)\n",
    "    print \"*** print_exception:\"\n",
    "    traceback.print_exception(exc_type, exc_value, exc_traceback,\n",
    "                              limit=2, file=sys.stdout)\n",
    "    print \"*** print_exc:\"\n",
    "    traceback.print_exc()\n",
    "    print \"*** format_exc, first and last line:\"\n",
    "    formatted_lines = traceback.format_exc().splitlines()\n",
    "    print formatted_lines[0]\n",
    "    print formatted_lines[-1]\n",
    "    print \"*** format_exception:\"\n",
    "    print repr(traceback.format_exception(exc_type, exc_value,\n",
    "                                          exc_traceback))\n",
    "    print \"*** extract_tb:\"\n",
    "    print repr(traceback.extract_tb(exc_traceback))\n",
    "    print \"*** format_tb:\"\n",
    "    print repr(traceback.format_tb(exc_traceback))\n",
    "    print \"*** tb_lineno:\", exc_traceback.tb_lineno"
   ]
  },
  {
   "cell_type": "markdown",
   "metadata": {},
   "source": [
    "### Wyjątki i dekoratory"
   ]
  },
  {
   "cell_type": "code",
   "execution_count": null,
   "metadata": {
    "collapsed": false
   },
   "outputs": [],
   "source": [
    "class retry(object):\n",
    "    \n",
    "    def __init__(self, num):\n",
    "        self.num = num\n",
    "    \n",
    "    def __call__(self, f):\n",
    "        def wrapped():\n",
    "            while True:\n",
    "                try:\n",
    "                    f()\n",
    "                except Exception, e:\n",
    "                    if self.num > 0:\n",
    "                        print 'Retry', self.num\n",
    "                        self.num -= 1\n",
    "                    else:\n",
    "                        raise e\n",
    "        return wrapped\n",
    "\n",
    "@retry(10)\n",
    "def i_always_fail():\n",
    "    print 'try'\n",
    "    raise Exception('I always fail')\n",
    "    \n",
    "i_always_fail()"
   ]
  }
 ],
 "metadata": {
  "kernelspec": {
   "display_name": "Python 3",
   "language": "python",
   "name": "python3"
  },
  "language_info": {
   "codemirror_mode": {
    "name": "ipython",
    "version": 3
   },
   "file_extension": ".py",
   "mimetype": "text/x-python",
   "name": "python",
   "nbconvert_exporter": "python",
   "pygments_lexer": "ipython3",
   "version": "3.4.3"
  }
 },
 "nbformat": 4,
 "nbformat_minor": 0
}
