{
 "cells": [
  {
   "cell_type": "markdown",
   "metadata": {},
   "source": [
    "# Język Python - Wykład 4."
   ]
  },
  {
   "cell_type": "markdown",
   "metadata": {},
   "source": [
    "## Context Manager "
   ]
  },
  {
   "cell_type": "markdown",
   "metadata": {},
   "source": [
    "    with expression [as (targets)]:\n",
    "        code block with context of \"targets\"\n",
    "\n",
    "* Możliwość utworzenia dynamicznego (w runtime) kontekstu dla wykonania sekcji kodu\n",
    "* Przykłady użycia: \n",
    "   * czytanie z pliku - w kontekście otwarcia i zamknięcia pliku\n",
    "   * zakładanie i zwalnianie blokad (\"lock\")\n",
    "   * zmiana i odtworzenie globalnego stanu\n",
    "* Obiekt context managera musi implementować protokół: ``__enter__()`` i ``__exit__()``\n",
    "* [PEP 343](http://www.python.org/dev/peps/pep-0343/)"
   ]
  },
  {
   "cell_type": "code",
   "execution_count": 1,
   "metadata": {
    "collapsed": false
   },
   "outputs": [
    {
     "name": "stdout",
     "output_type": "stream",
     "text": [
      "{\n",
      " \"cells\": [\n",
      "  {\n",
      "   \"cell_type\": \"markdown\",\n",
      "   \"\n"
     ]
    }
   ],
   "source": [
    "with open('L4.ipynb') as notebook:\n",
    "    print(notebook.read(50))"
   ]
  },
  {
   "cell_type": "code",
   "execution_count": 2,
   "metadata": {
    "collapsed": false
   },
   "outputs": [
    {
     "data": {
      "text/plain": [
       "<_io.TextIOWrapper name='L4.ipynb' mode='r' encoding='cp1250'>"
      ]
     },
     "execution_count": 2,
     "metadata": {},
     "output_type": "execute_result"
    }
   ],
   "source": [
    "notebook"
   ]
  },
  {
   "cell_type": "markdown",
   "metadata": {},
   "source": [
    "Konstrukcja:\n",
    "\n",
    "        with EXPR as VAR:\n",
    "            BLOCK\n",
    "\n",
    "tłumaczy się jako:\n",
    "\n",
    "        mgr = (EXPR)\n",
    "        exit = type(mgr).__exit__  # Not calling it yet\n",
    "        value = type(mgr).__enter__(mgr)\n",
    "        exc = True\n",
    "        try:\n",
    "            try:\n",
    "                VAR = value  # Only if \"as VAR\" is present\n",
    "                BLOCK\n",
    "            except:\n",
    "                # The exceptional case is handled here\n",
    "                exc = False\n",
    "                if not exit(mgr, *sys.exc_info()):\n",
    "                    raise\n",
    "                # The exception is swallowed if exit() returns true\n",
    "        finally:\n",
    "            # The normal and non-local-goto cases are handled here\n",
    "            if exc:\n",
    "                exit(mgr, None, None, None)"
   ]
  },
  {
   "cell_type": "code",
   "execution_count": null,
   "metadata": {
    "collapsed": true
   },
   "outputs": [],
   "source": []
  },
  {
   "cell_type": "code",
   "execution_count": 52,
   "metadata": {
    "collapsed": false
   },
   "outputs": [
    {
     "ename": "SyntaxError",
     "evalue": "'continue' not properly in loop (<ipython-input-52-43f8f5680de9>, line 11)",
     "output_type": "error",
     "traceback": [
      "\u001b[1;36m  File \u001b[1;32m\"<ipython-input-52-43f8f5680de9>\"\u001b[1;36m, line \u001b[1;32m11\u001b[0m\n\u001b[1;33m    continue\u001b[0m\n\u001b[1;37m    ^\u001b[0m\n\u001b[1;31mSyntaxError\u001b[0m\u001b[1;31m:\u001b[0m 'continue' not properly in loop\n"
     ]
    }
   ],
   "source": [
    "class MyContextManager(object):\n",
    "    \n",
    "    def __enter__(self):\n",
    "        print(\"Context prepared\")\n",
    "    \n",
    "    def __exit__(self, exc_type, exc_value, traceback):\n",
    "        print(\"Context closed \", exc_type, exc_value, traceback)\n",
    "\n",
    "        \n",
    "with MyContextManager():\n",
    "    continue\n",
    "    print(\"Hello\")"
   ]
  },
  {
   "cell_type": "code",
   "execution_count": 4,
   "metadata": {
    "collapsed": false
   },
   "outputs": [
    {
     "name": "stdout",
     "output_type": "stream",
     "text": [
      "Context prepared\n",
      "Context closed  <class 'Exception'>  <traceback object at 0x00000000054C7948>\n"
     ]
    },
    {
     "ename": "Exception",
     "evalue": "",
     "output_type": "error",
     "traceback": [
      "\u001b[1;31m---------------------------------------------------------------------------\u001b[0m",
      "\u001b[1;31mException\u001b[0m                                 Traceback (most recent call last)",
      "\u001b[1;32m<ipython-input-4-29d27a855c3f>\u001b[0m in \u001b[0;36m<module>\u001b[1;34m()\u001b[0m\n\u001b[0;32m      9\u001b[0m \u001b[1;33m\u001b[0m\u001b[0m\n\u001b[0;32m     10\u001b[0m \u001b[1;32mwith\u001b[0m \u001b[0mMyContextManager\u001b[0m\u001b[1;33m(\u001b[0m\u001b[1;33m)\u001b[0m\u001b[1;33m:\u001b[0m\u001b[1;33m\u001b[0m\u001b[0m\n\u001b[1;32m---> 11\u001b[1;33m     \u001b[1;32mraise\u001b[0m \u001b[0mException\u001b[0m\u001b[1;33m(\u001b[0m\u001b[1;33m)\u001b[0m\u001b[1;33m\u001b[0m\u001b[0m\n\u001b[0m",
      "\u001b[1;31mException\u001b[0m: "
     ]
    }
   ],
   "source": [
    "class MyContextManager(object):\n",
    "    \n",
    "    def __enter__(self):\n",
    "        print(\"Context prepared\")\n",
    "    \n",
    "    def __exit__(self, exc_type, exc_value, traceback):\n",
    "        print(\"Context closed \", exc_type, exc_value, traceback)\n",
    "\n",
    "        \n",
    "with MyContextManager():\n",
    "    raise Exception()"
   ]
  },
  {
   "cell_type": "code",
   "execution_count": 5,
   "metadata": {
    "collapsed": false
   },
   "outputs": [
    {
     "name": "stdout",
     "output_type": "stream",
     "text": [
      "Dog prepared\n",
      "Hau\n",
      "Dog closed  None None None\n"
     ]
    }
   ],
   "source": [
    "class MyContextManager(object):\n",
    "    \n",
    "    def __init__(self, custom=\"Context\"):\n",
    "        self.custom = custom\n",
    "        \n",
    "    def __enter__(self):\n",
    "        print(\"%s prepared\" % self.custom)\n",
    "    \n",
    "    def __exit__(self, exc_type, exc_value, traceback):\n",
    "        print(\"%s closed \" % self.custom, exc_type, exc_value, traceback)\n",
    "\n",
    "        \n",
    "with MyContextManager('Dog'):\n",
    "    print(\"Hau\")"
   ]
  },
  {
   "cell_type": "markdown",
   "metadata": {},
   "source": [
    "### Context manager z użyciem dekoratora"
   ]
  },
  {
   "cell_type": "code",
   "execution_count": 6,
   "metadata": {
    "collapsed": false
   },
   "outputs": [
    {
     "name": "stdout",
     "output_type": "stream",
     "text": [
      "<h1>\n",
      "foo\n",
      "</h1>\n",
      "\n",
      "<div>\n",
      "foo\n",
      "</div>\n"
     ]
    }
   ],
   "source": [
    "from contextlib import contextmanager\n",
    "\n",
    "@contextmanager\n",
    "def tag(name):\n",
    "    print(\"<%s>\" % name,)\n",
    "    yield\n",
    "    print(\"</%s>\" % name,)\n",
    "\n",
    "with tag(\"h1\"):\n",
    "    print(\"foo\",)\n",
    "\n",
    "print()\n",
    "\n",
    "with tag(\"div\"):\n",
    "    print(\"foo\",)\n",
    "\n"
   ]
  },
  {
   "cell_type": "markdown",
   "metadata": {},
   "source": [
    "## Metody specjalne (cd..)"
   ]
  },
  {
   "cell_type": "markdown",
   "metadata": {},
   "source": [
    "### ``__repr__``"
   ]
  },
  {
   "cell_type": "code",
   "execution_count": 9,
   "metadata": {
    "collapsed": false
   },
   "outputs": [
    {
     "name": "stdout",
     "output_type": "stream",
     "text": [
      "[<__main__.T object at 0x00000000009F0E10>, <__main__.T object at 0x00000000009F0710>, <__main__.T object at 0x00000000009F0FD0>]\n"
     ]
    }
   ],
   "source": [
    "class T:\n",
    "    pass\n",
    "\n",
    "print([T(), T(), T()])"
   ]
  },
  {
   "cell_type": "code",
   "execution_count": 8,
   "metadata": {
    "collapsed": false
   },
   "outputs": [
    {
     "name": "stdout",
     "output_type": "stream",
     "text": [
      "[T class, T class, T class]\n",
      "T class\n"
     ]
    }
   ],
   "source": [
    "class T:\n",
    "    def __repr__(self):\n",
    "        return 'T class'\n",
    "\n",
    "print([T(), T(), T()])\n",
    "print(repr(T()))"
   ]
  },
  {
   "cell_type": "markdown",
   "metadata": {},
   "source": [
    "### ``__str__`` i ``__unicode__``"
   ]
  },
  {
   "cell_type": "code",
   "execution_count": 10,
   "metadata": {
    "collapsed": false
   },
   "outputs": [
    {
     "name": "stdout",
     "output_type": "stream",
     "text": [
      "Porsche 911 (3.6 L)\n"
     ]
    }
   ],
   "source": [
    "class Car:\n",
    "    def __init__(self, vendor, model, ccm):\n",
    "        self.vendor = vendor\n",
    "        self.model = model\n",
    "        self.ccm = ccm\n",
    "        \n",
    "    def __str__(self):\n",
    "        return '%s %s (%.1f L)' % (self.vendor, self.model, self.ccm / 1000.0)\n",
    "\n",
    "print(Car('Porsche', '911', 3600))"
   ]
  },
  {
   "cell_type": "markdown",
   "metadata": {},
   "source": [
    "### ``__hash__``"
   ]
  },
  {
   "cell_type": "code",
   "execution_count": 12,
   "metadata": {
    "collapsed": false
   },
   "outputs": [
    {
     "data": {
      "text/plain": [
       "{<__main__.T at 0x9f0eb8>: 1}"
      ]
     },
     "execution_count": 12,
     "metadata": {},
     "output_type": "execute_result"
    }
   ],
   "source": [
    "class T:\n",
    "    def __hash__(self):\n",
    "        return hash(\"fake hash\")\n",
    "\n",
    "{T(): 1}\n",
    "        "
   ]
  },
  {
   "cell_type": "code",
   "execution_count": 13,
   "metadata": {
    "collapsed": false
   },
   "outputs": [
    {
     "data": {
      "text/plain": [
       "-4763684776134142603"
      ]
     },
     "execution_count": 13,
     "metadata": {},
     "output_type": "execute_result"
    }
   ],
   "source": [
    "hash(\"fake hash\")"
   ]
  },
  {
   "cell_type": "markdown",
   "metadata": {},
   "source": [
    "### ``__nonzero__``"
   ]
  },
  {
   "cell_type": "code",
   "execution_count": 14,
   "metadata": {
    "collapsed": false
   },
   "outputs": [
    {
     "name": "stdout",
     "output_type": "stream",
     "text": [
      "True\n"
     ]
    }
   ],
   "source": [
    "class T:\n",
    "    def __nonzero__(self):\n",
    "        print(id(self))\n",
    "        if id(self) / 10 % 2 :\n",
    "            return True\n",
    "        else:\n",
    "            return False\n",
    "print(bool(T()))        "
   ]
  },
  {
   "cell_type": "markdown",
   "metadata": {},
   "source": [
    "### Emulacja typu kontenera (cd..)"
   ]
  },
  {
   "cell_type": "code",
   "execution_count": 15,
   "metadata": {
    "collapsed": false
   },
   "outputs": [
    {
     "name": "stdout",
     "output_type": "stream",
     "text": [
      "3\n",
      "True\n"
     ]
    }
   ],
   "source": [
    "class T():\n",
    "   \n",
    "    c = [1, 2, 3]\n",
    "\n",
    "    def __len__(self):\n",
    "        return len(self.c)\n",
    "    \n",
    "    def __contains__(self, x):\n",
    "        return x in self.c\n",
    "    \n",
    "    def __iter__(self):\n",
    "        for x in self.c:\n",
    "            yield x\n",
    "    \n",
    "t = T()\n",
    "print(len(t))\n",
    "print(2 in t)"
   ]
  },
  {
   "cell_type": "code",
   "execution_count": 16,
   "metadata": {
    "collapsed": false
   },
   "outputs": [
    {
     "data": {
      "text/plain": [
       "<generator object __iter__ at 0x0000000000A4F558>"
      ]
     },
     "execution_count": 16,
     "metadata": {},
     "output_type": "execute_result"
    }
   ],
   "source": [
    "iter(t)"
   ]
  },
  {
   "cell_type": "code",
   "execution_count": 17,
   "metadata": {
    "collapsed": false
   },
   "outputs": [
    {
     "data": {
      "text/plain": [
       "[1, 2, 3]"
      ]
     },
     "execution_count": 17,
     "metadata": {},
     "output_type": "execute_result"
    }
   ],
   "source": [
    "list(iter(t))"
   ]
  },
  {
   "cell_type": "markdown",
   "metadata": {},
   "source": [
    "## New-style class vs classic classes"
   ]
  },
  {
   "cell_type": "code",
   "execution_count": 18,
   "metadata": {
    "collapsed": false
   },
   "outputs": [
    {
     "name": "stdout",
     "output_type": "stream",
     "text": [
      "<class 'type'>\n",
      "<class '__main__.T'>\n"
     ]
    }
   ],
   "source": [
    "class T:\n",
    "    pass\n",
    "print(type(T))\n",
    "print(type(T()))"
   ]
  },
  {
   "cell_type": "code",
   "execution_count": 19,
   "metadata": {
    "collapsed": false
   },
   "outputs": [
    {
     "name": "stdout",
     "output_type": "stream",
     "text": [
      "<class 'type'>\n",
      "<__main__.T object at 0x00000000056F0A58>\n"
     ]
    }
   ],
   "source": [
    "class T(object):\n",
    "    pass\n",
    "print(type(T))\n",
    "print(T())"
   ]
  },
  {
   "cell_type": "markdown",
   "metadata": {},
   "source": [
    "* obiekty \"starych\" klas pythona są realizowane przy użyciu jednego wbudowanego typu \"instance\"\n",
    "* obiekty nowych klas, są ni mniej ni więcej definiowanym przez użytkownika nowym typem\n",
    "* stare klasy występują tylko w Pythonie 2.x jako kompatybilność wsteczna. Python 3 nie posiada ich"
   ]
  },
  {
   "cell_type": "code",
   "execution_count": null,
   "metadata": {
    "collapsed": false
   },
   "outputs": [],
   "source": [
    "class MyClass(): # old-style\n",
    "\n",
    "    def __init__(self, param): \n",
    "        print('init', param)\n",
    "\n",
    "    def __new__(cls, param):\n",
    "        print(cls.__name__, param)\n",
    "        return object.__new__(cls) \n",
    "\n",
    "MyClass(1)"
   ]
  },
  {
   "cell_type": "code",
   "execution_count": null,
   "metadata": {
    "collapsed": false
   },
   "outputs": [],
   "source": [
    "class MyClass(object): # new-style\n",
    "\n",
    "    def __init__(self, param): \n",
    "        print('init', param)\n",
    "\n",
    "    def __new__(cls, param):\n",
    "        print(cls.__name__, param)\n",
    "        return object.__new__(cls) \n",
    "\n",
    "MyClass(1)"
   ]
  },
  {
   "cell_type": "markdown",
   "metadata": {},
   "source": [
    "## Dziedziczenie, mixiny i MRO"
   ]
  },
  {
   "cell_type": "code",
   "execution_count": 20,
   "metadata": {
    "collapsed": false
   },
   "outputs": [
    {
     "ename": "NotImplementedError",
     "evalue": "Provide a top speed for a car",
     "output_type": "error",
     "traceback": [
      "\u001b[1;31m---------------------------------------------------------------------------\u001b[0m",
      "\u001b[1;31mNotImplementedError\u001b[0m                       Traceback (most recent call last)",
      "\u001b[1;32m<ipython-input-20-45e3c6c53f44>\u001b[0m in \u001b[0;36m<module>\u001b[1;34m()\u001b[0m\n\u001b[0;32m     21\u001b[0m         \u001b[0mself\u001b[0m\u001b[1;33m.\u001b[0m\u001b[0maccelerate\u001b[0m\u001b[1;33m(\u001b[0m\u001b[1;33m)\u001b[0m\u001b[1;33m\u001b[0m\u001b[0m\n\u001b[0;32m     22\u001b[0m \u001b[1;33m\u001b[0m\u001b[0m\n\u001b[1;32m---> 23\u001b[1;33m \u001b[0mCar\u001b[0m\u001b[1;33m(\u001b[0m\u001b[1;33m)\u001b[0m\u001b[1;33m.\u001b[0m\u001b[0maccelerate\u001b[0m\u001b[1;33m(\u001b[0m\u001b[1;33m)\u001b[0m\u001b[1;33m\u001b[0m\u001b[0m\n\u001b[0m",
      "\u001b[1;32m<ipython-input-20-45e3c6c53f44>\u001b[0m in \u001b[0;36maccelerate\u001b[1;34m(self)\u001b[0m\n\u001b[0;32m     11\u001b[0m \u001b[1;33m\u001b[0m\u001b[0m\n\u001b[0;32m     12\u001b[0m     \u001b[1;32mdef\u001b[0m \u001b[0maccelerate\u001b[0m\u001b[1;33m(\u001b[0m\u001b[0mself\u001b[0m\u001b[1;33m)\u001b[0m\u001b[1;33m:\u001b[0m\u001b[1;33m\u001b[0m\u001b[0m\n\u001b[1;32m---> 13\u001b[1;33m         \u001b[0mprint\u001b[0m\u001b[1;33m(\u001b[0m\u001b[1;34m'%s accelerated to %d'\u001b[0m \u001b[1;33m%\u001b[0m \u001b[1;33m(\u001b[0m\u001b[0mself\u001b[0m\u001b[1;33m.\u001b[0m\u001b[0m__class__\u001b[0m\u001b[1;33m.\u001b[0m\u001b[0m__name__\u001b[0m\u001b[1;33m,\u001b[0m \u001b[0mself\u001b[0m\u001b[1;33m.\u001b[0m\u001b[0mTOP_SPEED\u001b[0m\u001b[1;33m)\u001b[0m\u001b[1;33m)\u001b[0m\u001b[1;33m\u001b[0m\u001b[0m\n\u001b[0m\u001b[0;32m     14\u001b[0m \u001b[1;33m\u001b[0m\u001b[0m\n\u001b[0;32m     15\u001b[0m     \u001b[0m_color\u001b[0m \u001b[1;33m=\u001b[0m \u001b[1;34m'black'\u001b[0m\u001b[1;33m\u001b[0m\u001b[0m\n",
      "\u001b[1;32m<ipython-input-20-45e3c6c53f44>\u001b[0m in \u001b[0;36mTOP_SPEED\u001b[1;34m(self)\u001b[0m\n\u001b[0;32m      8\u001b[0m             \u001b[1;32mreturn\u001b[0m \u001b[0mself\u001b[0m\u001b[1;33m.\u001b[0m\u001b[0m_TOP_SPEED\u001b[0m\u001b[1;33m\u001b[0m\u001b[0m\n\u001b[0;32m      9\u001b[0m         \u001b[1;32melse\u001b[0m\u001b[1;33m:\u001b[0m\u001b[1;33m\u001b[0m\u001b[0m\n\u001b[1;32m---> 10\u001b[1;33m             \u001b[1;32mraise\u001b[0m \u001b[0mNotImplementedError\u001b[0m\u001b[1;33m(\u001b[0m\u001b[1;34m'Provide a top speed for a car'\u001b[0m\u001b[1;33m)\u001b[0m\u001b[1;33m\u001b[0m\u001b[0m\n\u001b[0m\u001b[0;32m     11\u001b[0m \u001b[1;33m\u001b[0m\u001b[0m\n\u001b[0;32m     12\u001b[0m     \u001b[1;32mdef\u001b[0m \u001b[0maccelerate\u001b[0m\u001b[1;33m(\u001b[0m\u001b[0mself\u001b[0m\u001b[1;33m)\u001b[0m\u001b[1;33m:\u001b[0m\u001b[1;33m\u001b[0m\u001b[0m\n",
      "\u001b[1;31mNotImplementedError\u001b[0m: Provide a top speed for a car"
     ]
    }
   ],
   "source": [
    "class Car(object):\n",
    "    \n",
    "    _TOP_SPEED = None\n",
    "    \n",
    "    @property\n",
    "    def TOP_SPEED(self):\n",
    "        if self._TOP_SPEED is not None:\n",
    "            return self._TOP_SPEED\n",
    "        else:\n",
    "            raise NotImplementedError('Provide a top speed for a car')\n",
    "            \n",
    "    def accelerate(self):\n",
    "        print('%s accelerated to %d' % (self.__class__.__name__, self.TOP_SPEED))\n",
    "        \n",
    "    _color = 'black'\n",
    "    def color(self):\n",
    "        print(\"All cars should be %s\" % self._color)\n",
    "    \n",
    "    def drive(self):\n",
    "        self.horn()\n",
    "        self.accelerate()\n",
    "    \n",
    "Car().accelerate()"
   ]
  },
  {
   "cell_type": "code",
   "execution_count": null,
   "metadata": {
    "collapsed": false
   },
   "outputs": [],
   "source": [
    "class Fiat(Car):\n",
    "    _TOP_SPEED = 150\n",
    "\n",
    "class AlfaRomeo(Car):\n",
    "    _TOP_SPEED = 250\n",
    "    \n",
    "    def accelerate(self, *args, **kwargs):\n",
    "        print('WROOOOOM ',)\n",
    "        super(self.__class__, self).accelerate(*args, **kwargs)\n",
    "    \n",
    "Fiat().accelerate()\n",
    "Fiat().color()\n",
    "AlfaRomeo().accelerate()"
   ]
  },
  {
   "cell_type": "code",
   "execution_count": 21,
   "metadata": {
    "collapsed": false
   },
   "outputs": [
    {
     "ename": "NameError",
     "evalue": "name 'AlfaRomeo' is not defined",
     "output_type": "error",
     "traceback": [
      "\u001b[1;31m---------------------------------------------------------------------------\u001b[0m",
      "\u001b[1;31mNameError\u001b[0m                                 Traceback (most recent call last)",
      "\u001b[1;32m<ipython-input-21-5b806134baeb>\u001b[0m in \u001b[0;36m<module>\u001b[1;34m()\u001b[0m\n\u001b[0;32m      4\u001b[0m         \u001b[0mprint\u001b[0m\u001b[1;33m(\u001b[0m\u001b[1;34m\"My %s is %s!!!\"\u001b[0m \u001b[1;33m%\u001b[0m \u001b[1;33m(\u001b[0m\u001b[0mself\u001b[0m\u001b[1;33m.\u001b[0m\u001b[0m__class__\u001b[0m\u001b[1;33m.\u001b[0m\u001b[0m__name__\u001b[0m\u001b[1;33m,\u001b[0m \u001b[0mself\u001b[0m\u001b[1;33m.\u001b[0m\u001b[0m_color\u001b[0m\u001b[1;33m)\u001b[0m\u001b[1;33m)\u001b[0m\u001b[1;33m\u001b[0m\u001b[0m\n\u001b[0;32m      5\u001b[0m \u001b[1;33m\u001b[0m\u001b[0m\n\u001b[1;32m----> 6\u001b[1;33m \u001b[1;32mclass\u001b[0m \u001b[0mMyFiatWithAlfaRomeoEngine\u001b[0m\u001b[1;33m(\u001b[0m\u001b[0mMyCar\u001b[0m\u001b[1;33m,\u001b[0m \u001b[0mAlfaRomeo\u001b[0m\u001b[1;33m,\u001b[0m \u001b[0mFiat\u001b[0m\u001b[1;33m)\u001b[0m\u001b[1;33m:\u001b[0m\u001b[1;33m\u001b[0m\u001b[0m\n\u001b[0m\u001b[0;32m      7\u001b[0m     \u001b[1;32mpass\u001b[0m\u001b[1;33m\u001b[0m\u001b[0m\n\u001b[0;32m      8\u001b[0m \u001b[1;33m\u001b[0m\u001b[0m\n",
      "\u001b[1;31mNameError\u001b[0m: name 'AlfaRomeo' is not defined"
     ]
    }
   ],
   "source": [
    "class MyCar(object):\n",
    "    _color = 'red'\n",
    "    def color(self):\n",
    "        print(\"My %s is %s!!!\" % (self.__class__.__name__, self._color))\n",
    "        \n",
    "class MyFiatWithAlfaRomeoEngine(MyCar, AlfaRomeo, Fiat):\n",
    "    pass\n",
    "\n",
    "MyFiatWithAlfaRomeoEngine().accelerate()\n",
    "MyFiatWithAlfaRomeoEngine().color()\n"
   ]
  },
  {
   "cell_type": "code",
   "execution_count": 22,
   "metadata": {
    "collapsed": false
   },
   "outputs": [
    {
     "ename": "NameError",
     "evalue": "name 'MyFiatWithAlfaRomeoEngine' is not defined",
     "output_type": "error",
     "traceback": [
      "\u001b[1;31m---------------------------------------------------------------------------\u001b[0m",
      "\u001b[1;31mNameError\u001b[0m                                 Traceback (most recent call last)",
      "\u001b[1;32m<ipython-input-22-009aaf6462a9>\u001b[0m in \u001b[0;36m<module>\u001b[1;34m()\u001b[0m\n\u001b[1;32m----> 1\u001b[1;33m \u001b[0mMyFiatWithAlfaRomeoEngine\u001b[0m\u001b[1;33m.\u001b[0m\u001b[0m__mro__\u001b[0m\u001b[1;33m\u001b[0m\u001b[0m\n\u001b[0m",
      "\u001b[1;31mNameError\u001b[0m: name 'MyFiatWithAlfaRomeoEngine' is not defined"
     ]
    }
   ],
   "source": [
    "MyFiatWithAlfaRomeoEngine.__mro__"
   ]
  },
  {
   "cell_type": "markdown",
   "metadata": {},
   "source": [
    "### Mixin"
   ]
  },
  {
   "cell_type": "code",
   "execution_count": 23,
   "metadata": {
    "collapsed": false
   },
   "outputs": [
    {
     "name": "stdout",
     "output_type": "stream",
     "text": [
      "Beeeep! Beeeep!\n",
      "Fiat accelerated to 150\n",
      "Beeeep! Beeeep!\n",
      "AlfaRomeo accelerated to 250\n"
     ]
    }
   ],
   "source": [
    "class HornMixin(object):\n",
    "    def horn(self):\n",
    "        print(\"Beeeep! Beeeep!\")\n",
    "        \n",
    "class Fiat(HornMixin, Car):\n",
    "    _TOP_SPEED = 150\n",
    "\n",
    "class AlfaRomeo(HornMixin, Car):\n",
    "    _TOP_SPEED = 250\n",
    "    \n",
    "Fiat().drive()\n",
    "AlfaRomeo().drive()        "
   ]
  },
  {
   "cell_type": "code",
   "execution_count": 24,
   "metadata": {
    "collapsed": false
   },
   "outputs": [
    {
     "name": "stdout",
     "output_type": "stream",
     "text": [
      "MyAlfa accelerated to 250\n",
      "Fiat accelerated to 50\n"
     ]
    }
   ],
   "source": [
    "class OnlyRedCarsCanSpeedingMixin(object):\n",
    "    \n",
    "    @property\n",
    "    def TOP_SPEED(self):\n",
    "        if self._color is 'red':\n",
    "            return self._TOP_SPEED\n",
    "        else:\n",
    "            return 50\n",
    "\n",
    "class MyAlfa(OnlyRedCarsCanSpeedingMixin, MyCar, AlfaRomeo):\n",
    "    pass\n",
    "\n",
    "class Fiat(OnlyRedCarsCanSpeedingMixin, Fiat):\n",
    "    pass\n",
    "\n",
    "MyAlfa().accelerate()\n",
    "Fiat().accelerate()"
   ]
  },
  {
   "cell_type": "code",
   "execution_count": 25,
   "metadata": {
    "collapsed": false
   },
   "outputs": [
    {
     "ename": "NotImplementedError",
     "evalue": "Implement how to horn!!!",
     "output_type": "error",
     "traceback": [
      "\u001b[1;31m---------------------------------------------------------------------------\u001b[0m",
      "\u001b[1;31mNotImplementedError\u001b[0m                       Traceback (most recent call last)",
      "\u001b[1;32m<ipython-input-25-5b4e6860767c>\u001b[0m in \u001b[0;36m<module>\u001b[1;34m()\u001b[0m\n\u001b[0;32m     14\u001b[0m         \u001b[0mself\u001b[0m\u001b[1;33m.\u001b[0m\u001b[0maccelerate\u001b[0m\u001b[1;33m(\u001b[0m\u001b[1;33m)\u001b[0m\u001b[1;33m\u001b[0m\u001b[0m\n\u001b[0;32m     15\u001b[0m \u001b[1;33m\u001b[0m\u001b[0m\n\u001b[1;32m---> 16\u001b[1;33m \u001b[0mCar\u001b[0m\u001b[1;33m(\u001b[0m\u001b[1;33m)\u001b[0m\u001b[1;33m.\u001b[0m\u001b[0mdrive\u001b[0m\u001b[1;33m(\u001b[0m\u001b[1;33m)\u001b[0m\u001b[1;33m\u001b[0m\u001b[0m\n\u001b[0m",
      "\u001b[1;32m<ipython-input-25-5b4e6860767c>\u001b[0m in \u001b[0;36mdrive\u001b[1;34m(self)\u001b[0m\n\u001b[0;32m     11\u001b[0m \u001b[1;33m\u001b[0m\u001b[0m\n\u001b[0;32m     12\u001b[0m     \u001b[1;32mdef\u001b[0m \u001b[0mdrive\u001b[0m\u001b[1;33m(\u001b[0m\u001b[0mself\u001b[0m\u001b[1;33m)\u001b[0m\u001b[1;33m:\u001b[0m\u001b[1;33m\u001b[0m\u001b[0m\n\u001b[1;32m---> 13\u001b[1;33m         \u001b[0mself\u001b[0m\u001b[1;33m.\u001b[0m\u001b[0mhorn\u001b[0m\u001b[1;33m(\u001b[0m\u001b[1;33m)\u001b[0m\u001b[1;33m\u001b[0m\u001b[0m\n\u001b[0m\u001b[0;32m     14\u001b[0m         \u001b[0mself\u001b[0m\u001b[1;33m.\u001b[0m\u001b[0maccelerate\u001b[0m\u001b[1;33m(\u001b[0m\u001b[1;33m)\u001b[0m\u001b[1;33m\u001b[0m\u001b[0m\n\u001b[0;32m     15\u001b[0m \u001b[1;33m\u001b[0m\u001b[0m\n",
      "\u001b[1;32m<ipython-input-25-5b4e6860767c>\u001b[0m in \u001b[0;36mhorn\u001b[1;34m(self)\u001b[0m\n\u001b[0;32m      8\u001b[0m \u001b[1;33m\u001b[0m\u001b[0m\n\u001b[0;32m      9\u001b[0m     \u001b[1;32mdef\u001b[0m \u001b[0mhorn\u001b[0m\u001b[1;33m(\u001b[0m\u001b[0mself\u001b[0m\u001b[1;33m)\u001b[0m\u001b[1;33m:\u001b[0m\u001b[1;33m\u001b[0m\u001b[0m\n\u001b[1;32m---> 10\u001b[1;33m         \u001b[1;32mraise\u001b[0m \u001b[0mNotImplementedError\u001b[0m\u001b[1;33m(\u001b[0m\u001b[1;34m'Implement how to horn!!!'\u001b[0m\u001b[1;33m)\u001b[0m\u001b[1;33m\u001b[0m\u001b[0m\n\u001b[0m\u001b[0;32m     11\u001b[0m \u001b[1;33m\u001b[0m\u001b[0m\n\u001b[0;32m     12\u001b[0m     \u001b[1;32mdef\u001b[0m \u001b[0mdrive\u001b[0m\u001b[1;33m(\u001b[0m\u001b[0mself\u001b[0m\u001b[1;33m)\u001b[0m\u001b[1;33m:\u001b[0m\u001b[1;33m\u001b[0m\u001b[0m\n",
      "\u001b[1;31mNotImplementedError\u001b[0m: Implement how to horn!!!"
     ]
    }
   ],
   "source": [
    "class Car(object):\n",
    "    \n",
    "    TOP_SPEED = 100\n",
    "           \n",
    "    def accelerate(self):\n",
    "        print('%s accelerated to %d' % (\n",
    "            self.__class__.__name__, self.TOP_SPEED))\n",
    "    \n",
    "    def horn(self):\n",
    "        raise NotImplementedError('Implement how to horn!!!')\n",
    "    \n",
    "    def drive(self):\n",
    "        self.horn()\n",
    "        self.accelerate()\n",
    "        \n",
    "Car().drive()        "
   ]
  },
  {
   "cell_type": "markdown",
   "metadata": {},
   "source": [
    "### MRO"
   ]
  },
  {
   "cell_type": "raw",
   "metadata": {},
   "source": [
    "     -----------\n",
    "    |           |\n",
    "    |    O      |\n",
    "    |  /   \\    |\n",
    "     - X    Y  /\n",
    "       |  / | /\n",
    "       | /  |/\n",
    "       A    B\n",
    "       \\   /\n",
    "         C"
   ]
  },
  {
   "cell_type": "code",
   "execution_count": 26,
   "metadata": {
    "collapsed": false
   },
   "outputs": [
    {
     "ename": "TypeError",
     "evalue": "Cannot create a consistent method resolution\norder (MRO) for bases Y, X",
     "output_type": "error",
     "traceback": [
      "\u001b[1;31m---------------------------------------------------------------------------\u001b[0m",
      "\u001b[1;31mTypeError\u001b[0m                                 Traceback (most recent call last)",
      "\u001b[1;32m<ipython-input-26-b12d8f851ab1>\u001b[0m in \u001b[0;36m<module>\u001b[1;34m()\u001b[0m\n\u001b[0;32m      4\u001b[0m \u001b[1;32mclass\u001b[0m \u001b[0mA\u001b[0m\u001b[1;33m(\u001b[0m\u001b[0mX\u001b[0m\u001b[1;33m,\u001b[0m\u001b[0mY\u001b[0m\u001b[1;33m)\u001b[0m\u001b[1;33m:\u001b[0m \u001b[1;32mpass\u001b[0m\u001b[1;33m\u001b[0m\u001b[0m\n\u001b[0;32m      5\u001b[0m \u001b[1;32mclass\u001b[0m \u001b[0mB\u001b[0m\u001b[1;33m(\u001b[0m\u001b[0mY\u001b[0m\u001b[1;33m,\u001b[0m\u001b[0mX\u001b[0m\u001b[1;33m)\u001b[0m\u001b[1;33m:\u001b[0m \u001b[1;32mpass\u001b[0m\u001b[1;33m\u001b[0m\u001b[0m\n\u001b[1;32m----> 6\u001b[1;33m \u001b[1;32mclass\u001b[0m \u001b[0mC\u001b[0m\u001b[1;33m(\u001b[0m\u001b[0mA\u001b[0m\u001b[1;33m,\u001b[0m\u001b[0mB\u001b[0m\u001b[1;33m)\u001b[0m\u001b[1;33m:\u001b[0m \u001b[1;32mpass\u001b[0m\u001b[1;33m\u001b[0m\u001b[0m\n\u001b[0m\u001b[0;32m      7\u001b[0m \u001b[0mC\u001b[0m\u001b[1;33m.\u001b[0m\u001b[0m__mro__\u001b[0m\u001b[1;33m\u001b[0m\u001b[0m\n",
      "\u001b[1;31mTypeError\u001b[0m: Cannot create a consistent method resolution\norder (MRO) for bases Y, X"
     ]
    }
   ],
   "source": [
    "O = object\n",
    "class X(O): pass\n",
    "class Y(O): pass\n",
    "class A(X,Y): pass\n",
    "class B(Y,X): pass\n",
    "class C(A,B): pass\n",
    "C.__mro__"
   ]
  },
  {
   "cell_type": "raw",
   "metadata": {},
   "source": [
    "                          6\n",
    "                         ---\n",
    "Level 3                 | O |                  (more general)\n",
    "                      /  ---  \\\n",
    "                     /    |    \\                      |\n",
    "                    /     |     \\                     |\n",
    "                   /      |      \\                    |\n",
    "                  ---    ---    ---                   |\n",
    "Level 2        3 | D | 4| E |  | F | 5                |\n",
    "                  ---    ---    ---                   |\n",
    "                   \\  \\ _ /       |                   |\n",
    "                    \\    / \\ _    |                   |\n",
    "                     \\  /      \\  |                   |\n",
    "                      ---      ---                    |\n",
    "Level 1            1 | B |    | C | 2                 |\n",
    "                      ---      ---                    |\n",
    "                        \\      /                      |\n",
    "                         \\    /                      \\ /\n",
    "                           ---\n",
    "Level 0                 0 | A |                (more specialized)\n",
    "                           ---"
   ]
  },
  {
   "cell_type": "code",
   "execution_count": 27,
   "metadata": {
    "collapsed": false
   },
   "outputs": [
    {
     "name": "stdout",
     "output_type": "stream",
     "text": [
      "(<class '__main__.A'>, <class '__main__.B'>, <class '__main__.C'>, <class '__main__.D'>, <class '__main__.E'>, <class '__main__.F'>, <class 'object'>)\n"
     ]
    }
   ],
   "source": [
    "O = object\n",
    "class F(O): pass\n",
    "class E(O): pass\n",
    "class D(O): pass\n",
    "class C(D,F): pass\n",
    "class B(D,E): pass\n",
    "class A(B,C): pass\n",
    "print(A.__mro__) "
   ]
  },
  {
   "cell_type": "code",
   "execution_count": null,
   "metadata": {
    "collapsed": false
   },
   "outputs": [],
   "source": []
  },
  {
   "cell_type": "markdown",
   "metadata": {},
   "source": [
    "## flightweight pattern = ``__new__()`` + weakref"
   ]
  },
  {
   "cell_type": "markdown",
   "metadata": {},
   "source": [
    "* Fabryka singletonów\n",
    "* Stosujemy wtedy kiedy mamy **wiele obiektów** danego typu ale **niewiele różnych wartości** tych obiektów\n",
    "* Stan obiektu (jego wartość) powinna być możliwa do wyabstrahowania\n",
    "* Współdzielenie obiektów w celu zaoszczędzenia zasobów\n",
    "* Obiekty tworzymy za pomocą fabryki, nowy jeśli nie ma, stary jeśli możemy reużytkować\n",
    "* Nieprawidłowa implementacja może prowadzić do wycieków pamieci"
   ]
  },
  {
   "cell_type": "code",
   "execution_count": 28,
   "metadata": {
    "collapsed": false
   },
   "outputs": [],
   "source": [
    "values = ('2', '3', '4', '5', '6', '7', '8', '9', '10', 'J', 'Q', 'K', 'A')\n",
    "suits = ('h', 'c', 'd', 's')\n",
    " \n",
    "class Card:\n",
    "    def __init__(self, value, suit):\n",
    "        self.value, self.suit = value, suit\n",
    "\n",
    "    def __repr__(self):\n",
    "        return \"<Card: %s%s>\" % (self.value, self.suit)\n",
    "\n",
    "    def __eq__(self, card):\n",
    "        return self.value == card.value and self.suit == card.suit\n",
    "\n",
    "    def __ne__(self, card):\n",
    "       return not self.__eq__(card)"
   ]
  },
  {
   "cell_type": "code",
   "execution_count": 29,
   "metadata": {
    "collapsed": false
   },
   "outputs": [
    {
     "data": {
      "text/plain": [
       "<Card: Jh>"
      ]
     },
     "execution_count": 29,
     "metadata": {},
     "output_type": "execute_result"
    }
   ],
   "source": [
    "c1 = Card('J', 'h')\n",
    "c1"
   ]
  },
  {
   "cell_type": "code",
   "execution_count": 31,
   "metadata": {
    "collapsed": false
   },
   "outputs": [],
   "source": [
    "c2 = Card('J', 'h')"
   ]
  },
  {
   "cell_type": "code",
   "execution_count": 32,
   "metadata": {
    "collapsed": false
   },
   "outputs": [
    {
     "data": {
      "text/plain": [
       "True"
      ]
     },
     "execution_count": 32,
     "metadata": {},
     "output_type": "execute_result"
    }
   ],
   "source": [
    "c1 == c2"
   ]
  },
  {
   "cell_type": "code",
   "execution_count": 33,
   "metadata": {
    "collapsed": false
   },
   "outputs": [
    {
     "data": {
      "text/plain": [
       "(10923704, 10848240)"
      ]
     },
     "execution_count": 33,
     "metadata": {},
     "output_type": "execute_result"
    }
   ],
   "source": [
    "id(c1), id(c2)"
   ]
  },
  {
   "cell_type": "code",
   "execution_count": 34,
   "metadata": {
    "collapsed": false
   },
   "outputs": [
    {
     "data": {
      "text/plain": [
       "False"
      ]
     },
     "execution_count": 34,
     "metadata": {},
     "output_type": "execute_result"
    }
   ],
   "source": [
    "id(c1) == id(c2)"
   ]
  },
  {
   "cell_type": "code",
   "execution_count": 35,
   "metadata": {
    "collapsed": false
   },
   "outputs": [],
   "source": [
    "import weakref\n",
    "\n",
    "class FlightweightCard(object):\n",
    "    _CardPool = weakref.WeakValueDictionary()\n",
    "\n",
    "    def __new__(cls, value, suit):\n",
    "        obj = FlightweightCard._CardPool.get(value + suit, None)\n",
    "        if not obj:\n",
    "            obj = object.__new__(cls)\n",
    "            FlightweightCard._CardPool[value + suit] = obj\n",
    "            obj.value, obj.suit = value, suit\n",
    "\n",
    "        return obj"
   ]
  },
  {
   "cell_type": "code",
   "execution_count": 36,
   "metadata": {
    "collapsed": false
   },
   "outputs": [],
   "source": [
    "c3 = FlightweightCard('J', 'h')\n",
    "c4 = FlightweightCard('J', 'h')"
   ]
  },
  {
   "cell_type": "code",
   "execution_count": 37,
   "metadata": {
    "collapsed": false
   },
   "outputs": [
    {
     "data": {
      "text/plain": [
       "True"
      ]
     },
     "execution_count": 37,
     "metadata": {},
     "output_type": "execute_result"
    }
   ],
   "source": [
    "c3 == c4"
   ]
  },
  {
   "cell_type": "code",
   "execution_count": 38,
   "metadata": {
    "collapsed": false
   },
   "outputs": [
    {
     "data": {
      "text/plain": [
       "True"
      ]
     },
     "execution_count": 38,
     "metadata": {},
     "output_type": "execute_result"
    }
   ],
   "source": [
    "id(c3) == id(c4)"
   ]
  },
  {
   "cell_type": "markdown",
   "metadata": {},
   "source": [
    "## Wyjątki są też klasami!"
   ]
  },
  {
   "cell_type": "code",
   "execution_count": 39,
   "metadata": {
    "collapsed": false
   },
   "outputs": [
    {
     "ename": "TypeError",
     "evalue": "unsupported operand type(s) for +: 'int' and 'str'",
     "output_type": "error",
     "traceback": [
      "\u001b[1;31m---------------------------------------------------------------------------\u001b[0m",
      "\u001b[1;31mTypeError\u001b[0m                                 Traceback (most recent call last)",
      "\u001b[1;32m<ipython-input-39-c21989a558bb>\u001b[0m in \u001b[0;36m<module>\u001b[1;34m()\u001b[0m\n\u001b[1;32m----> 1\u001b[1;33m \u001b[1;36m5\u001b[0m \u001b[1;33m+\u001b[0m \u001b[1;34m'5'\u001b[0m\u001b[1;33m\u001b[0m\u001b[0m\n\u001b[0m",
      "\u001b[1;31mTypeError\u001b[0m: unsupported operand type(s) for +: 'int' and 'str'"
     ]
    }
   ],
   "source": [
    "5 + '5'"
   ]
  },
  {
   "cell_type": "code",
   "execution_count": null,
   "metadata": {
    "collapsed": false
   },
   "outputs": [],
   "source": [
    "try:\n",
    "    5 + '5'\n",
    "except TypeError:\n",
    "    print('no-no')"
   ]
  },
  {
   "cell_type": "code",
   "execution_count": 40,
   "metadata": {
    "collapsed": false
   },
   "outputs": [
    {
     "name": "stdout",
     "output_type": "stream",
     "text": [
      "<class 'TypeError'> unsupported operand type(s) for +: 'int' and 'str'\n"
     ]
    }
   ],
   "source": [
    "try:\n",
    "    5 + '5'\n",
    "except TypeError as e:\n",
    "    print(type(e), e)"
   ]
  },
  {
   "cell_type": "code",
   "execution_count": 41,
   "metadata": {
    "collapsed": false
   },
   "outputs": [
    {
     "name": "stdout",
     "output_type": "stream",
     "text": [
      "<class 'TypeError'> unsupported operand type(s) for +: 'int' and 'str'\n"
     ]
    }
   ],
   "source": [
    "try:\n",
    "    5 + '5'\n",
    "except (TypeError, KeyError) as e:\n",
    "    print(type(e), e)"
   ]
  },
  {
   "cell_type": "code",
   "execution_count": 42,
   "metadata": {
    "collapsed": false
   },
   "outputs": [
    {
     "name": "stdout",
     "output_type": "stream",
     "text": [
      "it's only key error\n"
     ]
    }
   ],
   "source": [
    "try:\n",
    "    dict()[3]\n",
    "except TypeError as e:\n",
    "    print(type(e), e)\n",
    "except KeyError as e:\n",
    "    print(\"it's only key error\")"
   ]
  },
  {
   "cell_type": "code",
   "execution_count": 43,
   "metadata": {
    "collapsed": false
   },
   "outputs": [
    {
     "name": "stdout",
     "output_type": "stream",
     "text": [
      "good good good\n",
      "bye!\n"
     ]
    }
   ],
   "source": [
    "class WrongAnswerError(Exception):\n",
    "    pass\n",
    "\n",
    "try:\n",
    "    raise WrongAnswerError('wrong wrong wrong!')\n",
    "except WrongAnswerError:\n",
    "    print('good good good')\n",
    "finally:\n",
    "    print('bye!')"
   ]
  },
  {
   "cell_type": "code",
   "execution_count": 44,
   "metadata": {
    "collapsed": false
   },
   "outputs": [
    {
     "ename": "TypeError",
     "evalue": "exceptions must derive from BaseException",
     "output_type": "error",
     "traceback": [
      "\u001b[1;31m---------------------------------------------------------------------------\u001b[0m",
      "\u001b[1;31mTypeError\u001b[0m                                 Traceback (most recent call last)",
      "\u001b[1;32m<ipython-input-44-b2cdc0cb9efa>\u001b[0m in \u001b[0;36m<module>\u001b[1;34m()\u001b[0m\n\u001b[0;32m      2\u001b[0m     \u001b[1;32mpass\u001b[0m\u001b[1;33m\u001b[0m\u001b[0m\n\u001b[0;32m      3\u001b[0m \u001b[1;33m\u001b[0m\u001b[0m\n\u001b[1;32m----> 4\u001b[1;33m \u001b[1;32mraise\u001b[0m \u001b[0mA\u001b[0m\u001b[1;33m\u001b[0m\u001b[0m\n\u001b[0m",
      "\u001b[1;31mTypeError\u001b[0m: exceptions must derive from BaseException"
     ]
    }
   ],
   "source": [
    "class A(object):\n",
    "    pass\n",
    "\n",
    "raise A"
   ]
  },
  {
   "cell_type": "code",
   "execution_count": 45,
   "metadata": {
    "collapsed": false
   },
   "outputs": [
    {
     "name": "stdout",
     "output_type": "stream",
     "text": [
      "*** print_tb:\n",
      "  File \"<ipython-input-45-3e63d7daea82>\", line 10, in <module>\n",
      "    lumberjack()\n",
      "*** print_exception:\n",
      "Traceback (most recent call last):\n",
      "  File \"<ipython-input-45-3e63d7daea82>\", line 10, in <module>\n",
      "    lumberjack()\n",
      "  File \"<ipython-input-45-3e63d7daea82>\", line 4, in lumberjack\n",
      "    bright_side_of_death()\n",
      "IndexError: tuple index out of range\n",
      "*** print_exc:\n",
      "*** format_exc, first and last line:\n",
      "Traceback (most recent call last):\n",
      "IndexError: tuple index out of range\n",
      "*** format_exception:\n",
      "['Traceback (most recent call last):\\n', '  File \"<ipython-input-45-3e63d7daea82>\", line 10, in <module>\\n    lumberjack()\\n', '  File \"<ipython-input-45-3e63d7daea82>\", line 4, in lumberjack\\n    bright_side_of_death()\\n', '  File \"<ipython-input-45-3e63d7daea82>\", line 7, in bright_side_of_death\\n    return tuple()[0]\\n', 'IndexError: tuple index out of range\\n']\n",
      "*** extract_tb:\n",
      "[('<ipython-input-45-3e63d7daea82>', 10, '<module>', 'lumberjack()'), ('<ipython-input-45-3e63d7daea82>', 4, 'lumberjack', 'bright_side_of_death()'), ('<ipython-input-45-3e63d7daea82>', 7, 'bright_side_of_death', 'return tuple()[0]')]\n",
      "*** format_tb:\n",
      "['  File \"<ipython-input-45-3e63d7daea82>\", line 10, in <module>\\n    lumberjack()\\n', '  File \"<ipython-input-45-3e63d7daea82>\", line 4, in lumberjack\\n    bright_side_of_death()\\n', '  File \"<ipython-input-45-3e63d7daea82>\", line 7, in bright_side_of_death\\n    return tuple()[0]\\n']\n",
      "*** tb_lineno: 10\n"
     ]
    },
    {
     "name": "stderr",
     "output_type": "stream",
     "text": [
      "Traceback (most recent call last):\n",
      "  File \"<ipython-input-45-3e63d7daea82>\", line 10, in <module>\n",
      "    lumberjack()\n",
      "  File \"<ipython-input-45-3e63d7daea82>\", line 4, in lumberjack\n",
      "    bright_side_of_death()\n",
      "  File \"<ipython-input-45-3e63d7daea82>\", line 7, in bright_side_of_death\n",
      "    return tuple()[0]\n",
      "IndexError: tuple index out of range\n"
     ]
    }
   ],
   "source": [
    "import sys, traceback\n",
    "\n",
    "def lumberjack():\n",
    "    bright_side_of_death()\n",
    "\n",
    "def bright_side_of_death():\n",
    "    return tuple()[0]\n",
    "\n",
    "try:\n",
    "    lumberjack()\n",
    "except IndexError:\n",
    "    exc_type, exc_value, exc_traceback = sys.exc_info()\n",
    "    print(\"*** print_tb:\")\n",
    "    traceback.print_tb(exc_traceback, limit=1, file=sys.stdout)\n",
    "    print(\"*** print_exception:\")\n",
    "    traceback.print_exception(exc_type, exc_value, exc_traceback,\n",
    "                              limit=2, file=sys.stdout)\n",
    "    print(\"*** print_exc:\")\n",
    "    traceback.print_exc()\n",
    "    print(\"*** format_exc, first and last line:\")\n",
    "    formatted_lines = traceback.format_exc().splitlines()\n",
    "    print(formatted_lines[0])\n",
    "    print(formatted_lines[-1])\n",
    "    print(\"*** format_exception:\")\n",
    "    print(repr(traceback.format_exception(exc_type, exc_value,\n",
    "                                          exc_traceback)))\n",
    "    print(\"*** extract_tb:\")\n",
    "    print(repr(traceback.extract_tb(exc_traceback)))\n",
    "    print(\"*** format_tb:\")\n",
    "    print(repr(traceback.format_tb(exc_traceback)))\n",
    "    print(\"*** tb_lineno:\", exc_traceback.tb_lineno)"
   ]
  },
  {
   "cell_type": "markdown",
   "metadata": {},
   "source": [
    "### Wyjątki i dekoratory"
   ]
  },
  {
   "cell_type": "code",
   "execution_count": 46,
   "metadata": {
    "collapsed": false
   },
   "outputs": [
    {
     "name": "stdout",
     "output_type": "stream",
     "text": [
      "try\n",
      "Retry 10\n",
      "try\n",
      "Retry 9\n",
      "try\n",
      "Retry 8\n",
      "try\n",
      "Retry 7\n",
      "try\n",
      "Retry 6\n",
      "try\n",
      "Retry 5\n",
      "try\n",
      "Retry 4\n",
      "try\n",
      "Retry 3\n",
      "try\n",
      "Retry 2\n",
      "try\n",
      "Retry 1\n",
      "try\n"
     ]
    },
    {
     "ename": "Exception",
     "evalue": "I always fail",
     "output_type": "error",
     "traceback": [
      "\u001b[1;31m---------------------------------------------------------------------------\u001b[0m",
      "\u001b[1;31mException\u001b[0m                                 Traceback (most recent call last)",
      "\u001b[1;32m<ipython-input-46-81e042f43193>\u001b[0m in \u001b[0;36m<module>\u001b[1;34m()\u001b[0m\n\u001b[0;32m     22\u001b[0m     \u001b[1;32mraise\u001b[0m \u001b[0mException\u001b[0m\u001b[1;33m(\u001b[0m\u001b[1;34m'I always fail'\u001b[0m\u001b[1;33m)\u001b[0m\u001b[1;33m\u001b[0m\u001b[0m\n\u001b[0;32m     23\u001b[0m \u001b[1;33m\u001b[0m\u001b[0m\n\u001b[1;32m---> 24\u001b[1;33m \u001b[0mi_always_fail\u001b[0m\u001b[1;33m(\u001b[0m\u001b[1;33m)\u001b[0m\u001b[1;33m\u001b[0m\u001b[0m\n\u001b[0m",
      "\u001b[1;32m<ipython-input-46-81e042f43193>\u001b[0m in \u001b[0;36mwrapped\u001b[1;34m()\u001b[0m\n\u001b[0;32m     14\u001b[0m                         \u001b[0mself\u001b[0m\u001b[1;33m.\u001b[0m\u001b[0mnum\u001b[0m \u001b[1;33m-=\u001b[0m \u001b[1;36m1\u001b[0m\u001b[1;33m\u001b[0m\u001b[0m\n\u001b[0;32m     15\u001b[0m                     \u001b[1;32melse\u001b[0m\u001b[1;33m:\u001b[0m\u001b[1;33m\u001b[0m\u001b[0m\n\u001b[1;32m---> 16\u001b[1;33m                         \u001b[1;32mraise\u001b[0m \u001b[0me\u001b[0m\u001b[1;33m\u001b[0m\u001b[0m\n\u001b[0m\u001b[0;32m     17\u001b[0m         \u001b[1;32mreturn\u001b[0m \u001b[0mwrapped\u001b[0m\u001b[1;33m\u001b[0m\u001b[0m\n\u001b[0;32m     18\u001b[0m \u001b[1;33m\u001b[0m\u001b[0m\n",
      "\u001b[1;32m<ipython-input-46-81e042f43193>\u001b[0m in \u001b[0;36mwrapped\u001b[1;34m()\u001b[0m\n\u001b[0;32m      8\u001b[0m             \u001b[1;32mwhile\u001b[0m \u001b[1;32mTrue\u001b[0m\u001b[1;33m:\u001b[0m\u001b[1;33m\u001b[0m\u001b[0m\n\u001b[0;32m      9\u001b[0m                 \u001b[1;32mtry\u001b[0m\u001b[1;33m:\u001b[0m\u001b[1;33m\u001b[0m\u001b[0m\n\u001b[1;32m---> 10\u001b[1;33m                     \u001b[0mf\u001b[0m\u001b[1;33m(\u001b[0m\u001b[1;33m)\u001b[0m\u001b[1;33m\u001b[0m\u001b[0m\n\u001b[0m\u001b[0;32m     11\u001b[0m                 \u001b[1;32mexcept\u001b[0m \u001b[0mException\u001b[0m \u001b[1;32mas\u001b[0m \u001b[0me\u001b[0m\u001b[1;33m:\u001b[0m\u001b[1;33m\u001b[0m\u001b[0m\n\u001b[0;32m     12\u001b[0m                     \u001b[1;32mif\u001b[0m \u001b[0mself\u001b[0m\u001b[1;33m.\u001b[0m\u001b[0mnum\u001b[0m \u001b[1;33m>\u001b[0m \u001b[1;36m0\u001b[0m\u001b[1;33m:\u001b[0m\u001b[1;33m\u001b[0m\u001b[0m\n",
      "\u001b[1;32m<ipython-input-46-81e042f43193>\u001b[0m in \u001b[0;36mi_always_fail\u001b[1;34m()\u001b[0m\n\u001b[0;32m     20\u001b[0m \u001b[1;32mdef\u001b[0m \u001b[0mi_always_fail\u001b[0m\u001b[1;33m(\u001b[0m\u001b[1;33m)\u001b[0m\u001b[1;33m:\u001b[0m\u001b[1;33m\u001b[0m\u001b[0m\n\u001b[0;32m     21\u001b[0m     \u001b[0mprint\u001b[0m\u001b[1;33m(\u001b[0m\u001b[1;34m'try'\u001b[0m\u001b[1;33m)\u001b[0m\u001b[1;33m\u001b[0m\u001b[0m\n\u001b[1;32m---> 22\u001b[1;33m     \u001b[1;32mraise\u001b[0m \u001b[0mException\u001b[0m\u001b[1;33m(\u001b[0m\u001b[1;34m'I always fail'\u001b[0m\u001b[1;33m)\u001b[0m\u001b[1;33m\u001b[0m\u001b[0m\n\u001b[0m\u001b[0;32m     23\u001b[0m \u001b[1;33m\u001b[0m\u001b[0m\n\u001b[0;32m     24\u001b[0m \u001b[0mi_always_fail\u001b[0m\u001b[1;33m(\u001b[0m\u001b[1;33m)\u001b[0m\u001b[1;33m\u001b[0m\u001b[0m\n",
      "\u001b[1;31mException\u001b[0m: I always fail"
     ]
    }
   ],
   "source": [
    "class retry(object):\n",
    "    \n",
    "    def __init__(self, num):\n",
    "        self.num = num\n",
    "    \n",
    "    def __call__(self, f):\n",
    "        def wrapped():\n",
    "            while True:\n",
    "                try:\n",
    "                    f()\n",
    "                except Exception as e:\n",
    "                    if self.num > 0:\n",
    "                        print('Retry', self.num)\n",
    "                        self.num -= 1\n",
    "                    else:\n",
    "                        raise e\n",
    "        return wrapped\n",
    "\n",
    "@retry(10)\n",
    "def i_always_fail():\n",
    "    print('try')\n",
    "    raise Exception('I always fail')\n",
    "    \n",
    "i_always_fail()"
   ]
  },
  {
   "cell_type": "code",
   "execution_count": null,
   "metadata": {
    "collapsed": true
   },
   "outputs": [],
   "source": []
  }
 ],
 "metadata": {
  "kernelspec": {
   "display_name": "Python 3",
   "language": "python",
   "name": "python3"
  },
  "language_info": {
   "codemirror_mode": {
    "name": "ipython",
    "version": 3
   },
   "file_extension": ".py",
   "mimetype": "text/x-python",
   "name": "python",
   "nbconvert_exporter": "python",
   "pygments_lexer": "ipython3",
   "version": "3.4.3"
  }
 },
 "nbformat": 4,
 "nbformat_minor": 0
}
