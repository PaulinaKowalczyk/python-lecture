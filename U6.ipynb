{
 "metadata": {
  "name": ""
 },
 "nbformat": 3,
 "nbformat_minor": 0,
 "worksheets": [
  {
   "cells": [
    {
     "cell_type": "heading",
     "level": 1,
     "metadata": {},
     "source": [
      "J\u0119zyk Python - Laboratorium 6."
     ]
    },
    {
     "cell_type": "heading",
     "level": 2,
     "metadata": {},
     "source": [
      "Zadania do wykonania"
     ]
    },
    {
     "cell_type": "markdown",
     "metadata": {},
     "source": [
      "(2p) Zaimplementowa\u0107\u00a0mechanizm redukuj\u0105cy wyra\u017cenia algebraiczne zawierajace:\n",
      " * liczby ca\u0142kowite, zmienne (ci\u0105gi liter), wyra\u017cenia funkcyjne typu f(x),\n",
      " * operacje *, +, - unarny, - infiksowy,\n",
      " * nawiasy (tak\u017ce zagnie\u017cd\u017cone).\n",
      " \n",
      "Zredukowane wyra\u017cenie powinno nie zawiera\u0107\u00a0nawias\u00f3w oraz wyra\u017cenia podobne maj\u0105 by\u0107 zgrupowane.\n",
      "\n",
      "Przyk\u0142ady:\n",
      "\n",
      " * `(x + y) * (x - y)` \u2192 `x * x - y * y`\n",
      " * `(x + y) * (x + y)` \u2192 `x * x + 2 * x * y + y * y`\n",
      " \n",
      "Wskaz\u00f3wki:\n",
      "\n",
      "1. Zasotosowa\u0107 notacj\u0119 polsk\u0105.\n",
      "2. Minus unarny zast\u0105pi\u0107 mno\u017ceniem przez skalar `-1`.\n",
      "3. Operacje redukcji zrealizowa\u0107\u00a0iteracyjnie, w p\u0119tli redukowa\u0107 poprzez rekursywne wywo\u0142anie operacji:\n",
      "  * wykonanie operacji na skalarach: \n",
      "    * `[ * 2 2 x ]` \u2192 `[ * 4 x ]`\n",
      "  * wyci\u0105gnieci\u0119 zagnie\u017cdzonych operacji o poziom wy\u017cej: \n",
      "    * `[ * 2 [ * x y ] ]` \u2192 `[ * 2 x y ]`\n",
      "  * zebranie wyra\u017ce\u0144 podobnychc w sumie i zmienienie je na iloczyn ze skalarem: \n",
      "    * `[ + [ * x y ] [ * x y ] ]` \u2192 `[ * 2 x y ]`\n",
      "  * je\u015bli wyst\u0119puje iloczyn sum, to wymno\u017cenie poszczeg\u00f3lnych sk\u0142adnik\u00f3w: \n",
      "    * `[ * x [ + x y ] ]` \u2192 `[ + [ * x x ] [ * x y ] ]`\n",
      "4. Pomocny mo\u017ce by\u0107\u00a0pprint"
     ]
    },
    {
     "cell_type": "code",
     "collapsed": false,
     "input": [
      "import pprint\n",
      "tup = ('spam', ('eggs', ('lumberjack', ('knights', ('ni', ('dead', ('parrot', ('fresh fruit',))))))))\n",
      "stuff = ['a' * 10, tup, ['a' * 30, 'b' * 30], ['c' * 20, 'd' * 20]]\n",
      "pprint.pprint(stuff)"
     ],
     "language": "python",
     "metadata": {},
     "outputs": []
    }
   ],
   "metadata": {}
  }
 ]
}