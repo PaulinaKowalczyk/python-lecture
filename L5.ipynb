{
 "cells": [
  {
   "cell_type": "markdown",
   "metadata": {},
   "source": [
    "# Język Python - Wykład 5."
   ]
  },
  {
   "cell_type": "markdown",
   "metadata": {},
   "source": [
    "## Wyrażenia regularne"
   ]
  },
  {
   "cell_type": "raw",
   "metadata": {},
   "source": [
    "Some people, when confronted with a problem, think \"I\n",
    "know, I'll use regular expressions.\" Now they have two\n",
    "problems.\n",
    "-- Jamie Zawinski, '<alt.religion.emacs>' (08/12/1997)\n"
   ]
  },
  {
   "cell_type": "code",
   "execution_count": null,
   "metadata": {
    "collapsed": false
   },
   "outputs": [],
   "source": [
    "import re"
   ]
  },
  {
   "cell_type": "markdown",
   "metadata": {},
   "source": [
    "<img width=800 src=\"files/L5_img/automata.png\">"
   ]
  },
  {
   "cell_type": "raw",
   "metadata": {
    "slideshow": {
     "slide_type": "notes"
    }
   },
   "source": [
    "\n",
    "\n",
    "\n"
   ]
  },
  {
   "cell_type": "markdown",
   "metadata": {},
   "source": [
    "<img width=300 src=\"files/L5_img/plus.png\">"
   ]
  },
  {
   "cell_type": "markdown",
   "metadata": {},
   "source": [
    "## Metaznaki"
   ]
  },
  {
   "cell_type": "raw",
   "metadata": {},
   "source": [
    " [ ... ] - zakres znaków („klasa”)\n",
    " ^ - operator dopełnienia mnogościowego\n",
    " . - dowolny znak ale nie koniec linii\n",
    " \\d – cyfry – odpowiada [0-9]\n",
    " \\D – nie-cyfry – odpowiada [^0-9]\n",
    " \\s – biały znak – odpowiada [ \\t\\n\\r\\f\\v]\n",
    " \\S – nie-biały znak – odpowiada [^ \\t\\n\\r\\f\\v].\n",
    " \\w – znak alfanumeryczny – odpowiada [a-zA-Z0-9_] \n",
    " \\W – znak niealfanumeryczny – odpowiada [^a-zA-Z0-9_] \n",
    "  | - „lub” ab|bc\n",
    "  ^ - oznaczenie początku linii ^From: \n",
    "  $ - oznaczenie końca linii End.$\n",
    " \\A – początek\n",
    " \\Z – koniec\n",
    " \\b – granica słowa (! - uwaga na backspace -> w środku [] jest to backspace )\n",
    " \\B - negacja \\b\n",
    "  * - powielenie 0 lub więcej razy („gwiazdka Kleene'a”)\n",
    "{min,max} - dopuszczalna ilość wystąpień\n",
    "  + - „Plus Kleene'a” - 1 lub więcej\n",
    "  ? - 0 lub 1 razy"
   ]
  },
  {
   "cell_type": "markdown",
   "metadata": {},
   "source": [
    "## Użycie"
   ]
  },
  {
   "cell_type": "code",
   "execution_count": null,
   "metadata": {
    "collapsed": false
   },
   "outputs": [],
   "source": [
    "p = re.compile('ab|bc')\n",
    "print p"
   ]
  },
  {
   "cell_type": "code",
   "execution_count": null,
   "metadata": {
    "collapsed": false
   },
   "outputs": [],
   "source": [
    "print p.match('bc')"
   ]
  },
  {
   "cell_type": "code",
   "execution_count": null,
   "metadata": {
    "collapsed": false
   },
   "outputs": [],
   "source": [
    "print p.match('ba')"
   ]
  },
  {
   "cell_type": "code",
   "execution_count": null,
   "metadata": {
    "collapsed": false
   },
   "outputs": [],
   "source": [
    "re.search('b','abc')"
   ]
  },
  {
   "cell_type": "code",
   "execution_count": null,
   "metadata": {
    "collapsed": false
   },
   "outputs": [],
   "source": [
    "re.match('b','abc')"
   ]
  },
  {
   "cell_type": "code",
   "execution_count": null,
   "metadata": {
    "collapsed": false
   },
   "outputs": [],
   "source": [
    "re.match('a','abc')"
   ]
  },
  {
   "cell_type": "code",
   "execution_count": null,
   "metadata": {
    "collapsed": false
   },
   "outputs": [],
   "source": [
    "re.split(r'\\W+', 'Words, words, words.')"
   ]
  },
  {
   "cell_type": "code",
   "execution_count": null,
   "metadata": {
    "collapsed": false
   },
   "outputs": [],
   "source": [
    "re.split(r'(\\W+)', 'Words, words, words.')"
   ]
  },
  {
   "cell_type": "code",
   "execution_count": null,
   "metadata": {
    "collapsed": false
   },
   "outputs": [],
   "source": [
    "p = re.compile('(ab)*')\n",
    "p.match('ababababab').span()"
   ]
  },
  {
   "cell_type": "code",
   "execution_count": null,
   "metadata": {
    "collapsed": false
   },
   "outputs": [],
   "source": [
    "p = re.compile('a/{,3}b')\n",
    "print p.match('ab')\n",
    "print p.match('a/b')\n",
    "print p.match('a//b')\n",
    "print p.match('a///b')\n",
    "print p.match('a////b')"
   ]
  },
  {
   "cell_type": "code",
   "execution_count": null,
   "metadata": {
    "collapsed": false
   },
   "outputs": [],
   "source": [
    "print re.search(r'\\bfoo\\b','bar foo baz').group()"
   ]
  },
  {
   "cell_type": "code",
   "execution_count": null,
   "metadata": {
    "collapsed": false
   },
   "outputs": [],
   "source": [
    "print re.findall(r'[0-9]','a1b2c3d4e5')"
   ]
  },
  {
   "cell_type": "code",
   "execution_count": null,
   "metadata": {
    "collapsed": false
   },
   "outputs": [],
   "source": [
    "for m in re.finditer(r'[0-9]','a1b2c3d4e5'):\n",
    "    print m.group(0),m.span()"
   ]
  },
  {
   "cell_type": "markdown",
   "metadata": {},
   "source": [
    "## Notacja „raw string”"
   ]
  },
  {
   "cell_type": "raw",
   "metadata": {},
   "source": [
    "Cel: \\section\n",
    "Wyrażenie: \\\\section\n",
    "Stała łańcuchowa: \\\\\\\\section"
   ]
  },
  {
   "cell_type": "code",
   "execution_count": null,
   "metadata": {
    "collapsed": false
   },
   "outputs": [],
   "source": [
    "re.match(r\"\\W(.)\\1\\W\", \" ff \").group()"
   ]
  },
  {
   "cell_type": "code",
   "execution_count": null,
   "metadata": {
    "collapsed": false
   },
   "outputs": [],
   "source": [
    "re.match(\"\\\\W(.)\\\\1\\\\W\", \" ff \").group()"
   ]
  },
  {
   "cell_type": "markdown",
   "metadata": {},
   "source": [
    "## Niezachłanne dopasowania"
   ]
  },
  {
   "cell_type": "raw",
   "metadata": {},
   "source": [
    "- *?\n",
    "- +?\n",
    "- ??\n",
    "- {m,n}?"
   ]
  },
  {
   "cell_type": "code",
   "execution_count": null,
   "metadata": {
    "collapsed": false
   },
   "outputs": [],
   "source": [
    "s = '<html><head><title>Title</title>'"
   ]
  },
  {
   "cell_type": "code",
   "execution_count": null,
   "metadata": {
    "collapsed": false
   },
   "outputs": [],
   "source": [
    "print re.match('<.*>', s).group()"
   ]
  },
  {
   "cell_type": "code",
   "execution_count": null,
   "metadata": {
    "collapsed": false
   },
   "outputs": [],
   "source": [
    "print re.match('<.*?>', s).group()"
   ]
  },
  {
   "cell_type": "markdown",
   "metadata": {},
   "source": [
    "## Grupowanie"
   ]
  },
  {
   "cell_type": "code",
   "execution_count": null,
   "metadata": {
    "collapsed": false
   },
   "outputs": [],
   "source": [
    "p = re.compile('(a(b)c)d')\n",
    "m = p.match('abcd')"
   ]
  },
  {
   "cell_type": "code",
   "execution_count": null,
   "metadata": {
    "collapsed": false
   },
   "outputs": [],
   "source": [
    "m.group(0)"
   ]
  },
  {
   "cell_type": "code",
   "execution_count": null,
   "metadata": {
    "collapsed": false
   },
   "outputs": [],
   "source": [
    "m.group(1)"
   ]
  },
  {
   "cell_type": "code",
   "execution_count": null,
   "metadata": {
    "collapsed": false
   },
   "outputs": [],
   "source": [
    "m.group(2)"
   ]
  },
  {
   "cell_type": "code",
   "execution_count": null,
   "metadata": {
    "collapsed": false
   },
   "outputs": [],
   "source": [
    "#Match dates formatted like MM/DD/YYYY, MM-DD-YY,...\n",
    "import re\n",
    "\n",
    "date = '01/12/2013'\n",
    "\n",
    "regex = re.compile(r'^(?P<day>\\d\\d)[-/](?P<month>\\d\\d)[-/](?P<year>\\d\\d(?:\\d\\d)?)$')\n",
    "\n",
    "match = regex.match(date)"
   ]
  },
  {
   "cell_type": "code",
   "execution_count": null,
   "metadata": {
    "collapsed": false
   },
   "outputs": [],
   "source": [
    "print match.group(0),match.group(1),match.group(2),match.group(3)"
   ]
  },
  {
   "cell_type": "code",
   "execution_count": null,
   "metadata": {
    "collapsed": false
   },
   "outputs": [],
   "source": [
    "print match.group('day'),match.group('month'),match.group('year')"
   ]
  },
  {
   "cell_type": "code",
   "execution_count": null,
   "metadata": {
    "collapsed": false
   },
   "outputs": [],
   "source": [
    "print match.groups()"
   ]
  },
  {
   "cell_type": "code",
   "execution_count": null,
   "metadata": {
    "collapsed": false
   },
   "outputs": [],
   "source": [
    "print regex.groupindex"
   ]
  },
  {
   "cell_type": "raw",
   "metadata": {},
   "source": [
    "from django.conf.urls import patterns, url\n",
    "\n",
    "urlpatterns = patterns('',\n",
    "    url(r'^articles/2003/$', 'news.views.special_case_2003'),\n",
    "    url(r'^articles/(?P<year>\\d{4})/$', 'news.views.year_archive'),\n",
    "    url(r'^articles/(?P<year>\\d{4})/(?P<month>\\d{2})/$', 'news.views.month_archive'),\n",
    "    url(r'^articles/(?P<year>\\d{4})/(?P<month>\\d{2})/(?P<day>\\d{2})/$', 'news.views.article_detail'),\n",
    ")"
   ]
  },
  {
   "cell_type": "code",
   "execution_count": null,
   "metadata": {
    "collapsed": false
   },
   "outputs": [],
   "source": [
    "re.match(r'(ala) \\1','ala ala').group(0)"
   ]
  },
  {
   "cell_type": "markdown",
   "metadata": {},
   "source": [
    "## Extension Notation (?...)"
   ]
  },
  {
   "cell_type": "raw",
   "metadata": {},
   "source": [
    "Nazwana grupa (?P<name>...)\n",
    "Powielenie (?P=)\n",
    "Nieprzechwytująca grupa (?:foo)\n",
    "Positive Lookahead (?=...)\n",
    "Negative Lookahead (?!...)\n",
    "Positive look behind (?<=regex)\n",
    "Negative look behind (?<!regex)\n",
    "Warunkowe wyrażenie (?(id/name)yes-pattern|no-pattern)"
   ]
  },
  {
   "cell_type": "markdown",
   "metadata": {},
   "source": [
    "### Powielenie (?P=<name>)"
   ]
  },
  {
   "cell_type": "code",
   "execution_count": null,
   "metadata": {
    "collapsed": false
   },
   "outputs": [],
   "source": [
    "p = re.compile(r'(?P<word>\\b\\w+)\\s+(?P=word)')"
   ]
  },
  {
   "cell_type": "code",
   "execution_count": null,
   "metadata": {
    "collapsed": false
   },
   "outputs": [],
   "source": [
    "p.match('ala ala').group()"
   ]
  },
  {
   "cell_type": "code",
   "execution_count": null,
   "metadata": {
    "collapsed": false
   },
   "outputs": [],
   "source": [
    "p = re.compile(r'(?P<word>\\b\\w+)\\s+\\1')"
   ]
  },
  {
   "cell_type": "code",
   "execution_count": null,
   "metadata": {
    "collapsed": false
   },
   "outputs": [],
   "source": [
    "p.match('ala ala').group()"
   ]
  },
  {
   "cell_type": "markdown",
   "metadata": {},
   "source": [
    "### Nieprzechwytująca grupa (?:foo)"
   ]
  },
  {
   "cell_type": "code",
   "execution_count": null,
   "metadata": {
    "collapsed": false
   },
   "outputs": [],
   "source": [
    "re.match(r'(\\w+@\\w+(?:\\.\\w+)+)','korzycki@agh.edu.pl').groups()"
   ]
  },
  {
   "cell_type": "markdown",
   "metadata": {},
   "source": [
    "### Positive Lookahead (?=...)"
   ]
  },
  {
   "cell_type": "code",
   "execution_count": null,
   "metadata": {
    "collapsed": false
   },
   "outputs": [],
   "source": [
    "re.match(r'(\\w+(?=@\\w+(?:.\\w+)+))','korzycki@agh.edu.pl').group()"
   ]
  },
  {
   "cell_type": "markdown",
   "metadata": {},
   "source": [
    "### Negative Lookahead (?!...)"
   ]
  },
  {
   "cell_type": "code",
   "execution_count": 1,
   "metadata": {
    "collapsed": false
   },
   "outputs": [
    {
     "ename": "NameError",
     "evalue": "name 're' is not defined",
     "output_type": "error",
     "traceback": [
      "\u001b[1;31m---------------------------------------------------------------------------\u001b[0m\n\u001b[1;31mNameError\u001b[0m                                 Traceback (most recent call last)",
      "\u001b[1;32m<ipython-input-1-aca09ca279c7>\u001b[0m in \u001b[0;36m<module>\u001b[1;34m()\u001b[0m\n\u001b[0;32m      1\u001b[0m \u001b[0ms\u001b[0m\u001b[1;33m=\u001b[0m\u001b[1;34m'plik.py'\u001b[0m\u001b[1;33m\u001b[0m\u001b[0m\n\u001b[1;32m----> 2\u001b[1;33m \u001b[0mre\u001b[0m\u001b[1;33m.\u001b[0m\u001b[0mmatch\u001b[0m\u001b[1;33m(\u001b[0m\u001b[1;34mr'(.*)[.](?!bat$|exe$).*$'\u001b[0m\u001b[1;33m,\u001b[0m\u001b[0ms\u001b[0m\u001b[1;33m)\u001b[0m\u001b[1;33m.\u001b[0m\u001b[0mgroup\u001b[0m\u001b[1;33m(\u001b[0m\u001b[1;36m1\u001b[0m\u001b[1;33m)\u001b[0m\u001b[1;33m\u001b[0m\u001b[0m\n\u001b[0m",
      "\u001b[1;31mNameError\u001b[0m: name 're' is not defined"
     ]
    }
   ],
   "source": [
    "s='plik.py'\n",
    "re.match(r'(.*)[.](?!bat$|exe$).*$',s).group(1)"
   ]
  },
  {
   "cell_type": "markdown",
   "metadata": {},
   "source": [
    "### Positive Lookbehind"
   ]
  },
  {
   "cell_type": "code",
   "execution_count": null,
   "metadata": {
    "collapsed": false
   },
   "outputs": [],
   "source": [
    "s='From: korzycki@agh.edu.pl'\n",
    "re.search(r'(?<=From: )(.*)',s).group()"
   ]
  },
  {
   "cell_type": "markdown",
   "metadata": {},
   "source": [
    "### Negative Lookbehind "
   ]
  },
  {
   "cell_type": "code",
   "execution_count": null,
   "metadata": {
    "collapsed": false
   },
   "outputs": [],
   "source": [
    "s='From: korzycki@agh.edu.pl'\n",
    "re.search(r'(?<!^Subject)(?<=: )(.*)',s).group()"
   ]
  },
  {
   "cell_type": "markdown",
   "metadata": {},
   "source": [
    "### Warunkowe wyrażenie (?(id/name)yes-pattern|no-pattern)"
   ]
  },
  {
   "cell_type": "code",
   "execution_count": null,
   "metadata": {
    "collapsed": false
   },
   "outputs": [],
   "source": [
    "import re\n",
    "p = re.compile('(<)?(\\w+@\\w+(?:\\.\\w+)+)(?(1)>)')"
   ]
  },
  {
   "cell_type": "code",
   "execution_count": null,
   "metadata": {
    "collapsed": false
   },
   "outputs": [],
   "source": [
    "p.match('<user@host.com>').group()"
   ]
  },
  {
   "cell_type": "code",
   "execution_count": null,
   "metadata": {
    "collapsed": false
   },
   "outputs": [],
   "source": [
    "p.match('user@host.com').group()"
   ]
  },
  {
   "cell_type": "code",
   "execution_count": null,
   "metadata": {
    "collapsed": false
   },
   "outputs": [],
   "source": [
    "print p.match('<user@host.com')"
   ]
  },
  {
   "cell_type": "markdown",
   "metadata": {},
   "source": [
    "## Flagi"
   ]
  },
  {
   "cell_type": "raw",
   "metadata": {},
   "source": [
    "re.compile( regex, flags)\n",
    "DOTALL , S\n",
    " re.compile(„.*”, re.S)\n",
    "IGNORECASE, I\n",
    "LOCALE, L\n",
    "MULTILINE, M\n",
    "VERBOSE, X\n",
    "\n",
    "re.compile( „a*”, re.I | re.M )\n",
    "re.compile(„(?xm)a*”)\n"
   ]
  },
  {
   "cell_type": "markdown",
   "metadata": {},
   "source": [
    "### re.VERBOSE"
   ]
  },
  {
   "cell_type": "code",
   "execution_count": null,
   "metadata": {
    "collapsed": false
   },
   "outputs": [],
   "source": [
    "pat = re.compile(r\"\\s*(?P<header>[^:]+)\\s*:(?P<value>.*?)\\s*$\")"
   ]
  },
  {
   "cell_type": "code",
   "execution_count": null,
   "metadata": {
    "collapsed": false
   },
   "outputs": [],
   "source": [
    "pat.match('From: korzycki@agh.edu.pl').groups()"
   ]
  },
  {
   "cell_type": "code",
   "execution_count": null,
   "metadata": {
    "collapsed": false
   },
   "outputs": [],
   "source": [
    "pat = re.compile(r\"\"\"\n",
    "    \\s*               # Skip leading whitespace\n",
    "    (?P<header>[^:]+) # Header name\n",
    "    \\s* :             # Whitespace, and a colon\n",
    "    (?P<value>.*?)    # The header's value -- *? used to\n",
    "                      # lose the following trailing whitespace\n",
    "    \\s*$\n",
    "\"\"\", re.VERBOSE)\n"
   ]
  },
  {
   "cell_type": "code",
   "execution_count": null,
   "metadata": {
    "collapsed": false
   },
   "outputs": [],
   "source": [
    "pat.match('From: korzycki@agh.edu.pl').groups()"
   ]
  },
  {
   "cell_type": "markdown",
   "metadata": {},
   "source": [
    "### re.IGNORECASE"
   ]
  },
  {
   "cell_type": "code",
   "execution_count": null,
   "metadata": {
    "collapsed": false
   },
   "outputs": [],
   "source": [
    "re.match(r'(?i)ala','Ala').group()"
   ]
  },
  {
   "cell_type": "markdown",
   "metadata": {},
   "source": [
    "### re.MULTILINE re.DOTALL"
   ]
  },
  {
   "cell_type": "code",
   "execution_count": null,
   "metadata": {
    "collapsed": false
   },
   "outputs": [],
   "source": [
    "s=\"\"\"Ala ma\n",
    "kota\"\"\"\n",
    "\n",
    "print re.match(r'^A.*ta$',s)\n",
    "print re.match(r'(?ms)^A.*ta$',s)"
   ]
  },
  {
   "cell_type": "raw",
   "metadata": {},
   "source": [
    ">>> p = re.compile('.*', re.DEBUG)\n",
    "max_repeat 0 65535\n",
    "  any None\n",
    "\n",
    "\n",
    ">>> p = re.compile('(<)?(\\w+@\\w+(?:\\.\\w+)+)(?(1)>)',re.DEBUG \n",
    "max_repeat 0 1\n",
    "  subpattern 1\n",
    "    literal 60\n",
    "subpattern 2\n",
    "  max_repeat 1 65535\n",
    "    in\n",
    "      category category_word\n",
    "  literal 64\n",
    "  max_repeat 1 65535\n",
    "    in\n",
    "      category category_word\n",
    "  max_repeat 1 65535\n",
    "    subpattern None\n",
    "      literal 46\n",
    "      max_repeat 1 65535\n",
    "        in\n",
    "          category category_word\n",
    "subpattern None\n",
    "  groupref_exists 1\n",
    "    literal 62\n",
    "None\n"
   ]
  },
  {
   "cell_type": "markdown",
   "metadata": {},
   "source": [
    "## Podstawienie"
   ]
  },
  {
   "cell_type": "raw",
   "metadata": {},
   "source": [
    "re.sub(pattern, repl, string)\n",
    "regex.sub(repl,string)"
   ]
  },
  {
   "cell_type": "code",
   "execution_count": null,
   "metadata": {
    "collapsed": false
   },
   "outputs": [],
   "source": [
    "#urlify - turn URLs into HTML links\n",
    "import re\n",
    "\n",
    "text = 'Check the web site, http://www.oreilly.com/catalog/regexppr.'\n",
    "\n",
    "pattern = r'''\n",
    "    \\b                                    # start at word boundary\n",
    "    (                                     # capture to \\1\n",
    "    (https?|telnet|gopher|file|wais|ftp) :# resource and colon\n",
    "    [\\w/#~:.?+=&%@!\\-] +?                 # one or more valid chars\n",
    "                                          # take little as possible\n",
    "    )\n",
    "    (?=                                   # lookahead\n",
    "    [.:?\\-] *                             # for possible punc\n",
    "    (?: [^\\w/#~:.?+=&%@!\\-]               # invalid character\n",
    "    | $ )                                 # or end of string\n",
    "    )'''\n",
    "\n",
    "regex = re.compile(pattern,re.IGNORECASE + re.VERBOSE)\n",
    "result = regex.sub(r'<a href=\"\\1\">\\1</a>', text)\n",
    "\n",
    "print result"
   ]
  },
  {
   "cell_type": "markdown",
   "metadata": {},
   "source": [
    "### Podstawienie funkcją"
   ]
  },
  {
   "cell_type": "code",
   "execution_count": null,
   "metadata": {
    "collapsed": false
   },
   "outputs": [],
   "source": [
    "import random\n",
    "def repl(m):\n",
    "    inner_word = list(m.group(2))\n",
    "    random.shuffle(inner_word)\n",
    "    return m.group(1) + \"\".join(inner_word) + m.group(3)\n"
   ]
  },
  {
   "cell_type": "code",
   "execution_count": null,
   "metadata": {
    "collapsed": false
   },
   "outputs": [],
   "source": [
    "text = \"Professor Abdolmalek, please report your absences promptly.\"\n",
    "re.sub(\"(\\w)(\\w+)(\\w)\", repl, text)"
   ]
  },
  {
   "cell_type": "code",
   "execution_count": null,
   "metadata": {
    "collapsed": false
   },
   "outputs": [],
   "source": [
    "indent = lambda s: reduce(min,map(len,re.findall('(?m)^ *(?=\\S)',s)))\n",
    "flush_left = lambda s: re.sub('(?m)^ {%d}' % indent(s),'',s)"
   ]
  },
  {
   "cell_type": "code",
   "execution_count": null,
   "metadata": {
    "collapsed": false
   },
   "outputs": [],
   "source": [
    "s=\"\"\"    \n",
    "    Bardzo\n",
    "       roznie\n",
    "     wciety\n",
    "    tekst \n",
    "\"\"\"\n",
    "print s\n",
    "print\n",
    "print flush_left(s)"
   ]
  }
 ],
 "metadata": {
  "kernelspec": {
   "display_name": "Python 3",
   "language": "python",
   "name": "python3"
  },
  "language_info": {
   "codemirror_mode": {
    "name": "ipython",
    "version": 3
   },
   "file_extension": ".py",
   "mimetype": "text/x-python",
   "name": "python",
   "nbconvert_exporter": "python",
   "pygments_lexer": "ipython3",
   "version": "3.4.3"
  }
 },
 "nbformat": 4,
 "nbformat_minor": 0
}
