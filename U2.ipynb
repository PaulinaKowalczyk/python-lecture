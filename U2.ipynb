{
 "cells": [
  {
   "cell_type": "markdown",
   "metadata": {
    "slideshow": {
     "slide_type": "slide"
    }
   },
   "source": [
    "# Język Python - Laboratorium 2."
   ]
  },
  {
   "cell_type": "markdown",
   "metadata": {
    "slideshow": {
     "slide_type": "slide"
    }
   },
   "source": [
    "## Składowe wyrażenia logicznego"
   ]
  },
  {
   "cell_type": "code",
   "execution_count": null,
   "metadata": {},
   "outputs": [],
   "source": [
    "import string\n",
    "VARS = string.ascii_lowercase\n",
    "OPS = \"|&>\""
   ]
  },
  {
   "cell_type": "markdown",
   "metadata": {},
   "source": [
    "## Sprawdzanie poprawności wyrażenia"
   ]
  },
  {
   "cell_type": "code",
   "execution_count": null,
   "metadata": {},
   "outputs": [],
   "source": [
    "def validate(expr):\n",
    "    \"\"\"sprawdza poprawność syntaktyczną wyrażenia\"\"\"\n",
    "    state = True  # True - oczekiwany nawias ( lub zmienna, False - oczekiwany nawias ) lub operator\n",
    "    par_count = 0     # licznik nawiasów \n",
    "    for char in expr:\n",
    "        if char == \" \":\n",
    "            continue\n",
    "        if state:\n",
    "            if char in VARS: state = False \n",
    "            elif char == \"(\":\n",
    "                par_count += 1\n",
    "            else:\n",
    "                return False\n",
    "        else:\n",
    "            if char in OPS: state = True\n",
    "            elif char == \")\":\n",
    "                par_count -= 1\n",
    "            else:\n",
    "                return False\n",
    "        if par_count < 0: return False\n",
    "    return par_count == 0 and not state  # poprawne wyrażenie musi kończyć sie stanem False i mieć zamknięte wszystkie nawiasy\n"
   ]
  },
  {
   "cell_type": "markdown",
   "metadata": {},
   "source": [
    "## Generowanie wartościowań"
   ]
  },
  {
   "cell_type": "code",
   "execution_count": null,
   "metadata": {},
   "outputs": [],
   "source": [
    "expr = \"q | p\"\n",
    "\"\".join(sorted(set(expr) & set(VARS)))\n",
    "[c for c in VARS if c in expr]"
   ]
  },
  {
   "cell_type": "markdown",
   "metadata": {},
   "source": [
    "## Zamiana na odwrotną notację polską"
   ]
  },
  {
   "cell_type": "markdown",
   "metadata": {},
   "source": [
    "## Ewaluacja wyrażeń"
   ]
  },
  {
   "cell_type": "markdown",
   "metadata": {},
   "source": [
    "## Sprawdzenie czy wyrażenie jest tautologią"
   ]
  },
  {
   "cell_type": "markdown",
   "metadata": {},
   "source": [
    "## Działanie interaktywne"
   ]
  },
  {
   "cell_type": "markdown",
   "metadata": {},
   "source": [
    "# Zadanie domowe\n",
    "Napisać program sprowadzający wyrażenie logiczne do najprostszej postaci.\n",
    "\n",
    "Wyrażenie może zawierać:\n",
    "- zmienne logiczne (ciąg znaków alfanumerycznych)\n",
    "- operatory: koniunkcji, alternatywy, alternatywy wykluczającej, negacji, implikacji i równoważności\n",
    "- stałe logiczne (0 lub 1)\n",
    "- spacje\n",
    "\n",
    "Wyjściem programu ma być wyrażenie logiczne równoważne danemu\n",
    "\n",
    "**Czas oddania: północ przed 4. zajęciami laboratoryjnymi**"
   ]
  }
 ],
 "metadata": {
  "kernelspec": {
   "display_name": "Python 3",
   "language": "python",
   "name": "python3"
  },
  "language_info": {
   "codemirror_mode": {
    "name": "ipython",
    "version": 3
   },
   "file_extension": ".py",
   "mimetype": "text/x-python",
   "name": "python",
   "nbconvert_exporter": "python",
   "pygments_lexer": "ipython3",
   "version": "3.5.3"
  }
 },
 "nbformat": 4,
 "nbformat_minor": 1
}
