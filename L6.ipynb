{
 "cells": [
  {
   "cell_type": "markdown",
   "metadata": {},
   "source": [
    "# Język Python - Wykład 6."
   ]
  },
  {
   "cell_type": "markdown",
   "metadata": {},
   "source": [
    "## Builtin \\_\\_import\\_\\_"
   ]
  },
  {
   "cell_type": "code",
   "execution_count": null,
   "metadata": {
    "collapsed": false
   },
   "outputs": [],
   "source": [
    "sys = __import__('sys')\n",
    "sys"
   ]
  },
  {
   "cell_type": "code",
   "execution_count": null,
   "metadata": {
    "collapsed": false
   },
   "outputs": [],
   "source": [
    "sys.modules['os']"
   ]
  },
  {
   "cell_type": "markdown",
   "metadata": {},
   "source": [
    "## I/O encoding"
   ]
  },
  {
   "cell_type": "markdown",
   "metadata": {},
   "source": [
    "    $ cat u.py\n",
    "    # coding: utf-8\n",
    "    print u\"żółw\""
   ]
  },
  {
   "cell_type": "markdown",
   "metadata": {},
   "source": [
    "    $ python u.py\n",
    "    żółw"
   ]
  },
  {
   "cell_type": "markdown",
   "metadata": {},
   "source": [
    "    $ python u.py > u.txt\n",
    "    Traceback (most recent call last):\n",
    "      File \"u.py\", line 2, in <module>\n",
    "        print u\"żółw\"\n",
    "    UnicodeEncodeError: 'ascii' codec can't encode characters in position 0-2: ordinal not in range(128)"
   ]
  },
  {
   "cell_type": "markdown",
   "metadata": {},
   "source": [
    "    $ cat u.py\n",
    "    # coding: utf-8\n",
    "    print u\"żółw\".encode('utf-8')\n",
    "    \n",
    "    $ python u.py > u.txt\n",
    "    $ cat u.txt\n",
    "    żółw"
   ]
  },
  {
   "cell_type": "code",
   "execution_count": null,
   "metadata": {
    "collapsed": false
   },
   "outputs": [],
   "source": [
    "print(u\"żółw\")"
   ]
  },
  {
   "cell_type": "code",
   "execution_count": null,
   "metadata": {
    "collapsed": false
   },
   "outputs": [],
   "source": [
    "import sys\n",
    "print(sys.getdefaultencoding())"
   ]
  },
  {
   "cell_type": "markdown",
   "metadata": {
    "collapsed": false
   },
   "source": [
    "TODO"
   ]
  },
  {
   "cell_type": "markdown",
   "metadata": {},
   "source": [
    "## codecs"
   ]
  },
  {
   "cell_type": "code",
   "execution_count": null,
   "metadata": {
    "collapsed": false
   },
   "outputs": [],
   "source": [
    "import codecs\n",
    "import tempfile\n",
    "import os.path\n",
    "\n",
    "filename = os.path.join( tempfile.gettempdir() , \"L6\" )\n",
    "with codecs.open(filename, mode='w', encoding='iso-8859-2') as f:\n",
    "    f.write(u'żółw')\n",
    "    \n",
    "with codecs.open(filename, encoding='iso-8859-2') as f:\n",
    "    string = f.readline()\n",
    "    print(string, repr(string))"
   ]
  },
  {
   "cell_type": "markdown",
   "metadata": {},
   "source": [
    "## Chevron print"
   ]
  },
  {
   "cell_type": "code",
   "execution_count": null,
   "metadata": {
    "collapsed": false
   },
   "outputs": [],
   "source": [
    "import sys\n",
    "\n",
    "print('Error!', file=sys.stderr)\n",
    "print('Not an error', file=sys.stdout)\n",
    "print('Error!', file=sys.stderr)"
   ]
  },
  {
   "cell_type": "markdown",
   "metadata": {},
   "source": [
    "## Docstring"
   ]
  },
  {
   "cell_type": "markdown",
   "metadata": {},
   "source": [
    "* PEP 257"
   ]
  },
  {
   "cell_type": "code",
   "execution_count": null,
   "metadata": {
    "collapsed": false
   },
   "outputs": [],
   "source": [
    "class Foo:\n",
    "    \"\"\"Represents a Foo\"\"\"\n",
    "    pass"
   ]
  },
  {
   "cell_type": "code",
   "execution_count": null,
   "metadata": {
    "collapsed": false
   },
   "outputs": [],
   "source": [
    "Foo.__doc__"
   ]
  },
  {
   "cell_type": "code",
   "execution_count": null,
   "metadata": {
    "collapsed": false
   },
   "outputs": [],
   "source": [
    "def foo_function(arg):\n",
    "    \"\"\"Does foo and returns False\"\"\"\n",
    "    return False"
   ]
  },
  {
   "cell_type": "code",
   "execution_count": null,
   "metadata": {
    "collapsed": false
   },
   "outputs": [],
   "source": [
    "foo_function.__doc__"
   ]
  },
  {
   "cell_type": "code",
   "execution_count": null,
   "metadata": {
    "collapsed": false
   },
   "outputs": [],
   "source": [
    "def foo_multiline_doc(arg):\n",
    "    \"\"\"\n",
    "    Does foo\n",
    "    and returns \n",
    "    False\n",
    "    \"\"\"\n",
    "    return False"
   ]
  },
  {
   "cell_type": "markdown",
   "metadata": {},
   "source": [
    "Python *nie* wspiera docstringów dla zmiennych i atrybutów. "
   ]
  },
  {
   "cell_type": "code",
   "execution_count": null,
   "metadata": {
    "collapsed": false
   },
   "outputs": [],
   "source": [
    "class A:\n",
    "    attribute = 3\n",
    "    \"\"\"Attribute docstring\"\"\"\n",
    "    \n",
    "print(A.__doc__)\n",
    "print(A.attribute.__doc__)"
   ]
  },
  {
   "cell_type": "markdown",
   "metadata": {},
   "source": [
    "Jednakże niektóre systemy dokumentowania kodu (np. sphinx, epydoc) potrafią parsując kod źródłowy użyć tak skonstruowanych docstringów (warning: it's a hack!)"
   ]
  },
  {
   "cell_type": "markdown",
   "metadata": {},
   "source": [
    "## \"One more thing\" (dekoracja)"
   ]
  },
  {
   "cell_type": "code",
   "execution_count": null,
   "metadata": {
    "collapsed": false
   },
   "outputs": [],
   "source": [
    "def my_decorator(f):\n",
    "    def wrapper(*args, **kwds):\n",
    "        print('Calling decorated function')\n",
    "        return f(*args, **kwds)\n",
    "    return wrapper\n",
    "\n",
    "@my_decorator\n",
    "def example():\n",
    "    \"\"\"Docstring\"\"\"\n",
    "    print('Called example function')"
   ]
  },
  {
   "cell_type": "code",
   "execution_count": null,
   "metadata": {
    "collapsed": false
   },
   "outputs": [],
   "source": [
    "example()"
   ]
  },
  {
   "cell_type": "code",
   "execution_count": null,
   "metadata": {
    "collapsed": false
   },
   "outputs": [],
   "source": [
    "print(example.__doc__)"
   ]
  },
  {
   "cell_type": "code",
   "execution_count": null,
   "metadata": {
    "collapsed": false
   },
   "outputs": [],
   "source": [
    "print(example.__name__)"
   ]
  },
  {
   "cell_type": "markdown",
   "metadata": {},
   "source": [
    "Bazinga!"
   ]
  },
  {
   "cell_type": "code",
   "execution_count": null,
   "metadata": {
    "collapsed": false
   },
   "outputs": [],
   "source": [
    "from functools import wraps\n",
    "\n",
    "def my_decorator(f):\n",
    "    @wraps(f)\n",
    "    def wrapper(*args, **kwds):\n",
    "        print('Calling decorated function')\n",
    "        return f(*args, **kwds)\n",
    "    return wrapper\n",
    "\n",
    "@my_decorator\n",
    "def example():\n",
    "    \"\"\"Docstring\"\"\"\n",
    "    print('Called example function')"
   ]
  },
  {
   "cell_type": "code",
   "execution_count": null,
   "metadata": {
    "collapsed": false
   },
   "outputs": [],
   "source": [
    "print(example.__doc__)\n",
    "print(example.__name__)"
   ]
  },
  {
   "cell_type": "markdown",
   "metadata": {},
   "source": [
    "* przy pisaniu dekoratorów **powinniśmy** dekorować funkcję dekorującą dekoratorem wraps z argumentem funkcji dekorowanej\n",
    "* przypiszemy nowej funkcji wszystkie potrzebne atrybuty starej funkcji, żeby mogła ją całkowicie podmienić "
   ]
  },
  {
   "cell_type": "markdown",
   "metadata": {},
   "source": [
    "## doctest"
   ]
  },
  {
   "cell_type": "markdown",
   "metadata": {},
   "source": [
    "* Powstało wiele narzędzi wykorzystujących docstringi do dziwnych rzeczy\n",
    "* doctest jest modułem pythona parsującym dostringi i wykonującym testy w nich zawarte"
   ]
  },
  {
   "cell_type": "code",
   "execution_count": null,
   "metadata": {
    "collapsed": false
   },
   "outputs": [],
   "source": [
    "\"\"\"\n",
    "Doctest dla modułu testowego\n",
    "\n",
    "\n",
    ">>> sumuj(2,3)\n",
    "5\n",
    "\n",
    "OK to wszystko\n",
    "\"\"\"\n",
    "\n",
    "def sumuj(a, b):\n",
    "    \"\"\"\n",
    "    Zwraca sumę dwóch liczb, np:\n",
    "    \n",
    "    >>> sumuj(1, 2)\n",
    "    3\n",
    "    \n",
    "    >>> sumuj(1, '2')\n",
    "    Traceback (most recent call last):\n",
    "    ...\n",
    "    TypeError: unsupported operand type(s) for +: 'int' and 'str'\n",
    "    \"\"\"\n",
    "    return a + b\n",
    "\n",
    "#if __name__ == \"__main__\":   # testujemy z iPython dlatego komentujemy tą linię\n",
    "import doctest\n",
    "doctest.testmod()"
   ]
  },
  {
   "cell_type": "markdown",
   "metadata": {},
   "source": [
    "## assert"
   ]
  },
  {
   "cell_type": "markdown",
   "metadata": {},
   "source": [
    "*  kodzie można traktować jako dodatkową dokumentację (uruchamialną)\n",
    "*  nie zastępują testów (jedynie uzupełniają je)\n",
    "*  pozwalają szybciej wyłapywać bugi"
   ]
  },
  {
   "cell_type": "code",
   "execution_count": null,
   "metadata": {
    "collapsed": false
   },
   "outputs": [],
   "source": [
    "assert True"
   ]
  },
  {
   "cell_type": "code",
   "execution_count": null,
   "metadata": {
    "collapsed": false
   },
   "outputs": [],
   "source": [
    "assert False, 'Something failed'"
   ]
  },
  {
   "cell_type": "code",
   "execution_count": null,
   "metadata": {
    "collapsed": false
   },
   "outputs": [],
   "source": [
    "assert sumuj(2, 3) == 5"
   ]
  },
  {
   "cell_type": "markdown",
   "metadata": {},
   "source": [
    "Niektórzy używają assertów do kontroli typów w Pythonie! (ale to jak wiemy zabija kaczki)"
   ]
  },
  {
   "cell_type": "code",
   "execution_count": null,
   "metadata": {
    "collapsed": false
   },
   "outputs": [],
   "source": [
    "def sumuj(a, b):\n",
    "    assert type(a) is int, \"a is not an integer: %r\" % a\n",
    "    assert type(b) is int, \"b is not an integer: %r\" % b\n",
    "    return a + b"
   ]
  },
  {
   "cell_type": "code",
   "execution_count": null,
   "metadata": {
    "collapsed": false
   },
   "outputs": [],
   "source": [
    "sumuj(3, 6)"
   ]
  },
  {
   "cell_type": "code",
   "execution_count": null,
   "metadata": {
    "collapsed": false
   },
   "outputs": [],
   "source": [
    "sumuj('3', 6)"
   ]
  },
  {
   "cell_type": "markdown",
   "metadata": {},
   "source": [
    "Asercję można wyłączayć! (np. na produkcji ze względów wydajnościowych!)"
   ]
  },
  {
   "cell_type": "raw",
   "metadata": {},
   "source": [
    "$ cat assert.py\n",
    "assert False\n",
    "print 'True'\n",
    "\n",
    "$ python assert.py\n",
    "Traceback (most recent call last):\n",
    "  File \"assert.py\", line 1, in <module>\n",
    "    assert False\n",
    "AssertionError   "
   ]
  },
  {
   "cell_type": "raw",
   "metadata": {},
   "source": [
    "$ python -O assert.py\n",
    "True"
   ]
  },
  {
   "cell_type": "raw",
   "metadata": {},
   "source": [
    "$ python --help\n",
    "...\n",
    "-O     : optimize generated bytecode slightly; also PYTHONOPTIMIZE=x\n",
    "..."
   ]
  },
  {
   "cell_type": "markdown",
   "metadata": {},
   "source": [
    "## unittest framework"
   ]
  },
  {
   "cell_type": "markdown",
   "metadata": {},
   "source": [
    "* standardowy framework testowy pythona (dostępny w modułach podstawowych pythona)\n",
    "* oprócz niego istnieje jeszcze kilka ciekawych frameworków, np.:\n",
    "    * nose (najpopularniejszy)\n",
    "    * py.test (oparty na zwykłym poleceniu assert - dużo prostszy w użyciu niż unittest)\n",
    "    http://pyvideo.org/video/645/pytest-rapid-and-simple-testing-with-python"
   ]
  },
  {
   "cell_type": "markdown",
   "metadata": {},
   "source": [
    "    import unittest\n",
    "    \n",
    "    def sumuj(a, b):\n",
    "        return a + b\n",
    "    \n",
    "    \n",
    "    class TestSumuj(unittest.TestCase):\n",
    "    \n",
    "        def test_sumuj_positive(self):\n",
    "            self.assertEqual(sumuj(2, 3), 5)\n",
    "            \n",
    "    \n",
    "        def test_sumuj_negative(self):\n",
    "            self.assertEqual(sumuj(2, -3), -1)\n",
    "            \n",
    "    \n",
    "    if __name__ == '__main__':\n",
    "        unittest.main()        "
   ]
  },
  {
   "cell_type": "raw",
   "metadata": {},
   "source": [
    "$ python test_sumuj.py\n",
    ".. \n",
    "----------------------------------------------------------------------\n",
    "Ran 2 tests in 0.000s\n",
    "\n",
    "OK"
   ]
  },
  {
   "cell_type": "raw",
   "metadata": {},
   "source": [
    "$ python test_sumuj.py\n",
    "F. \n",
    "======================================================================\n",
    "FAIL: test_sumuj_negative (__main__.TestSumuj)\n",
    "----------------------------------------------------------------------\n",
    "Traceback (most recent call last):\n",
    "  method test_sumuj_negative in test_sumuj.py at line 13\n",
    "    self.assertEqual(sumuj(2, -3), 1)\n",
    "AssertionError: -1 != 1\n",
    "\n",
    "----------------------------------------------------------------------\n",
    "Ran 2 tests in 0.000s\n",
    "\n",
    "FAILED (failures=1)"
   ]
  },
  {
   "cell_type": "markdown",
   "metadata": {},
   "source": [
    "    class Sumator(object):\n",
    "        def __cal__(self, a, b):\n",
    "            return a + b\n",
    "\n",
    "   \n",
    "    class TestSumator(unittest.TestCase):\n",
    "    \n",
    "        def setUp(self):\n",
    "            self.sumator = Sumator()\n",
    "    \n",
    "        def test_sumuj_positive(self):\n",
    "            self.assertEqual(self.sumator(2, 3), 5)\n",
    "            \n",
    "        def test_sumuj_negative(self):\n",
    "            self.assertEqual(self.sumator(2, -3), -1)\n",
    "        \n",
    "        def tearDown(self):\n",
    "            del self.sumator"
   ]
  },
  {
   "cell_type": "raw",
   "metadata": {},
   "source": [
    "$ python -m unittest test_module1 test_module2\n",
    "$ python -m unittest test_module.TestClass\n",
    "$ python -m unittest test_module.TestClass.test_method"
   ]
  },
  {
   "cell_type": "raw",
   "metadata": {},
   "source": [
    "    Method\t                    Checks that         New in\n",
    "\n",
    "assertEqual(a, b)\t        a == b\t \n",
    "assertNotEqual(a, b)\t    a != b\t \n",
    "assertTrue(x)\t            bool(x) is True\t \n",
    "assertFalse(x)\t            bool(x) is False\t \n",
    "assertIs(a, b)\t            a is b\t                2.7\n",
    "assertIsNot(a, b)\t        a is not b\t            2.7\n",
    "assertIsNone(x)\t            x is None\t            2.7\n",
    "assertIsNotNone(x)\t        x is not None\t        2.7\n",
    "assertIn(a, b)\t            a in b\t                2.7\n",
    "assertNotIn(a, b)\t        a not in b          \t2.7\n",
    "assertIsInstance(a, b)\t    isinstance(a, b)\t    2.7\n",
    "assertNotIsInstance(a, b)\tnot isinstance(a, b)\t2.7"
   ]
  },
  {
   "cell_type": "markdown",
   "metadata": {},
   "source": [
    "## mock"
   ]
  },
  {
   "cell_type": "markdown",
   "metadata": {},
   "source": [
    "$ pip install mock"
   ]
  },
  {
   "cell_type": "code",
   "execution_count": null,
   "metadata": {
    "collapsed": false
   },
   "outputs": [],
   "source": [
    "import mock\n",
    "import requests \n",
    "import re\n",
    "import sys\n",
    "\n",
    "def has_title(url, keyword):\n",
    "    body = requests.get(url).text\n",
    "    print(body, file=sys.stderr)\n",
    "    title = re.search(r'<title>(.*?)<\\/title>', body).group(1)\n",
    "    return title.lower().find(keyword) != -1\n",
    "    \n",
    "print(has_title('http://www.onet.pl/', 'onet')"
   ]
  },
  {
   "cell_type": "code",
   "execution_count": null,
   "metadata": {
    "collapsed": false
   },
   "outputs": [],
   "source": [
    "import mock\n",
    "urlmock_response = mock.MagicMock()\n",
    "urlmock_response.text = u'<html><title>some Mock answer</title>'"
   ]
  },
  {
   "cell_type": "code",
   "execution_count": null,
   "metadata": {
    "collapsed": false
   },
   "outputs": [],
   "source": [
    "urlmock_response.get('http://onet.pl')"
   ]
  },
  {
   "cell_type": "code",
   "execution_count": null,
   "metadata": {
    "collapsed": false
   },
   "outputs": [],
   "source": [
    "urlmock_response.get('http://onet.pl').text"
   ]
  },
  {
   "cell_type": "code",
   "execution_count": null,
   "metadata": {
    "collapsed": false
   },
   "outputs": [],
   "source": [
    "def test_has_title():\n",
    "    assert has_title('http://www.onet.pl/', 'onet') == True\n",
    "\n",
    "test_has_title()"
   ]
  },
  {
   "cell_type": "code",
   "execution_count": null,
   "metadata": {
    "collapsed": false
   },
   "outputs": [],
   "source": [
    "@mock.patch('requests.get', mock.Mock(return_value=urlmock_response))\n",
    "def test_has_title():\n",
    "    assert has_title('http://www.onet.pl/', 'mock') == True\n",
    "\n",
    "test_has_title()"
   ]
  },
  {
   "cell_type": "code",
   "execution_count": null,
   "metadata": {
    "collapsed": false
   },
   "outputs": [],
   "source": []
  }
 ],
 "metadata": {
  "kernelspec": {
   "display_name": "Python 3",
   "language": "python",
   "name": "python3"
  },
  "language_info": {
   "codemirror_mode": {
    "name": "ipython",
    "version": 3
   },
   "file_extension": ".py",
   "mimetype": "text/x-python",
   "name": "python",
   "nbconvert_exporter": "python",
   "pygments_lexer": "ipython3",
   "version": "3.4.3"
  }
 },
 "nbformat": 4,
 "nbformat_minor": 0
}
