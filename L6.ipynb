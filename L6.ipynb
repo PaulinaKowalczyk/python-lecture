{
 "cells": [
  {
   "cell_type": "markdown",
   "metadata": {},
   "source": [
    "# Język Python - Wykład 6"
   ]
  },
  {
   "cell_type": "markdown",
   "metadata": {},
   "source": [
    "## Wyrażenia regularne"
   ]
  },
  {
   "cell_type": "markdown",
   "metadata": {},
   "source": [
    "https://docs.python.org/3/library/re.html"
   ]
  },
  {
   "cell_type": "code",
   "execution_count": null,
   "metadata": {},
   "outputs": [],
   "source": [
    "\"ABC123\".isupper()"
   ]
  },
  {
   "cell_type": "code",
   "execution_count": 3,
   "metadata": {},
   "outputs": [
    {
     "name": "stdout",
     "output_type": "stream",
     "text": [
      "<_sre.SRE_Match object; span=(0, 1), match='\\\\'>\n"
     ]
    }
   ],
   "source": [
    "import re\n",
    "s = '\\\\'\n",
    "print(re.match('\\\\\\\\', s))"
   ]
  },
  {
   "cell_type": "code",
   "execution_count": null,
   "metadata": {},
   "outputs": [],
   "source": [
    "print(s)"
   ]
  },
  {
   "cell_type": "code",
   "execution_count": null,
   "metadata": {},
   "outputs": [],
   "source": [
    "print('\\n')\n",
    "print(r'\\n')"
   ]
  },
  {
   "cell_type": "markdown",
   "metadata": {},
   "source": [
    "Najważniejsze funkcje:\n",
    "* match / fullmatch\n",
    "* search\n",
    "* findall / finditer\n",
    "* sub\n",
    "* split"
   ]
  },
  {
   "cell_type": "code",
   "execution_count": null,
   "metadata": {},
   "outputs": [],
   "source": [
    "match = re.match(r'[a-z]+(.[a-z]+)+', \"agh.edu.pl\")\n",
    "print(match)"
   ]
  },
  {
   "cell_type": "code",
   "execution_count": null,
   "metadata": {},
   "outputs": [],
   "source": [
    "re.match(r'[a-z]+(.[a-z]+)+', \"agh\")"
   ]
  },
  {
   "cell_type": "code",
   "execution_count": null,
   "metadata": {},
   "outputs": [],
   "source": [
    "match.groups()"
   ]
  },
  {
   "cell_type": "code",
   "execution_count": 5,
   "metadata": {},
   "outputs": [
    {
     "name": "stdout",
     "output_type": "stream",
     "text": [
      "None\n",
      "<_sre.SRE_Match object; span=(9, 19), match='agh.edu.pl'>\n"
     ]
    }
   ],
   "source": [
    "match = re.match(r'[a-z]+(\\.[a-z]+)+', \"Website: agh.edu.pl\")\n",
    "print(match)\n",
    "match = re.search(r'[a-z]+(\\.[a-z]+)+', \"Website: agh.edu.pl\")\n",
    "print(match)"
   ]
  },
  {
   "cell_type": "code",
   "execution_count": 6,
   "metadata": {},
   "outputs": [
    {
     "name": "stdout",
     "output_type": "stream",
     "text": [
      "None\n",
      "<_sre.SRE_Match object; span=(0, 7), match='koło.pl'>\n"
     ]
    }
   ],
   "source": [
    "match = re.match(r'[a-z]+(\\.[a-z]+)+', \"koło.pl\")\n",
    "print(match)\n",
    "match = re.match(r'\\w+(\\.\\w+)+', \"koło.pl\")\n",
    "print(match)"
   ]
  },
  {
   "cell_type": "markdown",
   "metadata": {},
   "source": [
    "Wyrażenie regularne może zawierać:\n",
    "* znaki\n",
    "* klasy znaków: `.`, `[a-z]`, `\\w`\n",
    "* operatory powtórzenia: `*`, `+`, `?`, `*?`, `+?`, `??`, `{m}`, `{m,n}`, `{m,n}?`\n",
    "* operator alternatywy: `|`\n",
    "* początek/koniec napisu: `^`/`$`\n",
    "* grupy: `(...)`\n",
    "* kontekst: `(?=...)`,`(?!...)`, `(?<=...)`, `(?<!...)`\n",
    "* grupy nazwane: `(?P<grupa>...)`\n",
    "* grupy nieprzechwytujące: `(?:...)`\n",
    "* referencje wsteczne: `(?P=grupa)`, `\\1`, `\\99`\n",
    "* ..."
   ]
  },
  {
   "cell_type": "code",
   "execution_count": 4,
   "metadata": {},
   "outputs": [
    {
     "data": {
      "text/plain": [
       "'_a_b_c_d'"
      ]
     },
     "execution_count": 4,
     "metadata": {},
     "output_type": "execute_result"
    }
   ],
   "source": [
    "re.sub(r\"([a-z])\", r\"_\\1\", \"abcd\")"
   ]
  },
  {
   "cell_type": "markdown",
   "metadata": {},
   "source": [
    "## Wątki"
   ]
  },
  {
   "cell_type": "markdown",
   "metadata": {},
   "source": [
    "https://docs.python.org/3/library/threading.html"
   ]
  },
  {
   "cell_type": "markdown",
   "metadata": {},
   "source": [
    "### Tworzenie i uruchamianie wątku"
   ]
  },
  {
   "cell_type": "code",
   "execution_count": null,
   "metadata": {},
   "outputs": [],
   "source": [
    "import threading\n",
    "\n",
    "class Thread1(threading.Thread):\n",
    "    def run(self):\n",
    "        for i in range(100000):\n",
    "            if i%10000 == 0:\n",
    "                print(i)\n",
    "            pass\n",
    "                \n",
    "t1 = Thread1()\n",
    "t2 = Thread1()\n",
    "\n",
    "t1. start()\n",
    "t2. start()\n",
    "print(\"Finished\")"
   ]
  },
  {
   "cell_type": "markdown",
   "metadata": {},
   "source": [
    "### Synchronizacja wątków"
   ]
  },
  {
   "cell_type": "markdown",
   "metadata": {},
   "source": [
    "#### Lock"
   ]
  },
  {
   "cell_type": "code",
   "execution_count": null,
   "metadata": {},
   "outputs": [],
   "source": [
    "import threading\n",
    "import time\n",
    "\n",
    "queue = list(range(10))\n",
    "lock = threading.Lock()\n",
    "\n",
    "class Consumer(threading.Thread):\n",
    "    def run(self):\n",
    "        running = True\n",
    "        while running:\n",
    "            lock.acquire()\n",
    "            if not queue:\n",
    "                running = False\n",
    "            else:\n",
    "                elem = queue.pop()\n",
    "            lock.release()\n",
    "            time.sleep(2) # do something with elem\n",
    "            lock.acquire()\n",
    "            print(self.getName(), elem)\n",
    "            lock.release()\n",
    "            \n",
    "t1 = Consumer()\n",
    "t2 = Consumer()\n",
    "t1.start()\n",
    "t2.start()"
   ]
  },
  {
   "cell_type": "markdown",
   "metadata": {},
   "source": [
    "`Lock`:\n",
    "* może zostać zwolniony przez **dowolny wątek**\n",
    "* próba ponownego pozyskania przez ten sam wątek blokuje go *ad infinitum*\n",
    "* nie można zwolnić, jeżeli nie został pozyskany\n",
    "* można spróbować pozyskać w trybie nieblokującym\n",
    "* nie jest automatycznie zwalniany\n",
    "\n",
    "Polecam `RLock`:\n",
    "* może zostać zwolniony tylko przez wątek, który go posiada\n",
    "* można go pozyskiwać wielokrotnie, ale należy zwolnić tyle samo razy\n",
    "* jest zwalniany automatycznie po zakończeniu wątku"
   ]
  },
  {
   "cell_type": "code",
   "execution_count": null,
   "metadata": {},
   "outputs": [],
   "source": [
    "import threading\n",
    "import time\n",
    "\n",
    "lock = threading.RLock()\n",
    "\n",
    "class Thread1(threading.Thread):\n",
    "    def run(self, *args):\n",
    "        print(lock.acquire(False))\n",
    "        time.sleep(1)\n",
    "        \n",
    "                \n",
    "Thread1().start()\n",
    "# time.sleep(2)\n",
    "Thread1().start()\n"
   ]
  },
  {
   "cell_type": "markdown",
   "metadata": {},
   "source": [
    "#### Condition"
   ]
  },
  {
   "cell_type": "code",
   "execution_count": null,
   "metadata": {},
   "outputs": [],
   "source": [
    "import threading\n",
    "import time\n",
    "\n",
    "cv = threading.Condition()\n",
    "\n",
    "l = []\n",
    "\n",
    "class Consumer(threading.Thread):\n",
    "    def run(self):\n",
    "        '''Consume one item'''\n",
    "        global l, cv\n",
    "        with cv:\n",
    "            while True:\n",
    "                while not l:\n",
    "                    cv.wait()\n",
    "                print(l.pop(0))\n",
    "\n",
    "class Producer(threading.Thread):\n",
    "    def run(self):\n",
    "        '''Produce one item'''\n",
    "        global l, cv\n",
    "        for i in range(10):\n",
    "            with cv:\n",
    "                l += [i]\n",
    "                cv.notify()\n",
    "            time.sleep(1)\n",
    "\n",
    "Consumer().start()\n",
    "Producer().start()\n"
   ]
  },
  {
   "cell_type": "code",
   "execution_count": null,
   "metadata": {},
   "outputs": [],
   "source": [
    "print(l)"
   ]
  },
  {
   "cell_type": "markdown",
   "metadata": {},
   "source": [
    "#### Inne"
   ]
  },
  {
   "cell_type": "markdown",
   "metadata": {},
   "source": [
    "* `Semaphore`\n",
    "* `BoundedSemaphore`\n",
    "* `Event`\n",
    "* `Timer`\n",
    "* `Barrier`"
   ]
  },
  {
   "cell_type": "markdown",
   "metadata": {},
   "source": [
    "### Wydajność"
   ]
  },
  {
   "cell_type": "code",
   "execution_count": null,
   "metadata": {},
   "outputs": [],
   "source": [
    "import threading\n",
    "import time\n",
    "\n",
    "class Thread1(threading.Thread):\n",
    "    def run(self):\n",
    "        for i in range(1000000):\n",
    "            a = i**2\n",
    "            b = i**3\n",
    "            c = i**4\n",
    "            pass\n",
    "                \n",
    "t1 = Thread1()\n",
    "t2 = Thread1()\n",
    "\n",
    "start = time.time()\n",
    "\n",
    "t1.run()\n",
    "t2.run()\n",
    "print(\"Finished\")\n",
    "\n",
    "finish = time.time()\n",
    "print(finish - start)"
   ]
  },
  {
   "cell_type": "code",
   "execution_count": null,
   "metadata": {},
   "outputs": [],
   "source": [
    "import threading\n",
    "import time\n",
    "\n",
    "class Thread1(threading.Thread):\n",
    "    def run(self):\n",
    "        for i in range(1000000):\n",
    "            a = i**2\n",
    "            b = i**3\n",
    "            c = i**4\n",
    "            pass\n",
    "                \n",
    "t1 = Thread1()\n",
    "t2 = Thread1()\n",
    "\n",
    "start = time.time()\n",
    "\n",
    "t1.start()\n",
    "t2.start()\n",
    "print(\"Finished\")\n",
    "\n",
    "t1.join()\n",
    "t2.join()\n",
    "\n",
    "finish = time.time()\n",
    "print(finish - start)"
   ]
  },
  {
   "cell_type": "markdown",
   "metadata": {},
   "source": [
    "## Procesy"
   ]
  },
  {
   "cell_type": "markdown",
   "metadata": {},
   "source": [
    "https://docs.python.org/3/library/multiprocessing.html"
   ]
  },
  {
   "cell_type": "markdown",
   "metadata": {},
   "source": [
    "### Wydajność"
   ]
  },
  {
   "cell_type": "code",
   "execution_count": null,
   "metadata": {},
   "outputs": [],
   "source": [
    "import multiprocessing\n",
    "import time\n",
    "\n",
    "class Thread1(multiprocessing.Process):\n",
    "    def run(self):\n",
    "        for i in range(1000000):\n",
    "            a = i**2\n",
    "            b = i**3\n",
    "            c = i**4\n",
    "            pass\n",
    "                \n",
    "t1 = Thread1()\n",
    "t2 = Thread1()\n",
    "\n",
    "start = time.time()\n",
    "\n",
    "t1.run()\n",
    "t2.run()\n",
    "print(\"Finished\")\n",
    "\n",
    "finish = time.time()\n",
    "print(finish - start)"
   ]
  },
  {
   "cell_type": "code",
   "execution_count": null,
   "metadata": {},
   "outputs": [],
   "source": [
    "import multiprocessing\n",
    "import time\n",
    "\n",
    "class Thread1(multiprocessing.Process):\n",
    "    def run(self):\n",
    "        for i in range(1000000):\n",
    "            a = i**2\n",
    "            b = i**3\n",
    "            c = i**4\n",
    "            pass\n",
    "                \n",
    "t1 = Thread1()\n",
    "t2 = Thread1()\n",
    "\n",
    "start = time.time()\n",
    "\n",
    "t1.start()\n",
    "t2.start()\n",
    "print(\"Finished\")\n",
    "\n",
    "t1.join()\n",
    "t2.join()\n",
    "finish = time.time()\n",
    "print(finish - start)"
   ]
  },
  {
   "cell_type": "markdown",
   "metadata": {},
   "source": [
    "Procesy są cięższe i mniej wygodne w użyciu, ale omijają GIL."
   ]
  },
  {
   "cell_type": "code",
   "execution_count": null,
   "metadata": {},
   "outputs": [],
   "source": [
    "import multiprocessing\n",
    "import time\n",
    "\n",
    "queue = list(range(10))\n",
    "lock = threading.Lock()\n",
    "\n",
    "class Consumer(multiprocessing.Process):\n",
    "    def run(self):\n",
    "        running = True\n",
    "        while running:\n",
    "            lock.acquire()\n",
    "            if not queue:\n",
    "                running = False\n",
    "            else:\n",
    "                elem = queue.pop()\n",
    "            lock.release()\n",
    "            time.sleep(2) # do something with elem\n",
    "            lock.acquire()\n",
    "            print(self.pid, elem)\n",
    "            lock.release()\n",
    "            \n",
    "t1 = Consumer()\n",
    "t2 = Consumer()\n",
    "t1.start()\n",
    "t2.start()"
   ]
  },
  {
   "cell_type": "markdown",
   "metadata": {},
   "source": [
    "## Django"
   ]
  },
  {
   "cell_type": "markdown",
   "metadata": {},
   "source": [
    "https://www.djangoproject.com/\n",
    "\n",
    "Fragmenty kodu za: https://matthewdaly.co.uk/blog/2013/12/28/django-blog-tutorial-the-next-generation-part-1/"
   ]
  },
  {
   "cell_type": "markdown",
   "metadata": {},
   "source": [
    "** The Web framework for perfectionists with deadlines **"
   ]
  },
  {
   "cell_type": "markdown",
   "metadata": {},
   "source": [
    "* DRY - Don't Repeat Yourself. \"Every piece of knowledge must have a single, unambiguous, authoritative representation within a system.\" http://c2.com/cgi/wiki?DontRepeatYourself\n",
    "* MVC vs MVT - django często określane jest mianem MVT - Model View Template\n",
    "* ORM - Object Relational Mapper (modele django)\n",
    "* Routing URL oparty na wyrażeniach regularnych\n",
    "* System szablonów \n",
    "* Cache'ing \n",
    "* Lokalizacja i tłumaczenia\n",
    "* Automatyczny panel admina"
   ]
  },
  {
   "cell_type": "markdown",
   "metadata": {},
   "source": [
    "### Aplikacje"
   ]
  },
  {
   "cell_type": "markdown",
   "metadata": {},
   "source": [
    "Projekty i aplikacje łączy zależność 'wiele do wielu'.\n",
    "\n",
    "Plik `settings.py` określa aplikacje zainstalowane w projekcie."
   ]
  },
  {
   "cell_type": "markdown",
   "metadata": {},
   "source": [
    "### ORM (Object-Relational Mapping)"
   ]
  },
  {
   "cell_type": "markdown",
   "metadata": {},
   "source": [
    "Plik `models.py` w katalogu aplikacji."
   ]
  },
  {
   "cell_type": "code",
   "execution_count": null,
   "metadata": {},
   "outputs": [],
   "source": [
    "from django.db import models\n",
    "\n",
    "# Create your models here.\n",
    "\n",
    "class Post(models.Model):\n",
    "    title = models.CharField(max_length=200)\n",
    "    pub_date = models.DateTimeField()\n",
    "    text = models.TextField()"
   ]
  },
  {
   "cell_type": "code",
   "execution_count": null,
   "metadata": {},
   "outputs": [],
   "source": [
    "from django.db import models\n",
    "[cls for cls in dir(models) if cls.endswith(\"Field\")]"
   ]
  },
  {
   "cell_type": "markdown",
   "metadata": {},
   "source": [
    "### Routing URL"
   ]
  },
  {
   "cell_type": "code",
   "execution_count": null,
   "metadata": {},
   "outputs": [],
   "source": [
    "#plik urls.py projektu\n",
    "\n",
    "from django.conf.urls import include, url\n",
    "\n",
    "from django.contrib import admin\n",
    "\n",
    "urlpatterns = [\n",
    "    url(r'^admin/', include(admin.site.urls)),\n",
    "    url(r'^.*$', include('blogengine.urls')),\n",
    "]"
   ]
  },
  {
   "cell_type": "code",
   "execution_count": null,
   "metadata": {},
   "outputs": [],
   "source": [
    "# plik urls.py aplikacji\n",
    "\n",
    "from django.conf.urls import patterns, url\n",
    "from django.views.generic import ListView\n",
    "\n",
    "from blogengine.models import Post\n",
    "from blogengine import views\n",
    "\n",
    "urlpatterns = [\n",
    "    url('^$', ListView.as_view(model=Post,)),\n",
    "    url('^(?P<id>\\d+)$', views.post_view, name='postview')\n",
    "]"
   ]
  },
  {
   "cell_type": "markdown",
   "metadata": {},
   "source": [
    "### Widoki"
   ]
  },
  {
   "cell_type": "code",
   "execution_count": null,
   "metadata": {},
   "outputs": [],
   "source": [
    "# w pliku views.py aplikacji\n",
    "\n",
    "@login_required(login_url='/user/login/')\n",
    "def post_view(request, id):\n",
    "    post = Post.objects.filter(id=id)[0]\n",
    "    context = {'post': post}\n",
    "    return render(request, 'views/post.html', context)"
   ]
  },
  {
   "cell_type": "markdown",
   "metadata": {},
   "source": [
    "### Szablony"
   ]
  },
  {
   "cell_type": "raw",
   "metadata": {},
   "source": [
    "<!-- plik views/post.html -->\n",
    "\n",
    "<html>\n",
    "    <head>\n",
    "        <title>My Django Blog</title>\n",
    "    </head>\n",
    "    <body>\n",
    "        {% for post in object_list %}\n",
    "        <h1>{{ post.title }}</h1>\n",
    "        <h3>{{ post.pub_date }}</h3>\n",
    "        {{ post.text }}\n",
    "        {% endfor %}\n",
    "    </body>\n",
    "</html>"
   ]
  },
  {
   "cell_type": "markdown",
   "metadata": {},
   "source": [
    "Alternatywnie:"
   ]
  },
  {
   "cell_type": "raw",
   "metadata": {},
   "source": [
    "<!-- plik base.html -->\n",
    "\n",
    "<html>\n",
    "    <head>\n",
    "        <title>My Django Blog</title>\n",
    "    </head>\n",
    "    <body>\n",
    "        {% block content %}\n",
    "        {% endblock %}\n",
    "    </body>\n",
    "</html>"
   ]
  },
  {
   "cell_type": "raw",
   "metadata": {},
   "source": [
    "<!-- plik views/post.html -->\n",
    "\n",
    "{% extends \"base.html\" %}\n",
    "\n",
    "{% block content %}\n",
    "    {% for post in object_list %}\n",
    "    <h1>{{ post.title }}</h1>\n",
    "    <h3>{{ post.pub_date }}</h3>\n",
    "    {{ post.text }}\n",
    "    {% endfor %}\n",
    "{% endblock %}"
   ]
  },
  {
   "cell_type": "code",
   "execution_count": null,
   "metadata": {},
   "outputs": [],
   "source": []
  }
 ],
 "metadata": {
  "kernelspec": {
   "display_name": "Python 3",
   "language": "python",
   "name": "python3"
  }
 },
 "nbformat": 4,
 "nbformat_minor": 1
}
